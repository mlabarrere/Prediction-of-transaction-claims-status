{
 "cells": [
  {
   "cell_type": "markdown",
   "metadata": {},
   "source": [
    "\n",
    "\n",
    "\n",
    "https://challengedata.ens.fr/en/challenge/39/prediction_of_transaction_claims_status.html"
   ]
  },
  {
   "cell_type": "code",
   "execution_count": 1,
   "metadata": {},
   "outputs": [],
   "source": [
    "# To support both python 2 and python 3\n",
    "from __future__ import division, print_function, unicode_literals\n",
    "\n",
    "# Common imports\n",
    "import numpy as np\n",
    "import featuretools as ft\n",
    "import pandas as pd\n",
    "from sklearn.ensemble import RandomForestClassifier\n",
    "from sklearn.model_selection import cross_val_score\n",
    "import os"
   ]
  },
  {
   "cell_type": "code",
   "execution_count": 2,
   "metadata": {},
   "outputs": [],
   "source": [
    "RANDOM_SEED = 42;\n",
    "np.random.seed(RANDOM_SEED)"
   ]
  },
  {
   "cell_type": "code",
   "execution_count": 3,
   "metadata": {},
   "outputs": [],
   "source": [
    "# To plot pretty figures\n",
    "%matplotlib inline\n",
    "import matplotlib\n",
    "import matplotlib.pyplot as plt\n",
    "plt.rcParams['axes.labelsize'] = 14\n",
    "plt.rcParams['xtick.labelsize'] = 12\n",
    "plt.rcParams['ytick.labelsize'] = 12"
   ]
  },
  {
   "cell_type": "code",
   "execution_count": 4,
   "metadata": {},
   "outputs": [],
   "source": [
    "# Where to save the figures\n",
    "PROJECT_ROOT_DIR = \".\"\n",
    "DATA_PATH = os.path.join(PROJECT_ROOT_DIR, \"data\")\n",
    "IMAGES_PATH = os.path.join(PROJECT_ROOT_DIR, \"images\")"
   ]
  },
  {
   "cell_type": "code",
   "execution_count": 5,
   "metadata": {},
   "outputs": [],
   "source": [
    "def load_data(file,data_path=DATA_PATH, sep=','):\n",
    "    csv_path = os.path.join(data_path, file)\n",
    "    return pd.read_csv(csv_path, sep)"
   ]
  },
  {
   "cell_type": "code",
   "execution_count": 6,
   "metadata": {},
   "outputs": [],
   "source": [
    "TX_data = load_data(file = \"input_train.csv\");\n",
    "STA_data = load_data(file = \"challenge_output_data_training_file_prediction_of_transaction_claims_status.csv\", sep=';');"
   ]
  },
  {
   "cell_type": "code",
   "execution_count": 7,
   "metadata": {},
   "outputs": [],
   "source": [
    "TX_data = pd.merge(TX_data, STA_data, left_index=True, right_index=True)\n",
    "#TX_data.drop([\"ID_y\",\"ID_x\"],inplace=True,axis=1)\n",
    "TX_data.drop([\"ID_y\"],inplace=True,axis=1)"
   ]
  },
  {
   "cell_type": "code",
   "execution_count": 8,
   "metadata": {},
   "outputs": [],
   "source": [
    "del STA_data"
   ]
  },
  {
   "cell_type": "code",
   "execution_count": 9,
   "metadata": {},
   "outputs": [],
   "source": [
    "#TX_data.head()"
   ]
  },
  {
   "cell_type": "code",
   "execution_count": 10,
   "metadata": {},
   "outputs": [],
   "source": [
    "#TX_data[\"CLAIM_TYPE\"].value_counts().head(10).plot.bar()"
   ]
  },
  {
   "cell_type": "code",
   "execution_count": 11,
   "metadata": {},
   "outputs": [],
   "source": [
    "#TX_data.info()"
   ]
  },
  {
   "cell_type": "code",
   "execution_count": 12,
   "metadata": {},
   "outputs": [],
   "source": [
    "def splitter(data, list_col):\n",
    "    for colname in list_col:\n",
    "        toto= data[colname].str.split('<', 1, expand=True)\n",
    "        data[colname+\"_MIN\"] = toto[0]\n",
    "        data[colname+\"_MAX\"] = toto[1]\n",
    "        data[colname+\"_MIN\"]=data[colname+\"_MIN\"].str.replace('>',\"\")\n",
    "        data.drop(colname, axis=1, inplace=True)"
   ]
  },
  {
   "cell_type": "code",
   "execution_count": 13,
   "metadata": {},
   "outputs": [],
   "source": [
    "list_col_split=[\"WARRANTIES_PRICE\",'SELLER_SCORE_COUNT','ITEM_PRICE','PURCHASE_COUNT','SHIPPING_PRICE']"
   ]
  },
  {
   "cell_type": "code",
   "execution_count": 14,
   "metadata": {},
   "outputs": [],
   "source": [
    "splitter(TX_data,list_col_split)"
   ]
  },
  {
   "cell_type": "code",
   "execution_count": 15,
   "metadata": {
    "scrolled": true
   },
   "outputs": [
    {
     "data": {
      "text/html": [
       "<div>\n",
       "<style scoped>\n",
       "    .dataframe tbody tr th:only-of-type {\n",
       "        vertical-align: middle;\n",
       "    }\n",
       "\n",
       "    .dataframe tbody tr th {\n",
       "        vertical-align: top;\n",
       "    }\n",
       "\n",
       "    .dataframe thead th {\n",
       "        text-align: right;\n",
       "    }\n",
       "</style>\n",
       "<table border=\"1\" class=\"dataframe\">\n",
       "  <thead>\n",
       "    <tr style=\"text-align: right;\">\n",
       "      <th></th>\n",
       "      <th>ID_x</th>\n",
       "      <th>SHIPPING_MODE</th>\n",
       "      <th>WARRANTIES_FLG</th>\n",
       "      <th>CARD_PAYMENT</th>\n",
       "      <th>COUPON_PAYMENT</th>\n",
       "      <th>RSP_PAYMENT</th>\n",
       "      <th>WALLET_PAYMENT</th>\n",
       "      <th>PRICECLUB_STATUS</th>\n",
       "      <th>REGISTRATION_DATE</th>\n",
       "      <th>BUYER_BIRTHDAY_DATE</th>\n",
       "      <th>...</th>\n",
       "      <th>WARRANTIES_PRICE_MIN</th>\n",
       "      <th>WARRANTIES_PRICE_MAX</th>\n",
       "      <th>SELLER_SCORE_COUNT_MIN</th>\n",
       "      <th>SELLER_SCORE_COUNT_MAX</th>\n",
       "      <th>ITEM_PRICE_MIN</th>\n",
       "      <th>ITEM_PRICE_MAX</th>\n",
       "      <th>PURCHASE_COUNT_MIN</th>\n",
       "      <th>PURCHASE_COUNT_MAX</th>\n",
       "      <th>SHIPPING_PRICE_MIN</th>\n",
       "      <th>SHIPPING_PRICE_MAX</th>\n",
       "    </tr>\n",
       "  </thead>\n",
       "  <tbody>\n",
       "    <tr>\n",
       "      <th>0</th>\n",
       "      <td>0</td>\n",
       "      <td>NORMAL</td>\n",
       "      <td>False</td>\n",
       "      <td>1</td>\n",
       "      <td>0</td>\n",
       "      <td>1</td>\n",
       "      <td>0</td>\n",
       "      <td>UNSUBSCRIBED</td>\n",
       "      <td>2015</td>\n",
       "      <td>1992.0</td>\n",
       "      <td>...</td>\n",
       "      <td>NaN</td>\n",
       "      <td>NaN</td>\n",
       "      <td>10000</td>\n",
       "      <td>100000</td>\n",
       "      <td></td>\n",
       "      <td>10</td>\n",
       "      <td></td>\n",
       "      <td>5</td>\n",
       "      <td>NaN</td>\n",
       "      <td>NaN</td>\n",
       "    </tr>\n",
       "    <tr>\n",
       "      <th>1</th>\n",
       "      <td>1</td>\n",
       "      <td>NORMAL</td>\n",
       "      <td>False</td>\n",
       "      <td>1</td>\n",
       "      <td>0</td>\n",
       "      <td>0</td>\n",
       "      <td>0</td>\n",
       "      <td>UNSUBSCRIBED</td>\n",
       "      <td>2013</td>\n",
       "      <td>1952.0</td>\n",
       "      <td>...</td>\n",
       "      <td>NaN</td>\n",
       "      <td>NaN</td>\n",
       "      <td>10000</td>\n",
       "      <td>100000</td>\n",
       "      <td></td>\n",
       "      <td>10</td>\n",
       "      <td></td>\n",
       "      <td>5</td>\n",
       "      <td>NaN</td>\n",
       "      <td>NaN</td>\n",
       "    </tr>\n",
       "    <tr>\n",
       "      <th>2</th>\n",
       "      <td>2</td>\n",
       "      <td>NORMAL</td>\n",
       "      <td>False</td>\n",
       "      <td>0</td>\n",
       "      <td>0</td>\n",
       "      <td>0</td>\n",
       "      <td>1</td>\n",
       "      <td>PLATINUM</td>\n",
       "      <td>2013</td>\n",
       "      <td>1991.0</td>\n",
       "      <td>...</td>\n",
       "      <td>NaN</td>\n",
       "      <td>NaN</td>\n",
       "      <td>10000</td>\n",
       "      <td>100000</td>\n",
       "      <td></td>\n",
       "      <td>10</td>\n",
       "      <td>50</td>\n",
       "      <td>100</td>\n",
       "      <td>NaN</td>\n",
       "      <td>NaN</td>\n",
       "    </tr>\n",
       "    <tr>\n",
       "      <th>3</th>\n",
       "      <td>3</td>\n",
       "      <td>RECOMMANDE</td>\n",
       "      <td>True</td>\n",
       "      <td>1</td>\n",
       "      <td>0</td>\n",
       "      <td>0</td>\n",
       "      <td>0</td>\n",
       "      <td>UNSUBSCRIBED</td>\n",
       "      <td>2007</td>\n",
       "      <td>1955.0</td>\n",
       "      <td>...</td>\n",
       "      <td>5</td>\n",
       "      <td>20</td>\n",
       "      <td>10000</td>\n",
       "      <td>100000</td>\n",
       "      <td>50</td>\n",
       "      <td>100</td>\n",
       "      <td>500</td>\n",
       "      <td>None</td>\n",
       "      <td>NaN</td>\n",
       "      <td>NaN</td>\n",
       "    </tr>\n",
       "    <tr>\n",
       "      <th>4</th>\n",
       "      <td>4</td>\n",
       "      <td>RECOMMANDE</td>\n",
       "      <td>False</td>\n",
       "      <td>1</td>\n",
       "      <td>0</td>\n",
       "      <td>1</td>\n",
       "      <td>0</td>\n",
       "      <td>PLATINUM</td>\n",
       "      <td>2010</td>\n",
       "      <td>1984.0</td>\n",
       "      <td>...</td>\n",
       "      <td>NaN</td>\n",
       "      <td>NaN</td>\n",
       "      <td>1000</td>\n",
       "      <td>10000</td>\n",
       "      <td>1000</td>\n",
       "      <td>5000</td>\n",
       "      <td>5</td>\n",
       "      <td>20</td>\n",
       "      <td>NaN</td>\n",
       "      <td>NaN</td>\n",
       "    </tr>\n",
       "  </tbody>\n",
       "</table>\n",
       "<p>5 rows × 28 columns</p>\n",
       "</div>"
      ],
      "text/plain": [
       "   ID_x SHIPPING_MODE  WARRANTIES_FLG  CARD_PAYMENT  COUPON_PAYMENT  \\\n",
       "0     0        NORMAL           False             1               0   \n",
       "1     1        NORMAL           False             1               0   \n",
       "2     2        NORMAL           False             0               0   \n",
       "3     3    RECOMMANDE            True             1               0   \n",
       "4     4    RECOMMANDE           False             1               0   \n",
       "\n",
       "   RSP_PAYMENT  WALLET_PAYMENT PRICECLUB_STATUS  REGISTRATION_DATE  \\\n",
       "0            1               0     UNSUBSCRIBED               2015   \n",
       "1            0               0     UNSUBSCRIBED               2013   \n",
       "2            0               1         PLATINUM               2013   \n",
       "3            0               0     UNSUBSCRIBED               2007   \n",
       "4            1               0         PLATINUM               2010   \n",
       "\n",
       "   BUYER_BIRTHDAY_DATE        ...          WARRANTIES_PRICE_MIN  \\\n",
       "0               1992.0        ...                           NaN   \n",
       "1               1952.0        ...                           NaN   \n",
       "2               1991.0        ...                           NaN   \n",
       "3               1955.0        ...                             5   \n",
       "4               1984.0        ...                           NaN   \n",
       "\n",
       "  WARRANTIES_PRICE_MAX  SELLER_SCORE_COUNT_MIN SELLER_SCORE_COUNT_MAX  \\\n",
       "0                  NaN                   10000                 100000   \n",
       "1                  NaN                   10000                 100000   \n",
       "2                  NaN                   10000                 100000   \n",
       "3                   20                   10000                 100000   \n",
       "4                  NaN                    1000                  10000   \n",
       "\n",
       "   ITEM_PRICE_MIN ITEM_PRICE_MAX PURCHASE_COUNT_MIN PURCHASE_COUNT_MAX  \\\n",
       "0                             10                                     5   \n",
       "1                             10                                     5   \n",
       "2                             10                 50                100   \n",
       "3              50            100                500               None   \n",
       "4            1000           5000                  5                 20   \n",
       "\n",
       "  SHIPPING_PRICE_MIN SHIPPING_PRICE_MAX  \n",
       "0                NaN                NaN  \n",
       "1                NaN                NaN  \n",
       "2                NaN                NaN  \n",
       "3                NaN                NaN  \n",
       "4                NaN                NaN  \n",
       "\n",
       "[5 rows x 28 columns]"
      ]
     },
     "execution_count": 15,
     "metadata": {},
     "output_type": "execute_result"
    }
   ],
   "source": [
    "TX_data.head()"
   ]
  },
  {
   "cell_type": "code",
   "execution_count": 16,
   "metadata": {},
   "outputs": [],
   "source": [
    "toto= TX_data['BUYING_DATE'].str.split('/', 1, expand=True)\n",
    "TX_data['BUYING_DATE_Month'] = toto[0]\n",
    "TX_data['BUYING_DATE_Year'] = toto[1]"
   ]
  },
  {
   "cell_type": "code",
   "execution_count": 17,
   "metadata": {},
   "outputs": [],
   "source": [
    "del toto;"
   ]
  },
  {
   "cell_type": "code",
   "execution_count": 18,
   "metadata": {},
   "outputs": [],
   "source": [
    "TX_data=TX_data.apply(pd.to_numeric, errors='ignore')"
   ]
  },
  {
   "cell_type": "markdown",
   "metadata": {},
   "source": [
    "# Feature Engineering"
   ]
  },
  {
   "cell_type": "markdown",
   "metadata": {},
   "source": [
    "## Taux de couverture de la garantie"
   ]
  },
  {
   "cell_type": "code",
   "execution_count": 19,
   "metadata": {},
   "outputs": [],
   "source": [
    "TX_data[\"WARRANTIES_COVERAGE_MIN\"]=TX_data[\"WARRANTIES_PRICE_MIN\"]*TX_data[\"ITEM_PRICE_MIN\"]*0.01\n",
    "TX_data[\"WARRANTIES_COVERAGE_MAX\"]=TX_data[\"WARRANTIES_PRICE_MAX\"]*TX_data[\"ITEM_PRICE_MAX\"]*0.01"
   ]
  },
  {
   "cell_type": "markdown",
   "metadata": {},
   "source": [
    "## Is Claim\n",
    "\n",
    "Attention, c'est un peu dangereux d'utiliser la target variable pour faire du feature engineering.\n",
    "\n",
    "Il ne faut l'utiliser que pour faire des stats par clients & vendeurs, et l'ejecter tout aussi tôt"
   ]
  },
  {
   "cell_type": "code",
   "execution_count": 20,
   "metadata": {},
   "outputs": [],
   "source": [
    "def b(row):\n",
    "        return 0 if row['CLAIM_TYPE'] == '-' else 1;"
   ]
  },
  {
   "cell_type": "code",
   "execution_count": 21,
   "metadata": {},
   "outputs": [],
   "source": [
    "TX_data['IS_CLAIM'] = TX_data.apply(b, axis=1)"
   ]
  },
  {
   "cell_type": "markdown",
   "metadata": {},
   "source": [
    "## Shipping Method\n",
    "\n",
    "Regroupement des méthodes de shipping rares sous la même catégorie.\n",
    "\n",
    "Objectif = Diminuer la complexité de la variable"
   ]
  },
  {
   "cell_type": "code",
   "execution_count": 22,
   "metadata": {},
   "outputs": [],
   "source": [
    "#TX_data[\"SHIPPING_MODE\"].value_counts().head(10).plot.bar()"
   ]
  },
  {
   "cell_type": "code",
   "execution_count": 23,
   "metadata": {},
   "outputs": [],
   "source": [
    "list_rare_delivery_type= ['EXPRESS_DELIVERY', \n",
    "                          'SO_RECOMMANDE', \n",
    "                          'MONDIAL_RELAY', \n",
    "                          'MONDIAL_RELAY_PREPAYE',\n",
    "                          'SO_POINT_RELAIS', \n",
    "                          'CHRONOPOST', \n",
    "                          'PICKUP', \n",
    "                          'Kiala']\n",
    "TX_data[\"SHIPPING_MODE\"].replace(to_replace=list_rare_delivery_type, \n",
    "                                 value=\"RARE_TYPE\", \n",
    "                                 inplace=True)"
   ]
  },
  {
   "cell_type": "markdown",
   "metadata": {},
   "source": [
    "## Customer Premium\n",
    "\n",
    "Regroupement des types de comptes payant sous la même catégorie.\n",
    "\n",
    "Objectif = Diminuer la complexité de la variable"
   ]
  },
  {
   "cell_type": "code",
   "execution_count": 24,
   "metadata": {},
   "outputs": [],
   "source": [
    "#TX_data[\"PRICECLUB_STATUS\"].value_counts().head(10).plot.bar()"
   ]
  },
  {
   "cell_type": "code",
   "execution_count": 25,
   "metadata": {},
   "outputs": [],
   "source": [
    "list_rare_delivery_type= ['PLATINUM', \n",
    "                          'SILVER', \n",
    "                          'GOLD']\n",
    "TX_data[\"PRICECLUB_STATUS\"].replace(to_replace=list_rare_delivery_type, \n",
    "                                 value=\"PREMIUM\", \n",
    "                                 inplace=True)"
   ]
  },
  {
   "cell_type": "markdown",
   "metadata": {},
   "source": [
    "## Trajet Interne\n",
    "\n",
    "Flag pour signaler un envoi non international\n",
    "\n",
    "Objectif = souligner les courts trajets"
   ]
  },
  {
   "cell_type": "code",
   "execution_count": 26,
   "metadata": {},
   "outputs": [],
   "source": [
    "#TX_data[\"SELLER_COUNTRY\"].value_counts().head(10).plot.bar()"
   ]
  },
  {
   "cell_type": "code",
   "execution_count": 27,
   "metadata": {},
   "outputs": [],
   "source": [
    "def f(row):\n",
    "        return 1 if row['SELLER_COUNTRY'] == 'FRANCE, METROPOLITAN' else 0;"
   ]
  },
  {
   "cell_type": "code",
   "execution_count": 28,
   "metadata": {},
   "outputs": [],
   "source": [
    "TX_data['FROM_FRANCE'] = TX_data.apply(f, axis=1)"
   ]
  },
  {
   "cell_type": "markdown",
   "metadata": {},
   "source": [
    "## Type de produit\n",
    "\n",
    "To do : Détecter les produits fragiles\n",
    "\n",
    "Objectif = souligner cet effet"
   ]
  },
  {
   "cell_type": "code",
   "execution_count": 29,
   "metadata": {},
   "outputs": [
    {
     "data": {
      "text/plain": [
       "<matplotlib.axes._subplots.AxesSubplot at 0x19ba0f1f518>"
      ]
     },
     "execution_count": 29,
     "metadata": {},
     "output_type": "execute_result"
    },
    {
     "data": {
      "image/png": "[encoded data removed]",
      "text/plain": [
       "<matplotlib.figure.Figure at 0x19b95a56da0>"
      ]
     },
     "metadata": {},
     "output_type": "display_data"
    }
   ],
   "source": [
    "TX_data[\"PRODUCT_TYPE\"].value_counts().head(10).plot.bar()"
   ]
  },
  {
   "cell_type": "code",
   "execution_count": 30,
   "metadata": {},
   "outputs": [],
   "source": [
    "description_product_type=TX_data['IS_CLAIM'].groupby(TX_data['PRODUCT_TYPE']).describe().reset_index()"
   ]
  },
  {
   "cell_type": "code",
   "execution_count": 31,
   "metadata": {},
   "outputs": [],
   "source": [
    "colnames_product_type=[\"PRODUCT_TYPE\",\"Count_product_type\",\"Mean_Claims_product_type\",\"STD_Claims_product_type\",\"t_1\",\"t_2\",\"t_3\",\"t_4\",\"t_5\"]\n",
    "\n",
    "description_product_type.columns=colnames_product_type\n",
    "description_product_type.drop([\"t_1\",\"t_2\",\"t_3\",\"t_4\",\"t_5\"],axis=1,inplace=True)\n",
    "description_product_type[\"Count_Claims_product_type\"]=description_product_type[\"Mean_Claims_product_type\"]*description_product_type[\"Count_product_type\"]"
   ]
  },
  {
   "cell_type": "code",
   "execution_count": 32,
   "metadata": {},
   "outputs": [],
   "source": [
    "TX_data=pd.merge(TX_data, description_product_type, on='PRODUCT_TYPE', how='outer')"
   ]
  },
  {
   "cell_type": "markdown",
   "metadata": {},
   "source": [
    "## Création d'un ID par client \n",
    "\n",
    "Objectif = créer une base de données client"
   ]
  },
  {
   "cell_type": "code",
   "execution_count": 33,
   "metadata": {},
   "outputs": [],
   "source": [
    "import hashlib"
   ]
  },
  {
   "cell_type": "code",
   "execution_count": 34,
   "metadata": {},
   "outputs": [],
   "source": [
    "def idBuyerCreator(row):\n",
    "        return hashlib.md5(\n",
    "            (str(row['REGISTRATION_DATE'])+\n",
    "             str(row[\"BUYER_DEPARTMENT\"])+\n",
    "             str(row[\"BUYER_BIRTHDAY_DATE\"])\n",
    "            ).encode()\n",
    "        ).hexdigest()"
   ]
  },
  {
   "cell_type": "code",
   "execution_count": 35,
   "metadata": {},
   "outputs": [],
   "source": [
    "TX_data['BUYER_ID'] = TX_data.apply(idBuyerCreator, axis=1)"
   ]
  },
  {
   "cell_type": "markdown",
   "metadata": {},
   "source": [
    "## Calcul du taux de claims par client\n",
    "\n",
    "Objectif = Créer de nouvelles features"
   ]
  },
  {
   "cell_type": "code",
   "execution_count": 36,
   "metadata": {},
   "outputs": [],
   "source": [
    "description_buyer=TX_data['IS_CLAIM'].groupby(TX_data['BUYER_ID']).describe().reset_index()"
   ]
  },
  {
   "cell_type": "code",
   "execution_count": 37,
   "metadata": {},
   "outputs": [],
   "source": [
    "colnames_buyer=[\"BUYER_ID\",\"Count_Buys\",\"Mean_Claims_Buys\",\"STD_Claims_Buys\",\"t_1\",\"t_2\",\"t_3\",\"t_4\",\"t_5\"]\n",
    "\n",
    "description_buyer.columns=colnames_buyer\n",
    "description_buyer.drop([\"t_1\",\"t_2\",\"t_3\",\"t_4\",\"t_5\"],axis=1,inplace=True)\n",
    "description_buyer[\"Count_Claims_Buy\"]=description_buyer[\"Mean_Claims_Buys\"]*description_buyer[\"Count_Buys\"]"
   ]
  },
  {
   "cell_type": "code",
   "execution_count": 38,
   "metadata": {},
   "outputs": [
    {
     "data": {
      "text/html": [
       "<div>\n",
       "<style scoped>\n",
       "    .dataframe tbody tr th:only-of-type {\n",
       "        vertical-align: middle;\n",
       "    }\n",
       "\n",
       "    .dataframe tbody tr th {\n",
       "        vertical-align: top;\n",
       "    }\n",
       "\n",
       "    .dataframe thead th {\n",
       "        text-align: right;\n",
       "    }\n",
       "</style>\n",
       "<table border=\"1\" class=\"dataframe\">\n",
       "  <thead>\n",
       "    <tr style=\"text-align: right;\">\n",
       "      <th></th>\n",
       "      <th>BUYER_ID</th>\n",
       "      <th>Count_Buys</th>\n",
       "      <th>Mean_Claims_Buys</th>\n",
       "      <th>STD_Claims_Buys</th>\n",
       "      <th>Count_Claims_Buy</th>\n",
       "    </tr>\n",
       "  </thead>\n",
       "  <tbody>\n",
       "    <tr>\n",
       "      <th>0</th>\n",
       "      <td>000053139cdf7ed9ffb0a711efb13967</td>\n",
       "      <td>1.0</td>\n",
       "      <td>0.00</td>\n",
       "      <td>NaN</td>\n",
       "      <td>0.0</td>\n",
       "    </tr>\n",
       "    <tr>\n",
       "      <th>1</th>\n",
       "      <td>0003c35e39322d790554cf7138bfb1ec</td>\n",
       "      <td>4.0</td>\n",
       "      <td>0.75</td>\n",
       "      <td>0.5</td>\n",
       "      <td>3.0</td>\n",
       "    </tr>\n",
       "    <tr>\n",
       "      <th>2</th>\n",
       "      <td>00058c82bd3f21436121bb513a480d6d</td>\n",
       "      <td>1.0</td>\n",
       "      <td>1.00</td>\n",
       "      <td>NaN</td>\n",
       "      <td>1.0</td>\n",
       "    </tr>\n",
       "    <tr>\n",
       "      <th>3</th>\n",
       "      <td>000759550bd8e1c9af6547e943ac76bd</td>\n",
       "      <td>2.0</td>\n",
       "      <td>0.00</td>\n",
       "      <td>0.0</td>\n",
       "      <td>0.0</td>\n",
       "    </tr>\n",
       "    <tr>\n",
       "      <th>4</th>\n",
       "      <td>000a4cd562abc96382d3c1e15202b8ca</td>\n",
       "      <td>2.0</td>\n",
       "      <td>1.00</td>\n",
       "      <td>0.0</td>\n",
       "      <td>2.0</td>\n",
       "    </tr>\n",
       "  </tbody>\n",
       "</table>\n",
       "</div>"
      ],
      "text/plain": [
       "                           BUYER_ID  Count_Buys  Mean_Claims_Buys  \\\n",
       "0  000053139cdf7ed9ffb0a711efb13967         1.0              0.00   \n",
       "1  0003c35e39322d790554cf7138bfb1ec         4.0              0.75   \n",
       "2  00058c82bd3f21436121bb513a480d6d         1.0              1.00   \n",
       "3  000759550bd8e1c9af6547e943ac76bd         2.0              0.00   \n",
       "4  000a4cd562abc96382d3c1e15202b8ca         2.0              1.00   \n",
       "\n",
       "   STD_Claims_Buys  Count_Claims_Buy  \n",
       "0              NaN               0.0  \n",
       "1              0.5               3.0  \n",
       "2              NaN               1.0  \n",
       "3              0.0               0.0  \n",
       "4              0.0               2.0  "
      ]
     },
     "execution_count": 38,
     "metadata": {},
     "output_type": "execute_result"
    }
   ],
   "source": [
    "description_buyer.head()"
   ]
  },
  {
   "cell_type": "code",
   "execution_count": 39,
   "metadata": {},
   "outputs": [],
   "source": [
    "TX_data=pd.merge(TX_data, description_buyer, on='BUYER_ID', how='outer')"
   ]
  },
  {
   "cell_type": "markdown",
   "metadata": {},
   "source": [
    "## Création d'un ID par vendeur\n",
    "\n",
    "Objectif = créer une base de données vendeur"
   ]
  },
  {
   "cell_type": "code",
   "execution_count": 40,
   "metadata": {},
   "outputs": [],
   "source": [
    "def idSellCreator(row):\n",
    "        return hashlib.md5(\n",
    "            (str(row[\"SELLER_COUNTRY\"])+\n",
    "             str(row[\"SELLER_DEPARTMENT\"])+\n",
    "             str(row[\"SELLER_SCORE_AVERAGE\"])\n",
    "            ).encode()\n",
    "        ).hexdigest()"
   ]
  },
  {
   "cell_type": "code",
   "execution_count": 41,
   "metadata": {},
   "outputs": [],
   "source": [
    "TX_data['SELLER_ID'] = TX_data.apply(idSellCreator, axis=1)"
   ]
  },
  {
   "cell_type": "code",
   "execution_count": 42,
   "metadata": {},
   "outputs": [
    {
     "data": {
      "text/plain": [
       "805"
      ]
     },
     "execution_count": 42,
     "metadata": {},
     "output_type": "execute_result"
    }
   ],
   "source": [
    "len(TX_data['SELLER_ID'].unique())"
   ]
  },
  {
   "cell_type": "markdown",
   "metadata": {},
   "source": [
    "## Calcul du taux de claims par vendeur\n",
    "\n",
    "Objectif = Créer de nouvelles features"
   ]
  },
  {
   "cell_type": "code",
   "execution_count": 43,
   "metadata": {},
   "outputs": [],
   "source": [
    "description_sellers=TX_data['IS_CLAIM'].groupby(TX_data['SELLER_ID']).describe().reset_index()"
   ]
  },
  {
   "cell_type": "code",
   "execution_count": 44,
   "metadata": {
    "scrolled": true
   },
   "outputs": [],
   "source": [
    "colnames_sell=[\"SELLER_ID\",\"Count_Sells\",\"Mean_Claims_Sells\",\"STD_Claims_Sells\",\"t_1\",\"t_2\",\"t_3\",\"t_4\",\"t_5\"]\n",
    "\n",
    "description_sellers.columns=colnames_sell\n",
    "description_sellers.drop([\"t_1\",\"t_2\",\"t_3\",\"t_4\",\"t_5\"],axis=1,inplace=True)\n",
    "description_sellers[\"Count_Claims_Sells\"]=description_sellers[\"Mean_Claims_Sells\"]*description_sellers[\"Count_Sells\"]"
   ]
  },
  {
   "cell_type": "code",
   "execution_count": 45,
   "metadata": {},
   "outputs": [],
   "source": [
    "TX_data=pd.merge(TX_data, description_sellers, on='SELLER_ID', how='outer')"
   ]
  },
  {
   "cell_type": "markdown",
   "metadata": {},
   "source": [
    "## Fusion des bases de données\n",
    "\n",
    "Objectif = Yolo"
   ]
  },
  {
   "cell_type": "code",
   "execution_count": 46,
   "metadata": {},
   "outputs": [],
   "source": [
    "list_to_drop=[\"ID_x\",\"IS_CLAIM\",\"BUYER_ID\",\"SELLER_ID\"]"
   ]
  },
  {
   "cell_type": "code",
   "execution_count": 47,
   "metadata": {},
   "outputs": [],
   "source": [
    "TX_data.drop(list_to_drop,inplace=True,axis=1)"
   ]
  },
  {
   "cell_type": "markdown",
   "metadata": {},
   "source": [
    "## On coupe\n",
    "\n",
    "Objectif = Créer un jeu de données train et test"
   ]
  },
  {
   "cell_type": "code",
   "execution_count": 48,
   "metadata": {},
   "outputs": [],
   "source": [
    "from sklearn.model_selection import train_test_split\n",
    "train_set, test_set = train_test_split(TX_data, \n",
    "                                       test_size=0.2, \n",
    "                                       random_state=RANDOM_SEED, \n",
    "                                       stratify=TX_data[\"CLAIM_TYPE\"]\n",
    "                                      )"
   ]
  },
  {
   "cell_type": "markdown",
   "metadata": {},
   "source": [
    "## Preprocess\n",
    "\n",
    "Objectif = Rendre joli tout ça"
   ]
  },
  {
   "cell_type": "code",
   "execution_count": 49,
   "metadata": {},
   "outputs": [],
   "source": [
    "def datapreprocess(data):\n",
    "    data=data.apply(pd.to_numeric, errors='ignore')\n",
    "    \n",
    "    # Y and X\n",
    "    Y=data[\"CLAIM_TYPE\"]\n",
    "    X=data.drop(\"CLAIM_TYPE\", axis=1,inplace=False)\n",
    "    # Exclude Objets\n",
    "    X=X.select_dtypes(exclude=['object'])\n",
    "    \n",
    "    # Work on fare\n",
    "    from sklearn.preprocessing import Imputer\n",
    "    imp = Imputer(missing_values='NaN',strategy='median', axis=1)\n",
    "    X=pd.DataFrame(imp.fit_transform(X),columns=X.columns.values)\n",
    " \n",
    "    return X, Y"
   ]
  },
  {
   "cell_type": "code",
   "execution_count": 50,
   "metadata": {},
   "outputs": [],
   "source": [
    "X_train,Y_train=datapreprocess(train_set)\n",
    "X_test, Y_test=datapreprocess(test_set)"
   ]
  },
  {
   "cell_type": "code",
   "execution_count": 51,
   "metadata": {},
   "outputs": [],
   "source": [
    "from sklearn.ensemble import RandomForestClassifier"
   ]
  },
  {
   "cell_type": "code",
   "execution_count": 52,
   "metadata": {},
   "outputs": [],
   "source": [
    "rnd_clf = RandomForestClassifier(n_estimators=500, \n",
    "                                 max_leaf_nodes=16, \n",
    "                                 n_jobs=-1, \n",
    "                                 random_state=RANDOM_SEED)"
   ]
  },
  {
   "cell_type": "code",
   "execution_count": 53,
   "metadata": {},
   "outputs": [
    {
     "data": {
      "text/plain": [
       "RandomForestClassifier(bootstrap=True, class_weight=None, criterion='gini',\n",
       "            max_depth=None, max_features='auto', max_leaf_nodes=16,\n",
       "            min_impurity_decrease=0.0, min_impurity_split=None,\n",
       "            min_samples_leaf=1, min_samples_split=2,\n",
       "            min_weight_fraction_leaf=0.0, n_estimators=500, n_jobs=-1,\n",
       "            oob_score=False, random_state=42, verbose=0, warm_start=False)"
      ]
     },
     "execution_count": 53,
     "metadata": {},
     "output_type": "execute_result"
    }
   ],
   "source": [
    "rnd_clf.fit(X_train, Y_train)"
   ]
  },
  {
   "cell_type": "code",
   "execution_count": 54,
   "metadata": {},
   "outputs": [],
   "source": [
    "y_pred_rf = rnd_clf.predict(X_test)"
   ]
  },
  {
   "cell_type": "code",
   "execution_count": 55,
   "metadata": {},
   "outputs": [
    {
     "name": "stdout",
     "output_type": "stream",
     "text": [
      "Confusion matrix score :\n",
      " [[9840    0    0    0  121   35    0    0]\n",
      " [ 828    0    0    0  261   95    0    0]\n",
      " [ 599    0    0    0  165   92    0    0]\n",
      " [  13    0    0    0   18    2    0    0]\n",
      " [1802    0    0    0  932  228    0    0]\n",
      " [1785    0    0    0  322  649    0    0]\n",
      " [ 540    0    0    0  212   61    0    0]\n",
      " [1029    0    0    0  200  171    0    0]]\n"
     ]
    }
   ],
   "source": [
    "from sklearn.metrics import confusion_matrix\n",
    "print(\"Confusion matrix score :\\n {}\".format(confusion_matrix(Y_test, y_pred_rf)))"
   ]
  },
  {
   "cell_type": "code",
   "execution_count": 56,
   "metadata": {},
   "outputs": [],
   "source": [
    "from sklearn.metrics import roc_auc_score\n",
    "from sklearn.preprocessing import LabelBinarizer\n",
    "\n",
    "def multiclass_roc_auc_score(truth, pred, average=\"weighted\"):\n",
    "\n",
    "    lb = LabelBinarizer()\n",
    "    lb.fit(truth)\n",
    "\n",
    "    truth = lb.transform(truth)\n",
    "    pred = lb.transform(pred)\n",
    "\n",
    "    return roc_auc_score(truth, pred, average=average)"
   ]
  },
  {
   "cell_type": "code",
   "execution_count": 57,
   "metadata": {},
   "outputs": [
    {
     "data": {
      "text/plain": [
       "0.61237821042656759"
      ]
     },
     "execution_count": 57,
     "metadata": {},
     "output_type": "execute_result"
    }
   ],
   "source": [
    "multiclass_roc_auc_score(Y_test, y_pred_rf)"
   ]
  },
  {
   "cell_type": "code",
   "execution_count": null,
   "metadata": {},
   "outputs": [],
   "source": []
  },
  {
   "cell_type": "code",
   "execution_count": null,
   "metadata": {},
   "outputs": [],
   "source": []
  }
 ],
 "metadata": {
  "kernelspec": {
   "display_name": "Python 3",
   "language": "python",
   "name": "python3"
  },
  "language_info": {
   "codemirror_mode": {
    "name": "ipython",
    "version": 3
   },
   "file_extension": ".py",
   "mimetype": "text/x-python",
   "name": "python",
   "nbconvert_exporter": "python",
   "pygments_lexer": "ipython3",
   "version": "3.6.3"
  }
 },
 "nbformat": 4,
 "nbformat_minor": 2
}
