{
 "cells": [
  {
   "cell_type": "markdown",
   "metadata": {},
   "source": [
    "# Aujourd'hui on roule sur les mecs de l'ENS\n",
    "\n",
    "\n",
    "https://challengedata.ens.fr/en/challenge/39/prediction_of_transaction_claims_status.html"
   ]
  },
  {
   "cell_type": "markdown",
   "metadata": {},
   "source": [
    "# Imports des librairies de bases\n",
    "\n",
    "On ajoutera celles qui manquent au fur et à mesure de nos besoins"
   ]
  },
  {
   "cell_type": "code",
   "execution_count": 1,
   "metadata": {},
   "outputs": [],
   "source": [
    "# To support both python 2 and python 3\n",
    "from __future__ import division, print_function, unicode_literals\n",
    "\n",
    "# Common imports\n",
    "import numpy as np\n",
    "import pandas as pd\n",
    "import os, gc"
   ]
  },
  {
   "cell_type": "markdown",
   "metadata": {},
   "source": [
    "# Définition de la seed pour le random\n",
    "\n",
    "Très important pour qu'on voit les mêmes choses entre nos deux ordis"
   ]
  },
  {
   "cell_type": "code",
   "execution_count": 2,
   "metadata": {},
   "outputs": [],
   "source": [
    "RANDOM_SEED = 42;\n",
    "np.random.seed(RANDOM_SEED)"
   ]
  },
  {
   "cell_type": "markdown",
   "metadata": {},
   "source": [
    "# Définition des paramètres pour Matplot\n",
    "\n",
    "Rien de bien intéréssant"
   ]
  },
  {
   "cell_type": "code",
   "execution_count": 3,
   "metadata": {},
   "outputs": [],
   "source": [
    "# To plot pretty figures\n",
    "%matplotlib inline\n",
    "import matplotlib\n",
    "import matplotlib.pyplot as plt\n",
    "plt.rcParams['axes.labelsize'] = 14\n",
    "plt.rcParams['xtick.labelsize'] = 12\n",
    "plt.rcParams['ytick.labelsize'] = 12"
   ]
  },
  {
   "cell_type": "markdown",
   "metadata": {},
   "source": [
    "# Set des variables globales\n",
    "\n",
    "Attention, je n'utilise les variables globales pour la gestion des fichiers. Sinon, c'est mort"
   ]
  },
  {
   "cell_type": "code",
   "execution_count": 4,
   "metadata": {},
   "outputs": [],
   "source": [
    "# Where to save the figures\n",
    "PROJECT_ROOT_DIR = \".\"\n",
    "DATA_PATH = os.path.join(PROJECT_ROOT_DIR, \"data\")\n",
    "DATA_PROCESSED = os.path.join(PROJECT_ROOT_DIR, \"data_processed\")"
   ]
  },
  {
   "cell_type": "markdown",
   "metadata": {},
   "source": [
    "# Fonction pour load les libraires\n",
    "\n",
    "En vrai, on a juste besoin de pd.read_csv, mais c'était pour faire joli"
   ]
  },
  {
   "cell_type": "code",
   "execution_count": 5,
   "metadata": {},
   "outputs": [],
   "source": [
    "def load_data(file,data_path=DATA_PATH, sep=','):\n",
    "    csv_path = os.path.join(data_path, file)\n",
    "    return pd.read_csv(csv_path, sep)"
   ]
  },
  {
   "cell_type": "markdown",
   "metadata": {},
   "source": [
    "# On load les jeux de données\n",
    "\n",
    "Seulement le train (input_train) pour le moment. Et le \"Y\" des lignes dans le fichier avec le long nom.\n",
    "Je ne sais pas pourquoi ils ont tout divisé, mais peût être pour filter les mecs qui ne savent pas fire des jointures."
   ]
  },
  {
   "cell_type": "code",
   "execution_count": 6,
   "metadata": {},
   "outputs": [],
   "source": [
    "TX_data = load_data(file = \"input_train.csv\");\n",
    "STA_data = load_data(file = \"challenge_output_data_training_file_prediction_of_transaction_claims_status.csv\", sep=';');"
   ]
  },
  {
   "cell_type": "markdown",
   "metadata": {},
   "source": [
    "# Jointure entre les X et Y"
   ]
  },
  {
   "cell_type": "code",
   "execution_count": 7,
   "metadata": {},
   "outputs": [],
   "source": [
    "TX_data = pd.merge(TX_data, STA_data, left_index=True, right_index=True)\n",
    "TX_data.drop([\"ID_y\",\"ID_x\"],inplace=True,axis=1)\n",
    "TX_data=TX_data.apply(pd.to_numeric, errors='ignore')\n",
    "\n",
    "del STA_data #Je supprime toujours les variables inutiles pour liberer ma RAM (qui est très faible)"
   ]
  },
  {
   "cell_type": "markdown",
   "metadata": {},
   "source": [
    "### Je laisse ne commentaire les fonctions qui m'ont été utiles pour analyser la BDD"
   ]
  },
  {
   "cell_type": "code",
   "execution_count": 8,
   "metadata": {},
   "outputs": [],
   "source": [
    "#TX_data.head() "
   ]
  },
  {
   "cell_type": "code",
   "execution_count": 9,
   "metadata": {},
   "outputs": [],
   "source": [
    "#TX_data[\"CLAIM_TYPE\"].value_counts().head(10).plot.bar()"
   ]
  },
  {
   "cell_type": "code",
   "execution_count": 10,
   "metadata": {},
   "outputs": [],
   "source": [
    "#TX_data.info()"
   ]
  },
  {
   "cell_type": "markdown",
   "metadata": {},
   "source": [
    "# Fonction de mise en forme (attention, sportive)\n",
    "\n",
    "Dans la BDD, j'ai vu pas mal de truc du genre \"20<50\", inutilisables. Donc, j'ai voulu splité pour faire une colonne avec le \"20\" (MIN), et une autre avec le \"50\" (MAX).\n",
    "Donc j'ai fait cette fonction qui prend en entrée la BDD, une liste de noms de colones à traiter, et modifie la base de donnée directement."
   ]
  },
  {
   "cell_type": "code",
   "execution_count": 11,
   "metadata": {},
   "outputs": [],
   "source": [
    "def splitter(data, list_col):\n",
    "    for colname in list_col:# Pour chaque nom de colonne spécifié\n",
    "        toto= data[colname].str.split('<', 1, expand=True)# Split sur le char \"<\" de la colonne. Cette fonction crée 2 colonnes : Une avec ce qu'il y a a gauche du split, une autre à droite\n",
    "        data[colname+\"_MIN\"] = toto[0]# On prend la partie gauche pour faire le MIN\n",
    "        data[colname+\"_MAX\"] = toto[1]# La droite pour le MAX\n",
    "        data[colname+\"_MIN\"]=data[colname+\"_MIN\"].str.replace('>',\"\")# Parfois il y a le signe \">\", donc je le vire simplement\n",
    "        data[colname+\"_MIN\"].replace(\"\",0,inplace=True)\n",
    "        data[colname+\"_MIN\"].fillna(value=0, inplace=True) \n",
    "        data.drop(colname, axis=1, inplace=True)        # Et je drop la colonne inutile maintenant. (Inplace = True veut dire modification de la BDD originale)\n",
    "        "
   ]
  },
  {
   "cell_type": "code",
   "execution_count": 12,
   "metadata": {},
   "outputs": [],
   "source": [
    "list_col_split=[\"WARRANTIES_PRICE\",'SELLER_SCORE_COUNT','ITEM_PRICE','PURCHASE_COUNT','SHIPPING_PRICE']"
   ]
  },
  {
   "cell_type": "code",
   "execution_count": 13,
   "metadata": {},
   "outputs": [],
   "source": [
    "splitter(TX_data,list_col_split)\n",
    "del list_col_split"
   ]
  },
  {
   "cell_type": "code",
   "execution_count": 14,
   "metadata": {},
   "outputs": [
    {
     "data": {
      "text/html": [
       "<div>\n",
       "<style scoped>\n",
       "    .dataframe tbody tr th:only-of-type {\n",
       "        vertical-align: middle;\n",
       "    }\n",
       "\n",
       "    .dataframe tbody tr th {\n",
       "        vertical-align: top;\n",
       "    }\n",
       "\n",
       "    .dataframe thead th {\n",
       "        text-align: right;\n",
       "    }\n",
       "</style>\n",
       "<table border=\"1\" class=\"dataframe\">\n",
       "  <thead>\n",
       "    <tr style=\"text-align: right;\">\n",
       "      <th></th>\n",
       "      <th>SHIPPING_MODE</th>\n",
       "      <th>WARRANTIES_FLG</th>\n",
       "      <th>CARD_PAYMENT</th>\n",
       "      <th>COUPON_PAYMENT</th>\n",
       "      <th>RSP_PAYMENT</th>\n",
       "      <th>WALLET_PAYMENT</th>\n",
       "      <th>PRICECLUB_STATUS</th>\n",
       "      <th>REGISTRATION_DATE</th>\n",
       "      <th>BUYER_BIRTHDAY_DATE</th>\n",
       "      <th>BUYER_DEPARTMENT</th>\n",
       "      <th>...</th>\n",
       "      <th>WARRANTIES_PRICE_MIN</th>\n",
       "      <th>WARRANTIES_PRICE_MAX</th>\n",
       "      <th>SELLER_SCORE_COUNT_MIN</th>\n",
       "      <th>SELLER_SCORE_COUNT_MAX</th>\n",
       "      <th>ITEM_PRICE_MIN</th>\n",
       "      <th>ITEM_PRICE_MAX</th>\n",
       "      <th>PURCHASE_COUNT_MIN</th>\n",
       "      <th>PURCHASE_COUNT_MAX</th>\n",
       "      <th>SHIPPING_PRICE_MIN</th>\n",
       "      <th>SHIPPING_PRICE_MAX</th>\n",
       "    </tr>\n",
       "  </thead>\n",
       "  <tbody>\n",
       "    <tr>\n",
       "      <th>0</th>\n",
       "      <td>NORMAL</td>\n",
       "      <td>False</td>\n",
       "      <td>1</td>\n",
       "      <td>0</td>\n",
       "      <td>1</td>\n",
       "      <td>0</td>\n",
       "      <td>UNSUBSCRIBED</td>\n",
       "      <td>2015</td>\n",
       "      <td>1992.0</td>\n",
       "      <td>34</td>\n",
       "      <td>...</td>\n",
       "      <td>0</td>\n",
       "      <td>NaN</td>\n",
       "      <td>10000</td>\n",
       "      <td>100000</td>\n",
       "      <td>0</td>\n",
       "      <td>10</td>\n",
       "      <td>0</td>\n",
       "      <td>5</td>\n",
       "      <td>0</td>\n",
       "      <td>NaN</td>\n",
       "    </tr>\n",
       "    <tr>\n",
       "      <th>1</th>\n",
       "      <td>NORMAL</td>\n",
       "      <td>False</td>\n",
       "      <td>1</td>\n",
       "      <td>0</td>\n",
       "      <td>0</td>\n",
       "      <td>0</td>\n",
       "      <td>UNSUBSCRIBED</td>\n",
       "      <td>2013</td>\n",
       "      <td>1952.0</td>\n",
       "      <td>77</td>\n",
       "      <td>...</td>\n",
       "      <td>0</td>\n",
       "      <td>NaN</td>\n",
       "      <td>10000</td>\n",
       "      <td>100000</td>\n",
       "      <td>0</td>\n",
       "      <td>10</td>\n",
       "      <td>0</td>\n",
       "      <td>5</td>\n",
       "      <td>0</td>\n",
       "      <td>NaN</td>\n",
       "    </tr>\n",
       "    <tr>\n",
       "      <th>2</th>\n",
       "      <td>NORMAL</td>\n",
       "      <td>False</td>\n",
       "      <td>0</td>\n",
       "      <td>0</td>\n",
       "      <td>0</td>\n",
       "      <td>1</td>\n",
       "      <td>PLATINUM</td>\n",
       "      <td>2013</td>\n",
       "      <td>1991.0</td>\n",
       "      <td>58</td>\n",
       "      <td>...</td>\n",
       "      <td>0</td>\n",
       "      <td>NaN</td>\n",
       "      <td>10000</td>\n",
       "      <td>100000</td>\n",
       "      <td>0</td>\n",
       "      <td>10</td>\n",
       "      <td>50</td>\n",
       "      <td>100</td>\n",
       "      <td>0</td>\n",
       "      <td>NaN</td>\n",
       "    </tr>\n",
       "    <tr>\n",
       "      <th>3</th>\n",
       "      <td>RECOMMANDE</td>\n",
       "      <td>True</td>\n",
       "      <td>1</td>\n",
       "      <td>0</td>\n",
       "      <td>0</td>\n",
       "      <td>0</td>\n",
       "      <td>UNSUBSCRIBED</td>\n",
       "      <td>2007</td>\n",
       "      <td>1955.0</td>\n",
       "      <td>31</td>\n",
       "      <td>...</td>\n",
       "      <td>5</td>\n",
       "      <td>20</td>\n",
       "      <td>10000</td>\n",
       "      <td>100000</td>\n",
       "      <td>50</td>\n",
       "      <td>100</td>\n",
       "      <td>500</td>\n",
       "      <td>None</td>\n",
       "      <td>0</td>\n",
       "      <td>NaN</td>\n",
       "    </tr>\n",
       "    <tr>\n",
       "      <th>4</th>\n",
       "      <td>RECOMMANDE</td>\n",
       "      <td>False</td>\n",
       "      <td>1</td>\n",
       "      <td>0</td>\n",
       "      <td>1</td>\n",
       "      <td>0</td>\n",
       "      <td>PLATINUM</td>\n",
       "      <td>2010</td>\n",
       "      <td>1984.0</td>\n",
       "      <td>93</td>\n",
       "      <td>...</td>\n",
       "      <td>0</td>\n",
       "      <td>NaN</td>\n",
       "      <td>1000</td>\n",
       "      <td>10000</td>\n",
       "      <td>1000</td>\n",
       "      <td>5000</td>\n",
       "      <td>5</td>\n",
       "      <td>20</td>\n",
       "      <td>0</td>\n",
       "      <td>NaN</td>\n",
       "    </tr>\n",
       "  </tbody>\n",
       "</table>\n",
       "<p>5 rows × 27 columns</p>\n",
       "</div>"
      ],
      "text/plain": [
       "  SHIPPING_MODE  WARRANTIES_FLG  CARD_PAYMENT  COUPON_PAYMENT  RSP_PAYMENT  \\\n",
       "0        NORMAL           False             1               0            1   \n",
       "1        NORMAL           False             1               0            0   \n",
       "2        NORMAL           False             0               0            0   \n",
       "3    RECOMMANDE            True             1               0            0   \n",
       "4    RECOMMANDE           False             1               0            1   \n",
       "\n",
       "   WALLET_PAYMENT PRICECLUB_STATUS  REGISTRATION_DATE  BUYER_BIRTHDAY_DATE  \\\n",
       "0               0     UNSUBSCRIBED               2015               1992.0   \n",
       "1               0     UNSUBSCRIBED               2013               1952.0   \n",
       "2               1         PLATINUM               2013               1991.0   \n",
       "3               0     UNSUBSCRIBED               2007               1955.0   \n",
       "4               0         PLATINUM               2010               1984.0   \n",
       "\n",
       "   BUYER_DEPARTMENT        ...         WARRANTIES_PRICE_MIN  \\\n",
       "0                34        ...                            0   \n",
       "1                77        ...                            0   \n",
       "2                58        ...                            0   \n",
       "3                31        ...                            5   \n",
       "4                93        ...                            0   \n",
       "\n",
       "   WARRANTIES_PRICE_MAX SELLER_SCORE_COUNT_MIN  SELLER_SCORE_COUNT_MAX  \\\n",
       "0                   NaN                  10000                  100000   \n",
       "1                   NaN                  10000                  100000   \n",
       "2                   NaN                  10000                  100000   \n",
       "3                    20                  10000                  100000   \n",
       "4                   NaN                   1000                   10000   \n",
       "\n",
       "  ITEM_PRICE_MIN ITEM_PRICE_MAX PURCHASE_COUNT_MIN PURCHASE_COUNT_MAX  \\\n",
       "0              0             10                  0                  5   \n",
       "1              0             10                  0                  5   \n",
       "2              0             10                 50                100   \n",
       "3             50            100                500               None   \n",
       "4           1000           5000                  5                 20   \n",
       "\n",
       "  SHIPPING_PRICE_MIN SHIPPING_PRICE_MAX  \n",
       "0                  0                NaN  \n",
       "1                  0                NaN  \n",
       "2                  0                NaN  \n",
       "3                  0                NaN  \n",
       "4                  0                NaN  \n",
       "\n",
       "[5 rows x 27 columns]"
      ]
     },
     "execution_count": 14,
     "metadata": {},
     "output_type": "execute_result"
    }
   ],
   "source": [
    "TX_data.head()"
   ]
  },
  {
   "cell_type": "markdown",
   "metadata": {},
   "source": [
    "#### Petit problème : quelques trucs en MAX sont à \"none\", à corriger"
   ]
  },
  {
   "cell_type": "code",
   "execution_count": 15,
   "metadata": {},
   "outputs": [],
   "source": [
    "def mulItem(row):\n",
    "        return int(row['ITEM_PRICE_MIN'])*2 if row['ITEM_PRICE_MAX'] == None else row['ITEM_PRICE_MAX']\n",
    "\n",
    "TX_data['ITEM_PRICE_MAX'] = TX_data.apply(mulItem, axis=1)"
   ]
  },
  {
   "cell_type": "code",
   "execution_count": 16,
   "metadata": {},
   "outputs": [],
   "source": [
    "def mulPurs(row):\n",
    "        return int(row['PURCHASE_COUNT_MIN'])*2 if row['PURCHASE_COUNT_MAX'] == None else row['PURCHASE_COUNT_MAX']\n",
    " \n",
    "TX_data['PURCHASE_COUNT_MAX'] = TX_data.apply(mulPurs, axis=1)"
   ]
  },
  {
   "cell_type": "code",
   "execution_count": 17,
   "metadata": {},
   "outputs": [],
   "source": [
    "def mulShip(row):\n",
    "        return int(row['SHIPPING_PRICE_MIN'])*2 if row['SHIPPING_PRICE_MAX'] == None else row['SHIPPING_PRICE_MAX']\n",
    " \n",
    "TX_data['SHIPPING_PRICE_MAX'] = TX_data.apply(mulShip, axis=1)\n",
    "TX_data.SHIPPING_PRICE_MAX.fillna(0, inplace=True)"
   ]
  },
  {
   "cell_type": "code",
   "execution_count": 18,
   "metadata": {
    "scrolled": false
   },
   "outputs": [
    {
     "data": {
      "text/html": [
       "<div>\n",
       "<style scoped>\n",
       "    .dataframe tbody tr th:only-of-type {\n",
       "        vertical-align: middle;\n",
       "    }\n",
       "\n",
       "    .dataframe tbody tr th {\n",
       "        vertical-align: top;\n",
       "    }\n",
       "\n",
       "    .dataframe thead th {\n",
       "        text-align: right;\n",
       "    }\n",
       "</style>\n",
       "<table border=\"1\" class=\"dataframe\">\n",
       "  <thead>\n",
       "    <tr style=\"text-align: right;\">\n",
       "      <th></th>\n",
       "      <th>SHIPPING_MODE</th>\n",
       "      <th>WARRANTIES_FLG</th>\n",
       "      <th>CARD_PAYMENT</th>\n",
       "      <th>COUPON_PAYMENT</th>\n",
       "      <th>RSP_PAYMENT</th>\n",
       "      <th>WALLET_PAYMENT</th>\n",
       "      <th>PRICECLUB_STATUS</th>\n",
       "      <th>REGISTRATION_DATE</th>\n",
       "      <th>BUYER_BIRTHDAY_DATE</th>\n",
       "      <th>BUYER_DEPARTMENT</th>\n",
       "      <th>...</th>\n",
       "      <th>WARRANTIES_PRICE_MIN</th>\n",
       "      <th>WARRANTIES_PRICE_MAX</th>\n",
       "      <th>SELLER_SCORE_COUNT_MIN</th>\n",
       "      <th>SELLER_SCORE_COUNT_MAX</th>\n",
       "      <th>ITEM_PRICE_MIN</th>\n",
       "      <th>ITEM_PRICE_MAX</th>\n",
       "      <th>PURCHASE_COUNT_MIN</th>\n",
       "      <th>PURCHASE_COUNT_MAX</th>\n",
       "      <th>SHIPPING_PRICE_MIN</th>\n",
       "      <th>SHIPPING_PRICE_MAX</th>\n",
       "    </tr>\n",
       "  </thead>\n",
       "  <tbody>\n",
       "    <tr>\n",
       "      <th>0</th>\n",
       "      <td>NORMAL</td>\n",
       "      <td>False</td>\n",
       "      <td>1</td>\n",
       "      <td>0</td>\n",
       "      <td>1</td>\n",
       "      <td>0</td>\n",
       "      <td>UNSUBSCRIBED</td>\n",
       "      <td>2015</td>\n",
       "      <td>1992.0</td>\n",
       "      <td>34</td>\n",
       "      <td>...</td>\n",
       "      <td>0</td>\n",
       "      <td>NaN</td>\n",
       "      <td>10000</td>\n",
       "      <td>100000</td>\n",
       "      <td>0</td>\n",
       "      <td>10</td>\n",
       "      <td>0</td>\n",
       "      <td>5</td>\n",
       "      <td>0</td>\n",
       "      <td>0</td>\n",
       "    </tr>\n",
       "    <tr>\n",
       "      <th>1</th>\n",
       "      <td>NORMAL</td>\n",
       "      <td>False</td>\n",
       "      <td>1</td>\n",
       "      <td>0</td>\n",
       "      <td>0</td>\n",
       "      <td>0</td>\n",
       "      <td>UNSUBSCRIBED</td>\n",
       "      <td>2013</td>\n",
       "      <td>1952.0</td>\n",
       "      <td>77</td>\n",
       "      <td>...</td>\n",
       "      <td>0</td>\n",
       "      <td>NaN</td>\n",
       "      <td>10000</td>\n",
       "      <td>100000</td>\n",
       "      <td>0</td>\n",
       "      <td>10</td>\n",
       "      <td>0</td>\n",
       "      <td>5</td>\n",
       "      <td>0</td>\n",
       "      <td>0</td>\n",
       "    </tr>\n",
       "    <tr>\n",
       "      <th>2</th>\n",
       "      <td>NORMAL</td>\n",
       "      <td>False</td>\n",
       "      <td>0</td>\n",
       "      <td>0</td>\n",
       "      <td>0</td>\n",
       "      <td>1</td>\n",
       "      <td>PLATINUM</td>\n",
       "      <td>2013</td>\n",
       "      <td>1991.0</td>\n",
       "      <td>58</td>\n",
       "      <td>...</td>\n",
       "      <td>0</td>\n",
       "      <td>NaN</td>\n",
       "      <td>10000</td>\n",
       "      <td>100000</td>\n",
       "      <td>0</td>\n",
       "      <td>10</td>\n",
       "      <td>50</td>\n",
       "      <td>100</td>\n",
       "      <td>0</td>\n",
       "      <td>0</td>\n",
       "    </tr>\n",
       "    <tr>\n",
       "      <th>3</th>\n",
       "      <td>RECOMMANDE</td>\n",
       "      <td>True</td>\n",
       "      <td>1</td>\n",
       "      <td>0</td>\n",
       "      <td>0</td>\n",
       "      <td>0</td>\n",
       "      <td>UNSUBSCRIBED</td>\n",
       "      <td>2007</td>\n",
       "      <td>1955.0</td>\n",
       "      <td>31</td>\n",
       "      <td>...</td>\n",
       "      <td>5</td>\n",
       "      <td>20</td>\n",
       "      <td>10000</td>\n",
       "      <td>100000</td>\n",
       "      <td>50</td>\n",
       "      <td>100</td>\n",
       "      <td>500</td>\n",
       "      <td>1000</td>\n",
       "      <td>0</td>\n",
       "      <td>0</td>\n",
       "    </tr>\n",
       "    <tr>\n",
       "      <th>4</th>\n",
       "      <td>RECOMMANDE</td>\n",
       "      <td>False</td>\n",
       "      <td>1</td>\n",
       "      <td>0</td>\n",
       "      <td>1</td>\n",
       "      <td>0</td>\n",
       "      <td>PLATINUM</td>\n",
       "      <td>2010</td>\n",
       "      <td>1984.0</td>\n",
       "      <td>93</td>\n",
       "      <td>...</td>\n",
       "      <td>0</td>\n",
       "      <td>NaN</td>\n",
       "      <td>1000</td>\n",
       "      <td>10000</td>\n",
       "      <td>1000</td>\n",
       "      <td>5000</td>\n",
       "      <td>5</td>\n",
       "      <td>20</td>\n",
       "      <td>0</td>\n",
       "      <td>0</td>\n",
       "    </tr>\n",
       "  </tbody>\n",
       "</table>\n",
       "<p>5 rows × 27 columns</p>\n",
       "</div>"
      ],
      "text/plain": [
       "  SHIPPING_MODE  WARRANTIES_FLG  CARD_PAYMENT  COUPON_PAYMENT  RSP_PAYMENT  \\\n",
       "0        NORMAL           False             1               0            1   \n",
       "1        NORMAL           False             1               0            0   \n",
       "2        NORMAL           False             0               0            0   \n",
       "3    RECOMMANDE            True             1               0            0   \n",
       "4    RECOMMANDE           False             1               0            1   \n",
       "\n",
       "   WALLET_PAYMENT PRICECLUB_STATUS  REGISTRATION_DATE  BUYER_BIRTHDAY_DATE  \\\n",
       "0               0     UNSUBSCRIBED               2015               1992.0   \n",
       "1               0     UNSUBSCRIBED               2013               1952.0   \n",
       "2               1         PLATINUM               2013               1991.0   \n",
       "3               0     UNSUBSCRIBED               2007               1955.0   \n",
       "4               0         PLATINUM               2010               1984.0   \n",
       "\n",
       "   BUYER_DEPARTMENT        ...         WARRANTIES_PRICE_MIN  \\\n",
       "0                34        ...                            0   \n",
       "1                77        ...                            0   \n",
       "2                58        ...                            0   \n",
       "3                31        ...                            5   \n",
       "4                93        ...                            0   \n",
       "\n",
       "   WARRANTIES_PRICE_MAX SELLER_SCORE_COUNT_MIN  SELLER_SCORE_COUNT_MAX  \\\n",
       "0                   NaN                  10000                  100000   \n",
       "1                   NaN                  10000                  100000   \n",
       "2                   NaN                  10000                  100000   \n",
       "3                    20                  10000                  100000   \n",
       "4                   NaN                   1000                   10000   \n",
       "\n",
       "  ITEM_PRICE_MIN ITEM_PRICE_MAX PURCHASE_COUNT_MIN PURCHASE_COUNT_MAX  \\\n",
       "0              0             10                  0                  5   \n",
       "1              0             10                  0                  5   \n",
       "2              0             10                 50                100   \n",
       "3             50            100                500               1000   \n",
       "4           1000           5000                  5                 20   \n",
       "\n",
       "  SHIPPING_PRICE_MIN SHIPPING_PRICE_MAX  \n",
       "0                  0                  0  \n",
       "1                  0                  0  \n",
       "2                  0                  0  \n",
       "3                  0                  0  \n",
       "4                  0                  0  \n",
       "\n",
       "[5 rows x 27 columns]"
      ]
     },
     "execution_count": 18,
     "metadata": {},
     "output_type": "execute_result"
    }
   ],
   "source": [
    "# Véification\n",
    "TX_data.head()"
   ]
  },
  {
   "cell_type": "code",
   "execution_count": 19,
   "metadata": {},
   "outputs": [],
   "source": [
    "# Comme dans la fonction Splitter (c'est pareil, mais sans la boucle for)\n",
    "# On coupe la date  sur le char \"/\", et on prend gauche et droite\n",
    "\n",
    "toto= TX_data['BUYING_DATE'].str.split('/', 1, expand=True)\n",
    "TX_data['BUYING_DATE_Month'] = toto[0]\n",
    "TX_data['BUYING_DATE_Year'] = toto[1]\n",
    "TX_data.drop('BUYING_DATE', axis=1, inplace=True)"
   ]
  },
  {
   "cell_type": "code",
   "execution_count": 20,
   "metadata": {},
   "outputs": [],
   "source": [
    "del toto; # On libère la RAM"
   ]
  },
  {
   "cell_type": "code",
   "execution_count": 21,
   "metadata": {},
   "outputs": [],
   "source": [
    "# Là, je demande à Pandas de transformer en numérique tout ce qu'il peut l'être dans la BDD. \n",
    "# Comme ça la commande \"TX_data.info()\" me montrera toutes les variables encore catégorielles\n",
    "\n",
    "TX_data=TX_data.apply(pd.to_numeric, errors='ignore')"
   ]
  },
  {
   "cell_type": "code",
   "execution_count": 22,
   "metadata": {},
   "outputs": [],
   "source": [
    "#TX_data.info()"
   ]
  },
  {
   "cell_type": "markdown",
   "metadata": {},
   "source": [
    "# Feature Engineering"
   ]
  },
  {
   "cell_type": "markdown",
   "metadata": {},
   "source": [
    "Là, faut être créatif, et aider l'algorithme à voir des choses, et se focaliser sur d'autres.\n",
    "\n",
    "Je vais rarement drop des colonnes, car à ce moment là, je ne sais pas ce qui est utile ou pas"
   ]
  },
  {
   "cell_type": "markdown",
   "metadata": {},
   "source": [
    "## A une garantie"
   ]
  },
  {
   "cell_type": "code",
   "execution_count": 23,
   "metadata": {},
   "outputs": [],
   "source": [
    "mapper= {True : 1, False : 0 } # juste un dico pour dire True = 1, False = 0"
   ]
  },
  {
   "cell_type": "code",
   "execution_count": 24,
   "metadata": {},
   "outputs": [],
   "source": [
    "# Je demande à Pandas de transformer les True et Falses en 1 et 0\n",
    "TX_data[\"WARRANTIES_FLG\"] = TX_data[\"WARRANTIES_FLG\"].map(mapper)\n",
    "del mapper;"
   ]
  },
  {
   "cell_type": "markdown",
   "metadata": {},
   "source": [
    "## Taux de couverture de la garantie"
   ]
  },
  {
   "cell_type": "code",
   "execution_count": 25,
   "metadata": {},
   "outputs": [],
   "source": [
    "# Beaucoup de valeurs en NaN car cela correspond à \"pas de garantie\". \n",
    "# Donc je dis que si il n'y a pas de garantie, elle est à zéro\n",
    "\n",
    "TX_data.WARRANTIES_PRICE_MAX.fillna(value=0, inplace=True)\n",
    "TX_data.WARRANTIES_PRICE_MIN.fillna(value=0, inplace=True)"
   ]
  },
  {
   "cell_type": "code",
   "execution_count": 26,
   "metadata": {},
   "outputs": [],
   "source": [
    "# Là, je fais le pourcentage de couverture de la garantie.\n",
    "# le \"+0.1\" sert à se protéger des divisions par zéros\n",
    "\n",
    "TX_data[\"WARRANTIES_COVERAGE_MIN\"]=TX_data[\"WARRANTIES_PRICE_MIN\"]/(TX_data[\"ITEM_PRICE_MIN\"]+0.1)\n",
    "TX_data[\"WARRANTIES_COVERAGE_MAX\"]=TX_data[\"WARRANTIES_PRICE_MAX\"]/(TX_data[\"ITEM_PRICE_MAX\"]+0.1)"
   ]
  },
  {
   "cell_type": "markdown",
   "metadata": {},
   "source": [
    "## Is Claim\n",
    "\n",
    "Attention, c'est un peu dangereux d'utiliser la target variable pour faire du feature engineering.\n",
    "\n",
    "Mais ici, je veux créer des \"cartes d'identité\" par vendeur et acheteur, pour reperer les bad guys. Donc je dois connaitre le taux de rejet de chacun. Ce que je vais faire plus tard."
   ]
  },
  {
   "cell_type": "code",
   "execution_count": 27,
   "metadata": {},
   "outputs": [],
   "source": [
    "# Fonction qui prend une ligne de la BDD en entrée, et dit \"Si c'est - alors on renvoit 0, sinon 1\n",
    "def b(row):\n",
    "        return 0 if row['CLAIM_TYPE'] == '-' else 1;"
   ]
  },
  {
   "cell_type": "code",
   "execution_count": 28,
   "metadata": {},
   "outputs": [],
   "source": [
    "# Je l'applique à la base de données\n",
    "TX_data['IS_CLAIM'] = TX_data.apply(b, axis=1)"
   ]
  },
  {
   "cell_type": "markdown",
   "metadata": {},
   "source": [
    "## Shipping Method\n",
    "\n",
    "Regroupement des méthodes de shipping rares sous la même catégorie.\n",
    "\n",
    "Objectif = Diminuer la complexité de la variable"
   ]
  },
  {
   "cell_type": "code",
   "execution_count": 29,
   "metadata": {},
   "outputs": [],
   "source": [
    "#TX_data[\"SHIPPING_MODE\"].value_counts().head(10).plot.bar()"
   ]
  },
  {
   "cell_type": "code",
   "execution_count": 30,
   "metadata": {},
   "outputs": [],
   "source": [
    "list_rare_delivery_type = ['EXPRESS_DELIVERY',\n",
    "                          'SO_RECOMMANDE',\n",
    "                          'MONDIAL_RELAY',\n",
    "                          'MONDIAL_RELAY_PREPAYE',\n",
    "                          'SO_POINT_RELAIS',\n",
    "                          'CHRONOPOST',\n",
    "                          'PICKUP',\n",
    "                          'Kiala']\n",
    "TX_data[\"SHIPPING_MODE\"].replace(to_replace=list_rare_delivery_type,\n",
    "                                 value=\"RARE_TYPE\",\n",
    "                                 inplace=True)\n",
    "del list_rare_delivery_type;"
   ]
  },
  {
   "cell_type": "code",
   "execution_count": 31,
   "metadata": {},
   "outputs": [],
   "source": [
    "TX_data = pd.merge(TX_data, \n",
    "                   pd.get_dummies(TX_data[\"SHIPPING_MODE\"]), \n",
    "                   left_index=True, \n",
    "                   right_index=True)"
   ]
  },
  {
   "cell_type": "code",
   "execution_count": 32,
   "metadata": {},
   "outputs": [],
   "source": [
    "TX_data.drop(\"SHIPPING_MODE\",\n",
    "             axis=1,\n",
    "             inplace=True)"
   ]
  },
  {
   "cell_type": "markdown",
   "metadata": {},
   "source": [
    "## Customer Premium\n",
    "\n",
    "Regroupement des types de comptes payant sous la même catégorie.\n",
    "\n",
    "Objectif = Diminuer la complexité de la variable"
   ]
  },
  {
   "cell_type": "code",
   "execution_count": 33,
   "metadata": {},
   "outputs": [],
   "source": [
    "#TX_data[\"PRICECLUB_STATUS\"].value_counts().head(10).plot.bar()"
   ]
  },
  {
   "cell_type": "code",
   "execution_count": 34,
   "metadata": {},
   "outputs": [],
   "source": [
    "list_rare_delivery_type= ['PLATINUM', \n",
    "                          'SILVER', \n",
    "                          'GOLD']\n",
    "TX_data[\"PRICECLUB_STATUS\"].replace(to_replace=list_rare_delivery_type, \n",
    "                                 value=\"PREMIUM\", \n",
    "                                 inplace=True)\n",
    "del list_rare_delivery_type"
   ]
  },
  {
   "cell_type": "code",
   "execution_count": 35,
   "metadata": {},
   "outputs": [],
   "source": [
    "TX_data = pd.merge(TX_data, pd.get_dummies(TX_data[\"PRICECLUB_STATUS\"]), left_index=True, right_index=True)\n",
    "TX_data.drop(\"PRICECLUB_STATUS\", axis=1, inplace=True)"
   ]
  },
  {
   "cell_type": "markdown",
   "metadata": {},
   "source": [
    "## Trajets longs\n",
    "\n",
    "Flag pour signaler un envoi international\n",
    "\n",
    "Objectif = souligner les courts trajets"
   ]
  },
  {
   "cell_type": "code",
   "execution_count": 36,
   "metadata": {},
   "outputs": [],
   "source": [
    "#TX_data[\"SELLER_COUNTRY\"].value_counts().head(10).plot.bar()"
   ]
  },
  {
   "cell_type": "code",
   "execution_count": 37,
   "metadata": {},
   "outputs": [],
   "source": [
    "def f(row):\n",
    "    long_haul_list=[\"CHINA\",\"HONG KONG\", \"UNITED STATES\"]\n",
    "    return 1 if row['SELLER_COUNTRY'] in long_haul_list else 0;"
   ]
  },
  {
   "cell_type": "code",
   "execution_count": 38,
   "metadata": {},
   "outputs": [],
   "source": [
    "TX_data['LONG_HAUL'] = TX_data.apply(f, axis=1)"
   ]
  },
  {
   "cell_type": "markdown",
   "metadata": {},
   "source": [
    "## Stats par Pays\n",
    "\n",
    "To do : Détecter les pays à problèmes"
   ]
  },
  {
   "cell_type": "code",
   "execution_count": 39,
   "metadata": {},
   "outputs": [],
   "source": [
    "description_product_country = TX_data['IS_CLAIM'].groupby(TX_data['SELLER_COUNTRY']).describe().reset_index()"
   ]
  },
  {
   "cell_type": "code",
   "execution_count": 40,
   "metadata": {},
   "outputs": [],
   "source": [
    "colnames_country=[\"SELLER_COUNTRY\",\"Count_country\",\"Mean_Claims_country\",\"STD_Claims_country\",\"t_1\",\"t_2\",\"t_3\",\"t_4\",\"t_5\"]\n",
    "\n",
    "description_product_country.columns = colnames_country\n",
    "description_product_country.drop([\"t_1\",\"t_2\",\"t_3\",\"t_4\",\"t_5\"], axis=1, inplace=True)\n",
    "description_product_country[\"Count_Claims_country\"] = description_product_country[\"Mean_Claims_country\"] * description_product_country[\"Count_country\"]"
   ]
  },
  {
   "cell_type": "code",
   "execution_count": 41,
   "metadata": {},
   "outputs": [],
   "source": [
    "TX_data=pd.merge(TX_data, description_product_country, on='SELLER_COUNTRY', how='outer')\n",
    "\n",
    "del description_product_country, colnames_country"
   ]
  },
  {
   "cell_type": "markdown",
   "metadata": {},
   "source": [
    "## Type de produit\n",
    "\n",
    "To do : Détecter les produits fragiles\n",
    "\n",
    "Objectif = souligner cet effet"
   ]
  },
  {
   "cell_type": "code",
   "execution_count": 42,
   "metadata": {},
   "outputs": [],
   "source": [
    "#TX_data[\"PRODUCT_TYPE\"].value_counts().head(10).plot.bar()"
   ]
  },
  {
   "cell_type": "code",
   "execution_count": 43,
   "metadata": {},
   "outputs": [],
   "source": [
    "description_product_type=TX_data['IS_CLAIM'].groupby(TX_data['PRODUCT_TYPE']).describe().reset_index()"
   ]
  },
  {
   "cell_type": "code",
   "execution_count": 44,
   "metadata": {},
   "outputs": [],
   "source": [
    "colnames_product_type=[\"PRODUCT_TYPE\",\"Count_product_type\",\"Mean_Claims_product_type\",\"STD_Claims_product_type\",\"t_1\",\"t_2\",\"t_3\",\"t_4\",\"t_5\"]\n",
    "\n",
    "description_product_type.columns=colnames_product_type\n",
    "description_product_type.drop([\"t_1\",\"t_2\",\"t_3\",\"t_4\",\"t_5\"],axis=1,inplace=True)\n",
    "description_product_type[\"Count_Claims_product_type\"]=description_product_type[\"Mean_Claims_product_type\"]*description_product_type[\"Count_product_type\"]"
   ]
  },
  {
   "cell_type": "code",
   "execution_count": 45,
   "metadata": {},
   "outputs": [],
   "source": [
    "TX_data=pd.merge(TX_data, description_product_type, on='PRODUCT_TYPE', how='outer')\n",
    "del description_product_type, colnames_product_type"
   ]
  },
  {
   "cell_type": "code",
   "execution_count": 46,
   "metadata": {},
   "outputs": [],
   "source": [
    "TX_data.drop(columns=\"PRODUCT_TYPE\" ,axis=1,inplace=True)"
   ]
  },
  {
   "cell_type": "markdown",
   "metadata": {},
   "source": [
    "## Création d'un ID par client \n",
    "\n",
    "Objectif = créer une base de données client"
   ]
  },
  {
   "cell_type": "code",
   "execution_count": 47,
   "metadata": {},
   "outputs": [],
   "source": [
    "import hashlib"
   ]
  },
  {
   "cell_type": "code",
   "execution_count": 48,
   "metadata": {},
   "outputs": [],
   "source": [
    "def idBuyerCreator(row):\n",
    "        return hashlib.md5(\n",
    "            (str(row['REGISTRATION_DATE'])+\n",
    "             str(row[\"BUYER_DEPARTMENT\"])+\n",
    "             str(row[\"BUYER_BIRTHDAY_DATE\"])\n",
    "            ).encode()\n",
    "        ).hexdigest()"
   ]
  },
  {
   "cell_type": "code",
   "execution_count": 49,
   "metadata": {},
   "outputs": [],
   "source": [
    "TX_data['BUYER_ID'] = TX_data.apply(idBuyerCreator, axis=1)"
   ]
  },
  {
   "cell_type": "markdown",
   "metadata": {},
   "source": [
    "## Calcul du taux de claims par client\n",
    "\n",
    "Objectif = Créer de nouvelles features"
   ]
  },
  {
   "cell_type": "code",
   "execution_count": 50,
   "metadata": {},
   "outputs": [],
   "source": [
    "description_buyer=TX_data['IS_CLAIM'].groupby(TX_data['BUYER_ID']).describe().reset_index()"
   ]
  },
  {
   "cell_type": "code",
   "execution_count": 51,
   "metadata": {},
   "outputs": [],
   "source": [
    "colnames_buyer=[\"BUYER_ID\",\"Count_Buys\",\"Mean_Claims_Buys\",\"STD_Claims_Buys\",\"t_1\",\"t_2\",\"t_3\",\"t_4\",\"t_5\"]\n",
    "\n",
    "description_buyer.columns=colnames_buyer\n",
    "description_buyer.drop([\"t_1\",\"t_2\",\"t_3\",\"t_4\",\"t_5\"],axis=1,inplace=True)\n",
    "description_buyer[\"Count_Claims_Buy\"]=description_buyer[\"Mean_Claims_Buys\"]*description_buyer[\"Count_Buys\"]"
   ]
  },
  {
   "cell_type": "code",
   "execution_count": 52,
   "metadata": {},
   "outputs": [],
   "source": [
    "TX_data=pd.merge(TX_data, description_buyer, on='BUYER_ID', how='outer')\n",
    "del description_buyer, colnames_buyer"
   ]
  },
  {
   "cell_type": "markdown",
   "metadata": {},
   "source": [
    "## Création d'un ID par vendeur\n",
    "\n",
    "Objectif = créer une base de données vendeur"
   ]
  },
  {
   "cell_type": "code",
   "execution_count": 53,
   "metadata": {},
   "outputs": [],
   "source": [
    "def idSellCreator(row):\n",
    "        return hashlib.md5(\n",
    "            (str(row[\"SELLER_COUNTRY\"])+\n",
    "             str(row[\"SELLER_DEPARTMENT\"])+\n",
    "             str(row[\"SELLER_SCORE_AVERAGE\"])\n",
    "            ).encode()\n",
    "        ).hexdigest()"
   ]
  },
  {
   "cell_type": "code",
   "execution_count": 54,
   "metadata": {},
   "outputs": [],
   "source": [
    "TX_data['SELLER_ID'] = TX_data.apply(idSellCreator, axis=1)"
   ]
  },
  {
   "cell_type": "markdown",
   "metadata": {},
   "source": [
    "## Calcul du taux de claims par vendeur\n",
    "\n",
    "Objectif = Créer de nouvelles features"
   ]
  },
  {
   "cell_type": "code",
   "execution_count": 55,
   "metadata": {},
   "outputs": [],
   "source": [
    "description_sellers=TX_data['IS_CLAIM'].groupby(TX_data['SELLER_ID']).describe().reset_index()"
   ]
  },
  {
   "cell_type": "code",
   "execution_count": 56,
   "metadata": {
    "scrolled": true
   },
   "outputs": [],
   "source": [
    "colnames_sell=[\"SELLER_ID\",\"Count_Sells\",\"Mean_Claims_Sells\",\"STD_Claims_Sells\",\"t_1\",\"t_2\",\"t_3\",\"t_4\",\"t_5\"]\n",
    "\n",
    "description_sellers.columns=colnames_sell\n",
    "description_sellers.drop([\"t_1\",\"t_2\",\"t_3\",\"t_4\",\"t_5\"],axis=1,inplace=True)\n",
    "description_sellers[\"Count_Claims_Sells\"]=description_sellers[\"Mean_Claims_Sells\"]*description_sellers[\"Count_Sells\"]"
   ]
  },
  {
   "cell_type": "code",
   "execution_count": 57,
   "metadata": {},
   "outputs": [],
   "source": [
    "TX_data=pd.merge(TX_data, description_sellers, on='SELLER_ID', how='outer')\n",
    "del description_sellers, colnames_sell"
   ]
  },
  {
   "cell_type": "markdown",
   "metadata": {},
   "source": [
    "## Fusion des bases de données\n",
    "\n",
    "Objectif = Yolo"
   ]
  },
  {
   "cell_type": "code",
   "execution_count": 58,
   "metadata": {},
   "outputs": [],
   "source": [
    "list_to_drop=[\"IS_CLAIM\",\"BUYER_ID\",\"SELLER_ID\"]"
   ]
  },
  {
   "cell_type": "code",
   "execution_count": 59,
   "metadata": {},
   "outputs": [],
   "source": [
    "TX_data.drop(list_to_drop,inplace=True,axis=1)\n",
    "del list_to_drop"
   ]
  },
  {
   "cell_type": "markdown",
   "metadata": {},
   "source": [
    "# On essaie d'ajouter des composantes de Neighbors, PCA, LDA, etc.."
   ]
  },
  {
   "cell_type": "code",
   "execution_count": 60,
   "metadata": {},
   "outputs": [],
   "source": [
    "from sklearn.neighbors import KNeighborsClassifier\n",
    "clf_KNeighborsClassifier = KNeighborsClassifier(n_neighbors=3)"
   ]
  },
  {
   "cell_type": "code",
   "execution_count": null,
   "metadata": {},
   "outputs": [],
   "source": []
  },
  {
   "cell_type": "code",
   "execution_count": 73,
   "metadata": {},
   "outputs": [],
   "source": [
    "def datapreprocess_LDA(data):\n",
    "    data=data.apply(pd.to_numeric, errors='ignore')\n",
    "    \n",
    "    # Y and X\n",
    "    Y=data[\"CLAIM_TYPE\"]\n",
    "    X=data.drop(\"CLAIM_TYPE\", axis=1,inplace=False)\n",
    "    # Exclude Objets\n",
    "    X=X.select_dtypes(exclude=['object'])\n",
    "    \n",
    "    # Work on fare\n",
    "    from sklearn.preprocessing import Imputer\n",
    "    imp = Imputer(missing_values='NaN',strategy='median', axis=1)\n",
    "    X=pd.DataFrame(imp.fit_transform(X),columns=X.columns.values)\n",
    " \n",
    "    return X, Y"
   ]
  },
  {
   "cell_type": "code",
   "execution_count": 74,
   "metadata": {},
   "outputs": [],
   "source": [
    "X,Y=datapreprocess_LDA(TX_data)"
   ]
  },
  {
   "cell_type": "code",
   "execution_count": 75,
   "metadata": {},
   "outputs": [],
   "source": [
    "from sklearn.decomposition import PCA\n",
    "pca = PCA(n_components=2)\n",
    "X_r = pd.DataFrame(pca.fit(X).transform(X), columns=['PCA_1', 'PCA_2'])\n",
    "TX_data['PCA_1']=X_r['PCA_1']\n",
    "TX_data['PCA_2']=X_r['PCA_2']"
   ]
  },
  {
   "cell_type": "code",
   "execution_count": 76,
   "metadata": {},
   "outputs": [
    {
     "name": "stderr",
     "output_type": "stream",
     "text": [
      "C:\\ProgramData\\Anaconda3\\lib\\site-packages\\sklearn\\discriminant_analysis.py:388: UserWarning: Variables are collinear.\n",
      "  warnings.warn(\"Variables are collinear.\")\n"
     ]
    }
   ],
   "source": [
    "from sklearn.discriminant_analysis import LinearDiscriminantAnalysis\n",
    "lda = LinearDiscriminantAnalysis(n_components=2)\n",
    "X_r2 = pd.DataFrame(lda.fit(X, Y).transform(X), columns=['LDA_1', 'LDA_2'])\n",
    "TX_data['LDA_1']=X_r2['LDA_1']\n",
    "TX_data['LDA_2']=X_r2['LDA_2']"
   ]
  },
  {
   "cell_type": "code",
   "execution_count": null,
   "metadata": {},
   "outputs": [
    {
     "data": {
      "text/plain": [
       "356"
      ]
     },
     "execution_count": 80,
     "metadata": {},
     "output_type": "execute_result"
    }
   ],
   "source": [
    "del datapreprocess_LDA, pca, X_r, lda, X_r2\n",
    "gc.collect()"
   ]
  },
  {
   "cell_type": "code",
   "execution_count": null,
   "metadata": {},
   "outputs": [],
   "source": [
    "from sklearn.preprocessing import PolynomialFeatures\n",
    "poly = PolynomialFeatures(degree=3, include_bias=False)\n",
    "X2 = pd.DataFrame(poly.fit_transform(X))"
   ]
  },
  {
   "cell_type": "code",
   "execution_count": null,
   "metadata": {},
   "outputs": [],
   "source": [
    "X2.head()"
   ]
  },
  {
   "cell_type": "code",
   "execution_count": null,
   "metadata": {},
   "outputs": [],
   "source": [
    "TX_data['Poly_1']=X2['Poly_1']\n",
    "TX_data['Poly_2']=X2['Poly_2']\n",
    "TX_data['Poly_3']=X2['Poly_3']"
   ]
  },
  {
   "cell_type": "code",
   "execution_count": 70,
   "metadata": {},
   "outputs": [
    {
     "ename": "NameError",
     "evalue": "name 'X2' is not defined",
     "output_type": "error",
     "traceback": [
      "\u001b[1;31m---------------------------------------------------------------------------\u001b[0m",
      "\u001b[1;31mNameError\u001b[0m                                 Traceback (most recent call last)",
      "\u001b[1;32m<ipython-input-70-5e5308f1171b>\u001b[0m in \u001b[0;36m<module>\u001b[1;34m()\u001b[0m\n\u001b[1;32m----> 1\u001b[1;33m \u001b[1;32mdel\u001b[0m \u001b[0mX\u001b[0m\u001b[1;33m,\u001b[0m\u001b[0mY\u001b[0m\u001b[1;33m,\u001b[0m \u001b[0mpoly\u001b[0m\u001b[1;33m,\u001b[0m \u001b[0mX2\u001b[0m\u001b[1;33m\u001b[0m\u001b[0m\n\u001b[0m",
      "\u001b[1;31mNameError\u001b[0m: name 'X2' is not defined"
     ]
    }
   ],
   "source": [
    "del X,Y, poly, X2\n",
    "gc.collect()"
   ]
  },
  {
   "cell_type": "code",
   "execution_count": 71,
   "metadata": {},
   "outputs": [
    {
     "data": {
      "text/plain": [
       "127"
      ]
     },
     "execution_count": 71,
     "metadata": {},
     "output_type": "execute_result"
    }
   ],
   "source": [
    "gc.collect()"
   ]
  },
  {
   "cell_type": "code",
   "execution_count": null,
   "metadata": {},
   "outputs": [],
   "source": [
    "Sortie en erreur les copines!"
   ]
  },
  {
   "cell_type": "markdown",
   "metadata": {},
   "source": [
    "# Et on écrit la BDD sur un joli CSV"
   ]
  },
  {
   "cell_type": "code",
   "execution_count": null,
   "metadata": {},
   "outputs": [],
   "source": [
    "filename = DATA_PROCESSED+\"/working_data.csv\""
   ]
  },
  {
   "cell_type": "code",
   "execution_count": null,
   "metadata": {},
   "outputs": [],
   "source": [
    "os.remove(filename)"
   ]
  },
  {
   "cell_type": "code",
   "execution_count": null,
   "metadata": {},
   "outputs": [],
   "source": [
    "TX_data.to_csv(path_or_buf=filename, index=False)"
   ]
  },
  {
   "cell_type": "markdown",
   "metadata": {},
   "source": [
    "# A partir de là, je fais juste un test bidon pour voir si les features apportent quelque chose\n",
    "\n",
    "## Les vrais modèles sont dans le notebook \"Models\""
   ]
  },
  {
   "cell_type": "markdown",
   "metadata": {},
   "source": [
    "## On coupe\n",
    "\n",
    "Objectif = Créer un jeu de données train et test"
   ]
  },
  {
   "cell_type": "code",
   "execution_count": null,
   "metadata": {},
   "outputs": [],
   "source": [
    "from sklearn.model_selection import train_test_split\n",
    "train_set, test_set = train_test_split(TX_data, \n",
    "                                       test_size=0.3, \n",
    "                                       random_state=RANDOM_SEED, \n",
    "                                       stratify=TX_data[\"CLAIM_TYPE\"]\n",
    "                                      )\n",
    "del TX_data;"
   ]
  },
  {
   "cell_type": "markdown",
   "metadata": {},
   "source": [
    "## Preprocess\n",
    "\n",
    "Objectif = Rendre joli tout ça"
   ]
  },
  {
   "cell_type": "code",
   "execution_count": null,
   "metadata": {},
   "outputs": [],
   "source": [
    "def datapreprocess(data):\n",
    "    data=data.apply(pd.to_numeric, errors='ignore')\n",
    "    \n",
    "    # Y and X\n",
    "    Y=data[\"CLAIM_TYPE\"]\n",
    "    X=data.drop(\"CLAIM_TYPE\", axis=1,inplace=False)\n",
    "    # Exclude Objets\n",
    "    X=X.select_dtypes(exclude=['object'])\n",
    "    \n",
    "    # Work on fare\n",
    "    from sklearn.preprocessing import Imputer\n",
    "    imp = Imputer(missing_values='NaN',strategy='median', axis=1)\n",
    "    X=pd.DataFrame(imp.fit_transform(X),columns=X.columns.values)\n",
    " \n",
    "    return X, Y"
   ]
  },
  {
   "cell_type": "code",
   "execution_count": null,
   "metadata": {},
   "outputs": [],
   "source": [
    "X_train,Y_train=datapreprocess(train_set)\n",
    "X_test, Y_test=datapreprocess(test_set)\n",
    "\n",
    "del train_set, test_set;\n",
    "gc.collect()"
   ]
  },
  {
   "cell_type": "markdown",
   "metadata": {},
   "source": [
    "# MODEL!"
   ]
  },
  {
   "cell_type": "markdown",
   "metadata": {},
   "source": [
    "## Metriques\n",
    "\n",
    "D'abord, notre métrique à nous"
   ]
  },
  {
   "cell_type": "code",
   "execution_count": null,
   "metadata": {},
   "outputs": [],
   "source": [
    "from sklearn.metrics import roc_auc_score\n",
    "from sklearn.preprocessing import LabelBinarizer"
   ]
  },
  {
   "cell_type": "code",
   "execution_count": null,
   "metadata": {},
   "outputs": [],
   "source": [
    "def multiclass_roc_auc_score(truth, pred):\n",
    "    lb = LabelBinarizer()\n",
    "    lb.fit(truth)\n",
    "    return roc_auc_score(lb.transform(truth), lb.transform(pred), average=\"weighted\")"
   ]
  },
  {
   "cell_type": "markdown",
   "metadata": {},
   "source": [
    "#### Notre Random Forest tout simple"
   ]
  },
  {
   "cell_type": "code",
   "execution_count": null,
   "metadata": {},
   "outputs": [],
   "source": [
    "from sklearn.ensemble import RandomForestClassifier"
   ]
  },
  {
   "cell_type": "code",
   "execution_count": null,
   "metadata": {},
   "outputs": [],
   "source": [
    "rnd_clf = RandomForestClassifier(n_jobs=-1, \n",
    "                                 random_state=RANDOM_SEED)"
   ]
  },
  {
   "cell_type": "code",
   "execution_count": null,
   "metadata": {},
   "outputs": [],
   "source": [
    "rnd_clf.fit(X_train, Y_train);\n",
    "y_pred_rf = rnd_clf.predict(X_test)\n",
    "multiclass_roc_auc_score(Y_test, y_pred_rf)"
   ]
  },
  {
   "cell_type": "code",
   "execution_count": null,
   "metadata": {},
   "outputs": [],
   "source": [
    "from sklearn.metrics import confusion_matrix"
   ]
  },
  {
   "cell_type": "code",
   "execution_count": null,
   "metadata": {
    "scrolled": false
   },
   "outputs": [],
   "source": [
    "def plot_confusion_matrix(matrix):\n",
    "    \"\"\"If you prefer color and a colorbar\"\"\"\n",
    "    fig = plt.figure(figsize=(8,8))\n",
    "    ax = fig.add_subplot(111)\n",
    "    cax = ax.matshow(matrix)\n",
    "    fig.colorbar(cax)\n",
    "    \n",
    "conf_mx = confusion_matrix(Y_test, y_pred_rf)\n",
    "plot_confusion_matrix(conf_mx)"
   ]
  },
  {
   "cell_type": "code",
   "execution_count": null,
   "metadata": {},
   "outputs": [],
   "source": []
  },
  {
   "cell_type": "code",
   "execution_count": null,
   "metadata": {},
   "outputs": [],
   "source": []
  },
  {
   "cell_type": "code",
   "execution_count": null,
   "metadata": {},
   "outputs": [],
   "source": [
    "from sklearn.feature_selection import SelectFromModel\n",
    "from sklearn.ensemble import RandomForestClassifier"
   ]
  },
  {
   "cell_type": "code",
   "execution_count": null,
   "metadata": {},
   "outputs": [],
   "source": [
    "clf = RandomForestClassifier(n_jobs=-1, \n",
    "                             random_state=RANDOM_SEED)"
   ]
  },
  {
   "cell_type": "code",
   "execution_count": null,
   "metadata": {},
   "outputs": [],
   "source": [
    "sfm_clf = SelectFromModel(clf)\n",
    "del clf"
   ]
  },
  {
   "cell_type": "code",
   "execution_count": null,
   "metadata": {},
   "outputs": [],
   "source": []
  },
  {
   "cell_type": "code",
   "execution_count": null,
   "metadata": {},
   "outputs": [],
   "source": [
    "from sklearn.ensemble import GradientBoostingClassifier"
   ]
  },
  {
   "cell_type": "code",
   "execution_count": null,
   "metadata": {},
   "outputs": [],
   "source": [
    "gb_clf=GradientBoostingClassifier(random_state=RANDOM_SEED)"
   ]
  },
  {
   "cell_type": "code",
   "execution_count": null,
   "metadata": {},
   "outputs": [],
   "source": [
    "from sklearn.pipeline import Pipeline\n",
    "from sklearn.preprocessing import StandardScaler\n",
    "from sklearn.preprocessing import Normalizer"
   ]
  },
  {
   "cell_type": "code",
   "execution_count": null,
   "metadata": {},
   "outputs": [],
   "source": [
    "clf = Pipeline([\n",
    "    #('scaler', StandardScaler()), \n",
    "    #('norm', Normalizer()), \n",
    "    #('threshold', sel_vt), \n",
    "    #('SelectKBest', Chi_select), \n",
    "    #('reduce_dim', PCA()),\n",
    "    #('feature_union', combined),\n",
    "    #('feature_selection', sfm_clf),\n",
    "    ('classification', gb_clf)\n",
    "])\n",
    "\n",
    "\n",
    "clf.fit(X_train, Y_train);\n",
    "y_pred_rf = clf.predict(X_test)\n",
    "multiclass_roc_auc_score(Y_test, y_pred_rf)"
   ]
  }
 ],
 "metadata": {
  "kernelspec": {
   "display_name": "Python 3",
   "language": "python",
   "name": "python3"
  },
  "language_info": {
   "codemirror_mode": {
    "name": "ipython",
    "version": 3
   },
   "file_extension": ".py",
   "mimetype": "text/x-python",
   "name": "python",
   "nbconvert_exporter": "python",
   "pygments_lexer": "ipython3",
   "version": "3.6.3"
  }
 },
 "nbformat": 4,
 "nbformat_minor": 2
}
