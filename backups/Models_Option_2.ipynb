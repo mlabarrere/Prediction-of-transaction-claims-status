{
 "cells": [
  {
   "cell_type": "markdown",
   "metadata": {},
   "source": [
    "# OPTION 2 : Un modèle unique\n",
    "\n",
    "Tout classique, on doit utiliser un  modèle qui sait gérer le multi classes unbalanced"
   ]
  },
  {
   "cell_type": "markdown",
   "metadata": {},
   "source": [
    "# Imports des librairies de bases\n",
    "\n",
    "On ajoutera celles qui manquent au fur et à mesure de nos besoins"
   ]
  },
  {
   "cell_type": "code",
   "execution_count": 1,
   "metadata": {},
   "outputs": [],
   "source": [
    "# To support both python 2 and python 3\n",
    "from __future__ import division, print_function, unicode_literals\n",
    "\n",
    "# Common imports\n",
    "import numpy as np\n",
    "import pandas as pd\n",
    "import os, gc"
   ]
  },
  {
   "cell_type": "markdown",
   "metadata": {},
   "source": [
    "# Définition de la seed pour le random\n",
    "\n",
    "Très important pour qu'on voit les mêmes choses entre nos deux ordis"
   ]
  },
  {
   "cell_type": "code",
   "execution_count": 2,
   "metadata": {},
   "outputs": [],
   "source": [
    "RANDOM_SEED = 42;\n",
    "np.random.seed(RANDOM_SEED)"
   ]
  },
  {
   "cell_type": "markdown",
   "metadata": {},
   "source": [
    "# Définition des paramètres pour Matplot\n",
    "\n",
    "Rien de bien intéréssant"
   ]
  },
  {
   "cell_type": "code",
   "execution_count": 3,
   "metadata": {},
   "outputs": [],
   "source": [
    "# To plot pretty figures\n",
    "%matplotlib inline\n",
    "import matplotlib\n",
    "import matplotlib.pyplot as plt\n",
    "plt.rcParams['axes.labelsize'] = 14\n",
    "plt.rcParams['xtick.labelsize'] = 12\n",
    "plt.rcParams['ytick.labelsize'] = 12"
   ]
  },
  {
   "cell_type": "markdown",
   "metadata": {},
   "source": [
    "# Set des variables globales\n",
    "\n",
    "Attention, je n'utilise les variables globales pour la gestion des fichiers. Sinon, c'est mort"
   ]
  },
  {
   "cell_type": "code",
   "execution_count": 4,
   "metadata": {},
   "outputs": [],
   "source": [
    "# Where to save the figures\n",
    "PROJECT_ROOT_DIR = \".\"\n",
    "DATA_PROCESSED = os.path.join(PROJECT_ROOT_DIR, \"data_processed\")"
   ]
  },
  {
   "cell_type": "markdown",
   "metadata": {},
   "source": [
    "# Fonction pour load les libraires\n",
    "\n",
    "En vrai, on a juste besoin de pd.read_csv, mais c'était pour faire joli"
   ]
  },
  {
   "cell_type": "code",
   "execution_count": 5,
   "metadata": {},
   "outputs": [],
   "source": [
    "def load_data(file,data_path=DATA_PROCESSED, sep=','):\n",
    "    csv_path = os.path.join(data_path, file)\n",
    "    return pd.read_csv(csv_path, sep)"
   ]
  },
  {
   "cell_type": "markdown",
   "metadata": {},
   "source": [
    "# On load des données\n"
   ]
  },
  {
   "cell_type": "code",
   "execution_count": 6,
   "metadata": {},
   "outputs": [],
   "source": [
    "TX_data = load_data(file = \"working_data.csv\");\n",
    "TX_data=TX_data.apply(pd.to_numeric, errors='ignore')"
   ]
  },
  {
   "cell_type": "code",
   "execution_count": 7,
   "metadata": {},
   "outputs": [
    {
     "data": {
      "text/html": [
       "<div>\n",
       "<style scoped>\n",
       "    .dataframe tbody tr th:only-of-type {\n",
       "        vertical-align: middle;\n",
       "    }\n",
       "\n",
       "    .dataframe tbody tr th {\n",
       "        vertical-align: top;\n",
       "    }\n",
       "\n",
       "    .dataframe thead th {\n",
       "        text-align: right;\n",
       "    }\n",
       "</style>\n",
       "<table border=\"1\" class=\"dataframe\">\n",
       "  <thead>\n",
       "    <tr style=\"text-align: right;\">\n",
       "      <th></th>\n",
       "      <th>WARRANTIES_FLG</th>\n",
       "      <th>CARD_PAYMENT</th>\n",
       "      <th>COUPON_PAYMENT</th>\n",
       "      <th>RSP_PAYMENT</th>\n",
       "      <th>WALLET_PAYMENT</th>\n",
       "      <th>REGISTRATION_DATE</th>\n",
       "      <th>BUYER_BIRTHDAY_DATE</th>\n",
       "      <th>BUYER_DEPARTMENT</th>\n",
       "      <th>SELLER_SCORE_AVERAGE</th>\n",
       "      <th>SELLER_COUNTRY</th>\n",
       "      <th>...</th>\n",
       "      <th>Count_BUYER_ID</th>\n",
       "      <th>Mean_BUYER_ID</th>\n",
       "      <th>STD_BUYER_ID</th>\n",
       "      <th>Count_Claims_BUYER_ID</th>\n",
       "      <th>Count_SELLER_ID</th>\n",
       "      <th>Mean_SELLER_ID</th>\n",
       "      <th>STD_SELLER_ID</th>\n",
       "      <th>Count_Claims_SELLER_ID</th>\n",
       "      <th>PCA_1</th>\n",
       "      <th>PCA_2</th>\n",
       "    </tr>\n",
       "  </thead>\n",
       "  <tbody>\n",
       "    <tr>\n",
       "      <th>0</th>\n",
       "      <td>0</td>\n",
       "      <td>1</td>\n",
       "      <td>0</td>\n",
       "      <td>1</td>\n",
       "      <td>0</td>\n",
       "      <td>2015</td>\n",
       "      <td>1992.0</td>\n",
       "      <td>34</td>\n",
       "      <td>46.0</td>\n",
       "      <td>FRANCE, METROPOLITAN</td>\n",
       "      <td>...</td>\n",
       "      <td>5.0</td>\n",
       "      <td>0.800000</td>\n",
       "      <td>0.447214</td>\n",
       "      <td>4.0</td>\n",
       "      <td>44.0</td>\n",
       "      <td>0.5</td>\n",
       "      <td>0.505781</td>\n",
       "      <td>22.0</td>\n",
       "      <td>-203876.663031</td>\n",
       "      <td>-25937.586104</td>\n",
       "    </tr>\n",
       "    <tr>\n",
       "      <th>1</th>\n",
       "      <td>0</td>\n",
       "      <td>1</td>\n",
       "      <td>0</td>\n",
       "      <td>1</td>\n",
       "      <td>0</td>\n",
       "      <td>2014</td>\n",
       "      <td>1981.0</td>\n",
       "      <td>93</td>\n",
       "      <td>46.0</td>\n",
       "      <td>FRANCE, METROPOLITAN</td>\n",
       "      <td>...</td>\n",
       "      <td>4.0</td>\n",
       "      <td>0.750000</td>\n",
       "      <td>0.500000</td>\n",
       "      <td>3.0</td>\n",
       "      <td>44.0</td>\n",
       "      <td>0.5</td>\n",
       "      <td>0.505781</td>\n",
       "      <td>22.0</td>\n",
       "      <td>-304465.724332</td>\n",
       "      <td>-25696.909632</td>\n",
       "    </tr>\n",
       "    <tr>\n",
       "      <th>2</th>\n",
       "      <td>0</td>\n",
       "      <td>1</td>\n",
       "      <td>0</td>\n",
       "      <td>0</td>\n",
       "      <td>0</td>\n",
       "      <td>2017</td>\n",
       "      <td>0.0</td>\n",
       "      <td>35</td>\n",
       "      <td>46.0</td>\n",
       "      <td>FRANCE, METROPOLITAN</td>\n",
       "      <td>...</td>\n",
       "      <td>39.0</td>\n",
       "      <td>0.256410</td>\n",
       "      <td>0.442359</td>\n",
       "      <td>10.0</td>\n",
       "      <td>44.0</td>\n",
       "      <td>0.5</td>\n",
       "      <td>0.505781</td>\n",
       "      <td>22.0</td>\n",
       "      <td>-203876.778030</td>\n",
       "      <td>-25937.948454</td>\n",
       "    </tr>\n",
       "    <tr>\n",
       "      <th>3</th>\n",
       "      <td>0</td>\n",
       "      <td>0</td>\n",
       "      <td>1</td>\n",
       "      <td>0</td>\n",
       "      <td>0</td>\n",
       "      <td>2014</td>\n",
       "      <td>1964.0</td>\n",
       "      <td>92</td>\n",
       "      <td>46.0</td>\n",
       "      <td>FRANCE, METROPOLITAN</td>\n",
       "      <td>...</td>\n",
       "      <td>7.0</td>\n",
       "      <td>0.285714</td>\n",
       "      <td>0.487950</td>\n",
       "      <td>2.0</td>\n",
       "      <td>44.0</td>\n",
       "      <td>0.5</td>\n",
       "      <td>0.505781</td>\n",
       "      <td>22.0</td>\n",
       "      <td>-203876.650358</td>\n",
       "      <td>-25937.610064</td>\n",
       "    </tr>\n",
       "    <tr>\n",
       "      <th>4</th>\n",
       "      <td>0</td>\n",
       "      <td>1</td>\n",
       "      <td>0</td>\n",
       "      <td>0</td>\n",
       "      <td>0</td>\n",
       "      <td>2013</td>\n",
       "      <td>1989.0</td>\n",
       "      <td>25</td>\n",
       "      <td>46.0</td>\n",
       "      <td>FRANCE, METROPOLITAN</td>\n",
       "      <td>...</td>\n",
       "      <td>2.0</td>\n",
       "      <td>1.000000</td>\n",
       "      <td>0.000000</td>\n",
       "      <td>2.0</td>\n",
       "      <td>44.0</td>\n",
       "      <td>0.5</td>\n",
       "      <td>0.505781</td>\n",
       "      <td>22.0</td>\n",
       "      <td>-203876.657771</td>\n",
       "      <td>-25937.579497</td>\n",
       "    </tr>\n",
       "  </tbody>\n",
       "</table>\n",
       "<p>5 rows × 54 columns</p>\n",
       "</div>"
      ],
      "text/plain": [
       "   WARRANTIES_FLG  CARD_PAYMENT  COUPON_PAYMENT  RSP_PAYMENT  WALLET_PAYMENT  \\\n",
       "0               0             1               0            1               0   \n",
       "1               0             1               0            1               0   \n",
       "2               0             1               0            0               0   \n",
       "3               0             0               1            0               0   \n",
       "4               0             1               0            0               0   \n",
       "\n",
       "   REGISTRATION_DATE  BUYER_BIRTHDAY_DATE  BUYER_DEPARTMENT  \\\n",
       "0               2015               1992.0                34   \n",
       "1               2014               1981.0                93   \n",
       "2               2017                  0.0                35   \n",
       "3               2014               1964.0                92   \n",
       "4               2013               1989.0                25   \n",
       "\n",
       "   SELLER_SCORE_AVERAGE        SELLER_COUNTRY      ...       Count_BUYER_ID  \\\n",
       "0                  46.0  FRANCE, METROPOLITAN      ...                  5.0   \n",
       "1                  46.0  FRANCE, METROPOLITAN      ...                  4.0   \n",
       "2                  46.0  FRANCE, METROPOLITAN      ...                 39.0   \n",
       "3                  46.0  FRANCE, METROPOLITAN      ...                  7.0   \n",
       "4                  46.0  FRANCE, METROPOLITAN      ...                  2.0   \n",
       "\n",
       "  Mean_BUYER_ID STD_BUYER_ID Count_Claims_BUYER_ID  Count_SELLER_ID  \\\n",
       "0      0.800000     0.447214                   4.0             44.0   \n",
       "1      0.750000     0.500000                   3.0             44.0   \n",
       "2      0.256410     0.442359                  10.0             44.0   \n",
       "3      0.285714     0.487950                   2.0             44.0   \n",
       "4      1.000000     0.000000                   2.0             44.0   \n",
       "\n",
       "   Mean_SELLER_ID  STD_SELLER_ID  Count_Claims_SELLER_ID          PCA_1  \\\n",
       "0             0.5       0.505781                    22.0 -203876.663031   \n",
       "1             0.5       0.505781                    22.0 -304465.724332   \n",
       "2             0.5       0.505781                    22.0 -203876.778030   \n",
       "3             0.5       0.505781                    22.0 -203876.650358   \n",
       "4             0.5       0.505781                    22.0 -203876.657771   \n",
       "\n",
       "          PCA_2  \n",
       "0 -25937.586104  \n",
       "1 -25696.909632  \n",
       "2 -25937.948454  \n",
       "3 -25937.610064  \n",
       "4 -25937.579497  \n",
       "\n",
       "[5 rows x 54 columns]"
      ]
     },
     "execution_count": 7,
     "metadata": {},
     "output_type": "execute_result"
    }
   ],
   "source": [
    "TX_data.head()"
   ]
  },
  {
   "cell_type": "code",
   "execution_count": 8,
   "metadata": {},
   "outputs": [],
   "source": [
    "#TX_data.info()"
   ]
  },
  {
   "cell_type": "code",
   "execution_count": null,
   "metadata": {},
   "outputs": [],
   "source": []
  },
  {
   "cell_type": "code",
   "execution_count": 9,
   "metadata": {},
   "outputs": [],
   "source": [
    "from sklearn.model_selection import train_test_split\n",
    "train_set, test_set = train_test_split(TX_data, \n",
    "                                       test_size=0.2, \n",
    "                                       random_state=RANDOM_SEED, \n",
    "                                       stratify=TX_data[\"CLAIM_TYPE\"]\n",
    "                                      )"
   ]
  },
  {
   "cell_type": "code",
   "execution_count": null,
   "metadata": {},
   "outputs": [],
   "source": []
  },
  {
   "cell_type": "code",
   "execution_count": 10,
   "metadata": {},
   "outputs": [],
   "source": [
    "def datapreprocess(data):\n",
    "    data=data.apply(pd.to_numeric, errors='ignore')\n",
    "    \n",
    "    # Y and X\n",
    "    Y=data[\"CLAIM_TYPE\"]\n",
    "    X=data.drop(\"CLAIM_TYPE\", axis=1,inplace=False)\n",
    "    # Exclude Objets\n",
    "    X=X.select_dtypes(exclude=['object'])\n",
    "    \n",
    "    # Work on fare\n",
    "    from sklearn.preprocessing import Imputer\n",
    "    imp = Imputer(missing_values='NaN',strategy='median', axis=1)\n",
    "    X=pd.DataFrame(imp.fit_transform(X),columns=X.columns.values)\n",
    " \n",
    "    return X, Y"
   ]
  },
  {
   "cell_type": "code",
   "execution_count": 11,
   "metadata": {},
   "outputs": [
    {
     "data": {
      "text/plain": [
       "27"
      ]
     },
     "execution_count": 11,
     "metadata": {},
     "output_type": "execute_result"
    }
   ],
   "source": [
    "X_train,Y_train=datapreprocess(train_set)\n",
    "X_test, Y_test=datapreprocess(test_set)\n",
    "\n",
    "del train_set, test_set;\n",
    "gc.collect()"
   ]
  },
  {
   "cell_type": "code",
   "execution_count": 13,
   "metadata": {},
   "outputs": [],
   "source": [
    "## test Rapide"
   ]
  },
  {
   "cell_type": "code",
   "execution_count": 14,
   "metadata": {},
   "outputs": [],
   "source": []
  },
  {
   "cell_type": "code",
   "execution_count": 15,
   "metadata": {},
   "outputs": [],
   "source": [
    "from sklearn.metrics import roc_auc_score\n",
    "from sklearn.preprocessing import LabelBinarizer\n",
    "def multiclass_roc_auc_score(truth, pred):\n",
    "    lb = LabelBinarizer()\n",
    "    lb.fit(truth)\n",
    "    return roc_auc_score(lb.transform(truth), lb.transform(pred), average=\"weighted\")"
   ]
  },
  {
   "cell_type": "code",
   "execution_count": 14,
   "metadata": {},
   "outputs": [],
   "source": [
    "# Modèle trouvé grâce à la cross validation\n",
    "from sklearn.ensemble import RandomForestClassifier\n",
    "rnd_clf= RandomForestClassifier(\n",
    "                                bootstrap=True, \n",
    "                                class_weight='balanced_subsample', \n",
    "                                criterion='gini',\n",
    "                                #max_depth=None, \n",
    "                                #max_features='auto', \n",
    "                                #max_leaf_nodes=18,\n",
    "                                #min_impurity_decrease=0.0, \n",
    "                                #min_impurity_split=None,\n",
    "                                #min_samples_leaf=1, \n",
    "                                #min_samples_split=2,\n",
    "                                #min_weight_fraction_leaf=0.0, \n",
    "                                #n_estimators=50, \n",
    "                                n_jobs=1,\n",
    "                                #oob_score=True, \n",
    "                                random_state=RANDOM_SEED, \n",
    "                                verbose=0, \n",
    "                                warm_start=False)\n"
   ]
  },
  {
   "cell_type": "code",
   "execution_count": 15,
   "metadata": {},
   "outputs": [],
   "source": [
    "rnd_clf.fit(X_train, Y_train);\n",
    "y_pred_rf = rnd_clf.predict(X_test)"
   ]
  },
  {
   "cell_type": "code",
   "execution_count": 19,
   "metadata": {},
   "outputs": [],
   "source": []
  },
  {
   "cell_type": "code",
   "execution_count": 21,
   "metadata": {},
   "outputs": [
    {
     "name": "stdout",
     "output_type": "stream",
     "text": [
      "                          precision    recall  f1-score   support\n",
      "\n",
      "                       -       0.70      0.88      0.78      9996\n",
      "                 DAMAGED       0.24      0.16      0.19      1184\n",
      "               DIFFERENT       0.25      0.13      0.17       856\n",
      "                    FAKE       0.27      0.12      0.17        33\n",
      "            NOT_RECEIVED       0.46      0.43      0.44      2962\n",
      "SELLER_CANCEL_POSTERIORI       0.47      0.41      0.44      2756\n",
      "               UNDEFINED       0.34      0.15      0.21       813\n",
      "              WITHDRAWAL       0.32      0.17      0.22      1400\n",
      "\n",
      "             avg / total       0.55      0.59      0.56     20000\n",
      "\n"
     ]
    }
   ],
   "source": [
    "from sklearn.metrics import classification_report\n",
    "print(classification_report(Y_test, y_pred_rf))"
   ]
  },
  {
   "cell_type": "code",
   "execution_count": 17,
   "metadata": {},
   "outputs": [],
   "source": []
  },
  {
   "cell_type": "code",
   "execution_count": 18,
   "metadata": {},
   "outputs": [
    {
     "data": {
      "image/png": "[encoded data removed]",
      "text/plain": [
       "<matplotlib.figure.Figure at 0x193ba6da3c8>"
      ]
     },
     "metadata": {},
     "output_type": "display_data"
    }
   ],
   "source": [
    "from sklearn.metrics import confusion_matrix\n",
    "def plot_confusion_matrix(matrix):\n",
    "    \"\"\"If you prefer color and a colorbar\"\"\"\n",
    "    fig = plt.figure(figsize=(8,8))\n",
    "    ax = fig.add_subplot(111)\n",
    "    cax = ax.matshow(matrix)\n",
    "    fig.colorbar(cax)\n",
    "    \n",
    "conf_mx = confusion_matrix(Y_test, y_pred_rf)\n",
    "row_sums = conf_mx.sum(axis=1, keepdims=True)\n",
    "norm_conf_mx = conf_mx / row_sums\n",
    "plot_confusion_matrix(norm_conf_mx)"
   ]
  },
  {
   "cell_type": "markdown",
   "metadata": {},
   "source": [
    "### Bilan: \n",
    "\n",
    "On prédit bien les zones en CLAIMS, donc ça peut être bien pour la suite."
   ]
  },
  {
   "cell_type": "code",
   "execution_count": null,
   "metadata": {},
   "outputs": [],
   "source": [
    "params_cv_long = {#'bootstrap':[True, False], \n",
    "                  'max_leaf_nodes':[2, 4, 8, 12, 16, 18],\n",
    "                  'min_samples_leaf':list(range(1, 6)), \n",
    "                  'min_samples_split':list(range(2, 4)),\n",
    "                  'n_estimators':list(range(10, 100, 25))\n",
    "         }"
   ]
  },
  {
   "cell_type": "code",
   "execution_count": null,
   "metadata": {},
   "outputs": [],
   "source": [
    "rf_to_cv= RandomForestClassifier(\n",
    "                                    random_state=RANDOM_SEED,\n",
    "                                    criterion='gini',\n",
    "                                    max_features='auto',\n",
    "                                    class_weight='balanced_subsample',\n",
    "                                    oob_score=False,\n",
    "                                    verbose=0,\n",
    "                                    warm_start=False\n",
    "                                )"
   ]
  },
  {
   "cell_type": "code",
   "execution_count": null,
   "metadata": {},
   "outputs": [],
   "source": [
    "from sklearn.model_selection import GridSearchCV"
   ]
  },
  {
   "cell_type": "code",
   "execution_count": null,
   "metadata": {},
   "outputs": [],
   "source": [
    "rf_gs_cv = GridSearchCV(\n",
    "                        estimator=rf_to_cv, \n",
    "                        param_grid=params_cv_long,\n",
    "                        scoring='roc_auc',\n",
    "                        n_jobs=-1, \n",
    "                        verbose=1, \n",
    "                        cv= 5\n",
    "                        )"
   ]
  },
  {
   "cell_type": "code",
   "execution_count": null,
   "metadata": {},
   "outputs": [],
   "source": [
    "rf_gs_cv.fit(X_train, Y_train)"
   ]
  },
  {
   "cell_type": "code",
   "execution_count": null,
   "metadata": {},
   "outputs": [],
   "source": [
    "rf_gs_cv.best_estimator_"
   ]
  },
  {
   "cell_type": "code",
   "execution_count": null,
   "metadata": {},
   "outputs": [],
   "source": [
    "y_pred_cv_rf = rf_gs_cv.predict(X_test)"
   ]
  },
  {
   "cell_type": "code",
   "execution_count": null,
   "metadata": {},
   "outputs": [],
   "source": [
    "print(\"ROC score : {}\".format(roc_auc_score(Y_test, y_pred_cv_rf)))"
   ]
  },
  {
   "cell_type": "code",
   "execution_count": null,
   "metadata": {},
   "outputs": [],
   "source": [
    "conf_mx = confusion_matrix(Y_test, y_pred_cv_rf)\n",
    "plot_confusion_matrix(conf_mx)"
   ]
  },
  {
   "cell_type": "code",
   "execution_count": null,
   "metadata": {},
   "outputs": [],
   "source": []
  },
  {
   "cell_type": "code",
   "execution_count": null,
   "metadata": {},
   "outputs": [],
   "source": []
  },
  {
   "cell_type": "markdown",
   "metadata": {},
   "source": [
    "## Bon, on a bien rigolé, maintenant on essaie tout les algos possibles"
   ]
  },
  {
   "cell_type": "code",
   "execution_count": 19,
   "metadata": {},
   "outputs": [],
   "source": [
    "# Naive Bayes\n",
    "from sklearn.naive_bayes import BernoulliNB, GaussianNB\n",
    "clf_BernoulliNB = BernoulliNB()\n",
    "clf_GaussianNB = GaussianNB()\n",
    "\n",
    "# Tree\n",
    "from sklearn.tree import DecisionTreeClassifier\n",
    "clf_DecisionTreeClassifier = DecisionTreeClassifier()\n",
    "\n",
    "# Ensemble\n",
    "from sklearn.ensemble import ExtraTreesClassifier, GradientBoostingClassifier, AdaBoostClassifier\n",
    "clf_GradientBoostingClassifier = GradientBoostingClassifier()\n",
    "clf_ExtraTreeClassifier = ExtraTreesClassifier()\n",
    "clf_AdaBoostClassifier = AdaBoostClassifier()\n",
    "\n",
    "# Neighbors\n",
    "from sklearn.neighbors import KNeighborsClassifier, NearestCentroid, RadiusNeighborsClassifier\n",
    "clf_KNeighborsClassifier = KNeighborsClassifier(n_neighbors=3)\n",
    "clf_NearestCentroid = NearestCentroid()\n",
    "clf_RNC = RadiusNeighborsClassifier()\n",
    "\n",
    "# Semi Supervised\n",
    "from sklearn.semi_supervised import LabelPropagation, LabelSpreading\n",
    "clf_LabelPropagation = LabelPropagation()\n",
    "clf_LabelSpreading = LabelSpreading()\n",
    "\n",
    "# Discriminant Analysis\n",
    "from sklearn.discriminant_analysis import LinearDiscriminantAnalysis, QuadraticDiscriminantAnalysis\n",
    "clf_LDA = LinearDiscriminantAnalysis()\n",
    "clf_QDA = QuadraticDiscriminantAnalysis()\n",
    "\n",
    "# Linear Models\n",
    "from sklearn.linear_model import SGDClassifier, LogisticRegressionCV, Perceptron, PassiveAggressiveClassifier, RidgeClassifier\n",
    "clf_SGDClassifier = SGDClassifier()\n",
    "clf_LogisticRegressionCV = LogisticRegressionCV()\n",
    "clf_Perceptron = Perceptron()\n",
    "clf_PassiveAggressiveClassifier = PassiveAggressiveClassifier()\n",
    "clf_RidgeClassifier=RidgeClassifier()\n",
    "\n",
    "from sklearn.gaussian_process import GaussianProcessClassifier\n",
    "clf_GaussianProcessClassifier = GaussianProcessClassifier()"
   ]
  },
  {
   "cell_type": "code",
   "execution_count": 20,
   "metadata": {},
   "outputs": [],
   "source": [
    "list_models=[clf_BernoulliNB,\n",
    "            #clf_GaussianNB,\n",
    "            clf_DecisionTreeClassifier,\n",
    "            clf_GradientBoostingClassifier,\n",
    "            clf_ExtraTreeClassifier,\n",
    "            clf_AdaBoostClassifier,\n",
    "            #clf_KNeighborsClassifier,\n",
    "            #clf_NearestCentroid,\n",
    "            #clf_RNC,\n",
    "            #clf_LabelPropagation,\n",
    "            #clf_LabelSpreading,\n",
    "            #clf_LDA,\n",
    "            #clf_QDA,\n",
    "            #clf_SGDClassifier,\n",
    "            clf_LogisticRegressionCV,\n",
    "            #clf_Perceptron,\n",
    "            #clf_PassiveAggressiveClassifier,\n",
    "            #clf_RidgeClassifier,\n",
    "            #clf_GaussianProcessClassifier\n",
    "            ]"
   ]
  },
  {
   "cell_type": "code",
   "execution_count": null,
   "metadata": {},
   "outputs": [],
   "source": [
    "for clf in list_models:\n",
    "    try:\n",
    "        clf.fit(X_train,Y_train)\n",
    "        y_pred = clf.predict(X_test)\n",
    "        print(str(clf.__class__.__name__)+\" : \"+ str(multiclass_roc_auc_score(Y_test, y_pred)))\n",
    "        del clf\n",
    "    except:\n",
    "        print(str(clf.__class__.__name__)+\" : Error\")\n",
    "        del clf"
   ]
  },
  {
   "cell_type": "code",
   "execution_count": 25,
   "metadata": {},
   "outputs": [],
   "source": [
    "from mlxtend.classifier import StackingClassifier\n",
    "from sklearn.model_selection import  cross_val_score\n",
    "from sklearn.metrics import f1_score "
   ]
  },
  {
   "cell_type": "code",
   "execution_count": 26,
   "metadata": {},
   "outputs": [],
   "source": [
    "from sklearn.linear_model import LogisticRegression\n",
    "lr = LogisticRegression()\n",
    "sclf = StackingClassifier(classifiers=list_models, \n",
    "                          meta_classifier=lr)\n",
    "list_models.append(sclf)"
   ]
  },
  {
   "cell_type": "code",
   "execution_count": 27,
   "metadata": {},
   "outputs": [],
   "source": [
    "labels = [\n",
    "            'BernoulliNB',\n",
    "            'DecisionTreeClassifier',\n",
    "            'GradientBoostingClassifier',\n",
    "            'ExtraTreeClassifier',\n",
    "            'AdaBoostClassifier',\n",
    "            #'KNeighborsClassifier',\n",
    "            #'LDA',\n",
    "            #'SGDClassifier',\n",
    "            'LogisticRegressionCV', \n",
    "            'Stacking'\n",
    "            ]"
   ]
  },
  {
   "cell_type": "code",
   "execution_count": null,
   "metadata": {},
   "outputs": [
    {
     "name": "stdout",
     "output_type": "stream",
     "text": [
      "3-fold cross validation:\n",
      "\n"
     ]
    },
    {
     "name": "stderr",
     "output_type": "stream",
     "text": [
      "C:\\ProgramData\\Anaconda3\\lib\\site-packages\\sklearn\\metrics\\classification.py:1135: UndefinedMetricWarning: F-score is ill-defined and being set to 0.0 in labels with no predicted samples.\n",
      "  'precision', 'predicted', average, warn_for)\n",
      "C:\\ProgramData\\Anaconda3\\lib\\site-packages\\sklearn\\metrics\\classification.py:1135: UndefinedMetricWarning: F-score is ill-defined and being set to 0.0 in labels with no predicted samples.\n",
      "  'precision', 'predicted', average, warn_for)\n",
      "C:\\ProgramData\\Anaconda3\\lib\\site-packages\\sklearn\\metrics\\classification.py:1135: UndefinedMetricWarning: F-score is ill-defined and being set to 0.0 in labels with no predicted samples.\n",
      "  'precision', 'predicted', average, warn_for)\n"
     ]
    },
    {
     "name": "stdout",
     "output_type": "stream",
     "text": [
      "Accuracy: 0.44 (+/- 0.00) [BernoulliNB]\n",
      "Accuracy: 0.52 (+/- 0.00) [DecisionTreeClassifier]\n",
      "Accuracy: 0.55 (+/- 0.00) [GradientBoostingClassifier]\n",
      "Accuracy: 0.56 (+/- 0.00) [ExtraTreeClassifier]\n"
     ]
    },
    {
     "name": "stderr",
     "output_type": "stream",
     "text": [
      "C:\\ProgramData\\Anaconda3\\lib\\site-packages\\sklearn\\metrics\\classification.py:1135: UndefinedMetricWarning: F-score is ill-defined and being set to 0.0 in labels with no predicted samples.\n",
      "  'precision', 'predicted', average, warn_for)\n"
     ]
    },
    {
     "name": "stdout",
     "output_type": "stream",
     "text": [
      "Accuracy: 0.50 (+/- 0.01) [AdaBoostClassifier]\n"
     ]
    },
    {
     "name": "stderr",
     "output_type": "stream",
     "text": [
      "C:\\ProgramData\\Anaconda3\\lib\\site-packages\\sklearn\\metrics\\classification.py:1135: UndefinedMetricWarning: F-score is ill-defined and being set to 0.0 in labels with no predicted samples.\n",
      "  'precision', 'predicted', average, warn_for)\n",
      "C:\\ProgramData\\Anaconda3\\lib\\site-packages\\sklearn\\metrics\\classification.py:1135: UndefinedMetricWarning: F-score is ill-defined and being set to 0.0 in labels with no predicted samples.\n",
      "  'precision', 'predicted', average, warn_for)\n",
      "C:\\ProgramData\\Anaconda3\\lib\\site-packages\\sklearn\\metrics\\classification.py:1135: UndefinedMetricWarning: F-score is ill-defined and being set to 0.0 in labels with no predicted samples.\n",
      "  'precision', 'predicted', average, warn_for)\n"
     ]
    },
    {
     "name": "stdout",
     "output_type": "stream",
     "text": [
      "Accuracy: 0.36 (+/- 0.00) [LogisticRegressionCV]\n"
     ]
    }
   ],
   "source": [
    "print('3-fold cross validation:\\n')\n",
    "\n",
    "for clf, label in zip(list_models, \n",
    "                      labels):\n",
    "\n",
    "    scores = model_selection.cross_val_score(clf, X_train, Y_train, \n",
    "                                              cv=3, scoring='f1_weighted')\n",
    "    print(\"Accuracy: %0.2f (+/- %0.2f) [%s]\" \n",
    "          % (scores.mean(), scores.std(), label))"
   ]
  },
  {
   "cell_type": "code",
   "execution_count": null,
   "metadata": {},
   "outputs": [],
   "source": []
  },
  {
   "cell_type": "code",
   "execution_count": null,
   "metadata": {},
   "outputs": [],
   "source": []
  },
  {
   "cell_type": "code",
   "execution_count": null,
   "metadata": {},
   "outputs": [],
   "source": []
  },
  {
   "cell_type": "code",
   "execution_count": null,
   "metadata": {},
   "outputs": [],
   "source": []
  },
  {
   "cell_type": "code",
   "execution_count": null,
   "metadata": {},
   "outputs": [],
   "source": []
  },
  {
   "cell_type": "code",
   "execution_count": null,
   "metadata": {},
   "outputs": [],
   "source": [
    "# MODEL!"
   ]
  },
  {
   "cell_type": "code",
   "execution_count": null,
   "metadata": {},
   "outputs": [],
   "source": [
    "## Scaler\n",
    "\n",
    "Inutile pour les arbres, mais utiles pour les autres"
   ]
  },
  {
   "cell_type": "code",
   "execution_count": null,
   "metadata": {},
   "outputs": [],
   "source": [
    "from sklearn.preprocessing import StandardScaler\n",
    "scaler = StandardScaler()"
   ]
  },
  {
   "cell_type": "code",
   "execution_count": null,
   "metadata": {},
   "outputs": [],
   "source": [
    "## Normalizer"
   ]
  },
  {
   "cell_type": "code",
   "execution_count": null,
   "metadata": {},
   "outputs": [],
   "source": [
    "from sklearn.preprocessing import Normalizer\n",
    "normy = Normalizer()"
   ]
  },
  {
   "cell_type": "code",
   "execution_count": null,
   "metadata": {},
   "outputs": [],
   "source": [
    "# PCA"
   ]
  },
  {
   "cell_type": "code",
   "execution_count": null,
   "metadata": {},
   "outputs": [],
   "source": [
    "from sklearn.decomposition import PCA"
   ]
  },
  {
   "cell_type": "code",
   "execution_count": null,
   "metadata": {},
   "outputs": [],
   "source": [
    "pca = PCA()"
   ]
  },
  {
   "cell_type": "code",
   "execution_count": null,
   "metadata": {},
   "outputs": [],
   "source": [
    "# Feature Union"
   ]
  },
  {
   "cell_type": "code",
   "execution_count": null,
   "metadata": {},
   "outputs": [],
   "source": [
    "from sklearn.pipeline import FeatureUnion\n",
    "\n",
    "from sklearn.decomposition import KernelPCA\n",
    "estimators = [('linear_pca', PCA(n_components=5)), \n",
    "                  ('kernel_pca', KernelPCA(n_components=5))]\n",
    "combined = FeatureUnion(estimators)"
   ]
  },
  {
   "cell_type": "code",
   "execution_count": null,
   "metadata": {},
   "outputs": [],
   "source": [
    "#combined.fit_transform(X_train)"
   ]
  },
  {
   "cell_type": "markdown",
   "metadata": {},
   "source": [
    "# Feature Selection"
   ]
  },
  {
   "cell_type": "markdown",
   "metadata": {},
   "source": [
    "## Selection des variables avec une variance faible\n",
    "\n",
    "Ici, on vire tout ce qu'il y a une probabilité de 0.8 d'être la "
   ]
  },
  {
   "cell_type": "code",
   "execution_count": null,
   "metadata": {},
   "outputs": [],
   "source": [
    "from sklearn.feature_selection import VarianceThreshold"
   ]
  },
  {
   "cell_type": "code",
   "execution_count": null,
   "metadata": {},
   "outputs": [],
   "source": [
    "sel_vt = VarianceThreshold(threshold=(.8 * (1 - .8)))"
   ]
  },
  {
   "cell_type": "markdown",
   "metadata": {},
   "source": [
    "## Selection des K meilleures variables d'après le test de Chi2"
   ]
  },
  {
   "cell_type": "code",
   "execution_count": null,
   "metadata": {},
   "outputs": [],
   "source": [
    "from sklearn.feature_selection import SelectKBest\n",
    "from sklearn.feature_selection import chi2"
   ]
  },
  {
   "cell_type": "code",
   "execution_count": null,
   "metadata": {},
   "outputs": [],
   "source": [
    "Nb_Var = 15"
   ]
  },
  {
   "cell_type": "code",
   "execution_count": null,
   "metadata": {},
   "outputs": [],
   "source": [
    "Chi_select = SelectKBest(chi2, k=Nb_Var)\n",
    "del Nb_Var"
   ]
  },
  {
   "cell_type": "code",
   "execution_count": null,
   "metadata": {},
   "outputs": [],
   "source": [
    "## Selection par rapport à un modèle"
   ]
  },
  {
   "cell_type": "code",
   "execution_count": null,
   "metadata": {},
   "outputs": [],
   "source": [
    "from sklearn.feature_selection import SelectFromModel\n",
    "from sklearn.ensemble import RandomForestClassifier"
   ]
  },
  {
   "cell_type": "markdown",
   "metadata": {},
   "source": [
    "### Modèle de Selection"
   ]
  },
  {
   "cell_type": "code",
   "execution_count": null,
   "metadata": {},
   "outputs": [],
   "source": [
    "clf = RandomForestClassifier(n_jobs=-1, \n",
    "                             random_state=RANDOM_SEED)"
   ]
  },
  {
   "cell_type": "code",
   "execution_count": null,
   "metadata": {},
   "outputs": [],
   "source": [
    "### Contruction"
   ]
  },
  {
   "cell_type": "code",
   "execution_count": null,
   "metadata": {},
   "outputs": [],
   "source": [
    "sfm_clf = SelectFromModel(clf)\n",
    "del clf"
   ]
  },
  {
   "cell_type": "markdown",
   "metadata": {},
   "source": [
    "# Metriques\n",
    "\n",
    "D'abord, notre métrique à nous"
   ]
  },
  {
   "cell_type": "code",
   "execution_count": null,
   "metadata": {},
   "outputs": [],
   "source": [
    "### Calcul l'AUC de chaque classe"
   ]
  },
  {
   "cell_type": "code",
   "execution_count": null,
   "metadata": {},
   "outputs": [],
   "source": [
    "from sklearn.metrics import roc_auc_score\n",
    "from sklearn.preprocessing import LabelBinarizer"
   ]
  },
  {
   "cell_type": "code",
   "execution_count": null,
   "metadata": {},
   "outputs": [],
   "source": [
    "def multiclass_roc_auc_score(truth, pred):\n",
    "    lb = LabelBinarizer()\n",
    "    lb.fit(truth)\n",
    "    return roc_auc_score(lb.transform(truth), lb.transform(pred), average=\"weighted\")"
   ]
  },
  {
   "cell_type": "code",
   "execution_count": null,
   "metadata": {},
   "outputs": [],
   "source": [
    "### precision_class_AUC (pas safe), est utilisée pour le scoring de modèle (version adaptée de précédement)"
   ]
  },
  {
   "cell_type": "code",
   "execution_count": null,
   "metadata": {},
   "outputs": [],
   "source": [
    "def precision_class_AUC(estimator, X, y):\n",
    "    return multiclass_roc_auc_score(y, estimator.predict(X))"
   ]
  },
  {
   "cell_type": "code",
   "execution_count": null,
   "metadata": {},
   "outputs": [],
   "source": [
    "## Model!"
   ]
  },
  {
   "cell_type": "code",
   "execution_count": null,
   "metadata": {},
   "outputs": [],
   "source": [
    "from sklearn.ensemble import RandomForestClassifier"
   ]
  },
  {
   "cell_type": "code",
   "execution_count": null,
   "metadata": {},
   "outputs": [],
   "source": [
    "rnd_clf = RandomForestClassifier(n_jobs=-1, \n",
    "                                 random_state=RANDOM_SEED)"
   ]
  },
  {
   "cell_type": "code",
   "execution_count": null,
   "metadata": {},
   "outputs": [],
   "source": [
    "from sklearn.ensemble import GradientBoostingClassifier"
   ]
  },
  {
   "cell_type": "code",
   "execution_count": null,
   "metadata": {},
   "outputs": [],
   "source": [
    "gb_clf=GradientBoostingClassifier(random_state=RANDOM_SEED)"
   ]
  },
  {
   "cell_type": "code",
   "execution_count": null,
   "metadata": {},
   "outputs": [],
   "source": [
    "# Et on pipeline"
   ]
  },
  {
   "cell_type": "code",
   "execution_count": null,
   "metadata": {},
   "outputs": [],
   "source": [
    "from sklearn.pipeline import Pipeline"
   ]
  },
  {
   "cell_type": "code",
   "execution_count": null,
   "metadata": {},
   "outputs": [],
   "source": [
    "clf = Pipeline([\n",
    "    #('scaler', scaler), \n",
    "    #('norm', normy), \n",
    "    #('threshold', sel_vt), \n",
    "    #('SelectKBest', Chi_select), \n",
    "    #('reduce_dim', pca),\n",
    "    #('feature_union', combined),\n",
    "    #('feature_selection', sfm_clf),\n",
    "    ('classification', gb_clf)\n",
    "])\n",
    "\n",
    "\n",
    "clf.fit(X_train, Y_train);\n",
    "y_pred_rf = clf.predict(X_test)\n",
    "multiclass_roc_auc_score(Y_test, y_pred_rf)"
   ]
  },
  {
   "cell_type": "code",
   "execution_count": null,
   "metadata": {},
   "outputs": [],
   "source": [
    "from sklearn.metrics import confusion_matrix"
   ]
  },
  {
   "cell_type": "code",
   "execution_count": null,
   "metadata": {},
   "outputs": [],
   "source": [
    "def plot_confusion_matrix(matrix):\n",
    "    \"\"\"If you prefer color and a colorbar\"\"\"\n",
    "    fig = plt.figure(figsize=(8,8))\n",
    "    ax = fig.add_subplot(111)\n",
    "    cax = ax.matshow(matrix)\n",
    "    fig.colorbar(cax)\n",
    "    \n",
    "conf_mx = confusion_matrix(Y_test, y_pred_rf)\n",
    "plot_confusion_matrix(conf_mx)"
   ]
  },
  {
   "cell_type": "code",
   "execution_count": null,
   "metadata": {},
   "outputs": [],
   "source": []
  },
  {
   "cell_type": "code",
   "execution_count": null,
   "metadata": {},
   "outputs": [],
   "source": []
  },
  {
   "cell_type": "code",
   "execution_count": null,
   "metadata": {},
   "outputs": [],
   "source": []
  },
  {
   "cell_type": "code",
   "execution_count": null,
   "metadata": {},
   "outputs": [],
   "source": []
  },
  {
   "cell_type": "code",
   "execution_count": null,
   "metadata": {},
   "outputs": [],
   "source": [
    "params = {'max_leaf_nodes': [4, 8],\n",
    "          'max_depth' : [2, 4], \n",
    "          'n_estimators': [250, 500],\n",
    "          'min_samples_leaf': list(range(1, 3)),\n",
    "          'min_samples_split' : list(range(2, 3)),\n",
    "         }"
   ]
  },
  {
   "cell_type": "code",
   "execution_count": null,
   "metadata": {},
   "outputs": [],
   "source": [
    "rf_gs_cv = GridSearchCV(RandomForestClassifier(random_state=RANDOM_SEED, oob_score=True),\n",
    "                              params,\n",
    "                              scoring='f1_weighted',\n",
    "                              n_jobs=-1, \n",
    "                              verbose=1)"
   ]
  },
  {
   "cell_type": "code",
   "execution_count": null,
   "metadata": {},
   "outputs": [],
   "source": [
    "rf_gs_cv.fit(X_train, Y_train)"
   ]
  },
  {
   "cell_type": "code",
   "execution_count": null,
   "metadata": {},
   "outputs": [],
   "source": [
    "rf_gs_cv.best_estimator_"
   ]
  },
  {
   "cell_type": "code",
   "execution_count": null,
   "metadata": {},
   "outputs": [],
   "source": [
    "y_pred_cv_rf = rf_gs_cv.predict(X_test) "
   ]
  },
  {
   "cell_type": "code",
   "execution_count": null,
   "metadata": {},
   "outputs": [],
   "source": [
    "multiclass_roc_auc_score(Y_test, y_pred_cv_rf)"
   ]
  },
  {
   "cell_type": "code",
   "execution_count": null,
   "metadata": {},
   "outputs": [],
   "source": []
  },
  {
   "cell_type": "code",
   "execution_count": null,
   "metadata": {},
   "outputs": [],
   "source": [
    "from sklearn.pipeline import Pipeline\n",
    "from sklearn.model_selection import GridSearchCV\n",
    "from sklearn.feature_selection import SelectFromModel\n",
    "from sklearn.svm import LinearSVC"
   ]
  },
  {
   "cell_type": "code",
   "execution_count": null,
   "metadata": {},
   "outputs": [],
   "source": [
    "params_cv_long = {'bootstrap':True, \n",
    "                  'class_weight':None, \n",
    "                  'criterion':'gini',\n",
    "                  'max_depth':None, \n",
    "                  'max_features':'auto', \n",
    "                  'max_leaf_nodes':[4, 8, 12, 16, 18],\n",
    "                  'min_impurity_decrease':0.0, \n",
    "                  'min_impurity_split':None,\n",
    "                  'min_samples_leaf':list(range(1, 6)), \n",
    "                  'min_samples_split':list(range(2, 4)),\n",
    "                  'min_weight_fraction_leaf':0.0, \n",
    "                  'n_estimators':[100, 250, 500], \n",
    "                  'n_jobs':-1,\n",
    "                  'oob_score':False, \n",
    "                  'random_state':RANDOM_SEED, \n",
    "                  'verbose':0, \n",
    "                  'warm_start':False\n",
    "         }"
   ]
  },
  {
   "cell_type": "code",
   "execution_count": null,
   "metadata": {},
   "outputs": [],
   "source": [
    "clf = Pipeline([\n",
    "  ('feature_selection', SelectFromModel(RandomForestClassifier(n_estimators=500, \n",
    "                                 max_leaf_nodes=16, \n",
    "                                 n_jobs=-1, \n",
    "                                 random_state=RANDOM_SEED))),\n",
    "  ('classification', GridSearchCV(RandomForestClassifier(random_state=RANDOM_SEED), \n",
    "                              params,\n",
    "                              scoring='f1_weighted',\n",
    "                              n_jobs=-1, \n",
    "                              verbose=1))\n",
    "])\n"
   ]
  },
  {
   "cell_type": "code",
   "execution_count": null,
   "metadata": {},
   "outputs": [],
   "source": [
    "clf = Pipeline([\n",
    "  ('feature_selection', SelectFromModel(RandomForestClassifier(n_jobs=-1,random_state=RANDOM_SEED))),\n",
    "  ('classification', RandomForestClassifier(, \n",
    "                                 n_jobs=-1, \n",
    "                                 random_state=RANDOM_SEED,\n",
    "                                 ))\n",
    "])\n"
   ]
  },
  {
   "cell_type": "code",
   "execution_count": null,
   "metadata": {},
   "outputs": [],
   "source": [
    "clf.fit(X_train, Y_train)"
   ]
  },
  {
   "cell_type": "code",
   "execution_count": null,
   "metadata": {},
   "outputs": [],
   "source": [
    "y_pred_rf = clf.predict(X_test)"
   ]
  },
  {
   "cell_type": "code",
   "execution_count": null,
   "metadata": {},
   "outputs": [],
   "source": [
    "multiclass_roc_auc_score(Y_test, y_pred_rf)"
   ]
  },
  {
   "cell_type": "code",
   "execution_count": null,
   "metadata": {},
   "outputs": [],
   "source": []
  },
  {
   "cell_type": "code",
   "execution_count": null,
   "metadata": {},
   "outputs": [],
   "source": []
  },
  {
   "cell_type": "code",
   "execution_count": null,
   "metadata": {},
   "outputs": [],
   "source": []
  },
  {
   "cell_type": "code",
   "execution_count": null,
   "metadata": {},
   "outputs": [],
   "source": []
  },
  {
   "cell_type": "code",
   "execution_count": null,
   "metadata": {},
   "outputs": [],
   "source": [
    "from sklearn.model_selection import GridSearchCV"
   ]
  },
  {
   "cell_type": "code",
   "execution_count": null,
   "metadata": {},
   "outputs": [],
   "source": [
    "params = {'max_leaf_nodes': [4, 8],\n",
    "          'max_depth' : [2, 4], \n",
    "          'n_estimators': list(range(10, 50, 10)),\n",
    "          'min_samples_leaf': list(range(1, 3)),\n",
    "          'min_samples_split' : list(range(2, 3)),\n",
    "         }"
   ]
  },
  {
   "cell_type": "code",
   "execution_count": null,
   "metadata": {},
   "outputs": [],
   "source": [
    "rf_gs_cv = GridSearchCV(RandomForestClassifier(random_state=RANDOM_SEED, oob_score=True),\n",
    "                              params,\n",
    "                              scoring=precision_class_AUC,\n",
    "                              n_jobs=-1, \n",
    "                              verbose=1)"
   ]
  },
  {
   "cell_type": "code",
   "execution_count": null,
   "metadata": {},
   "outputs": [],
   "source": [
    "rf_gs_cv.fit(X_train, Y_train)\n",
    "rf_gs_cv.best_estimator_"
   ]
  },
  {
   "cell_type": "code",
   "execution_count": null,
   "metadata": {},
   "outputs": [],
   "source": [
    "y_pred_cv_rf = rf_gs_cv.predict(X_test) "
   ]
  },
  {
   "cell_type": "code",
   "execution_count": null,
   "metadata": {},
   "outputs": [],
   "source": [
    "multiclass_roc_auc_score(Y_test, y_pred_cv_rf)"
   ]
  },
  {
   "cell_type": "code",
   "execution_count": null,
   "metadata": {},
   "outputs": [],
   "source": [
    "conf_mx = confusion_matrix(Y_test, y_pred_cv_rf)\n",
    "plot_confusion_matrix(conf_mx)"
   ]
  }
 ],
 "metadata": {
  "kernelspec": {
   "display_name": "Python 3",
   "language": "python",
   "name": "python3"
  },
  "language_info": {
   "codemirror_mode": {
    "name": "ipython",
    "version": 3
   },
   "file_extension": ".py",
   "mimetype": "text/x-python",
   "name": "python",
   "nbconvert_exporter": "python",
   "pygments_lexer": "ipython3",
   "version": "3.6.3"
  }
 },
 "nbformat": 4,
 "nbformat_minor": 2
}
