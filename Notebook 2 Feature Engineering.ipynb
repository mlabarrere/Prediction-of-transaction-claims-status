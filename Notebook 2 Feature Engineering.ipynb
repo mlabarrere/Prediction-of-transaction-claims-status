{
 "cells": [
  {
   "cell_type": "markdown",
   "metadata": {},
   "source": [
    "# Aujourd'hui on se fait rouler par les mecs de l'ENS\n",
    "\n",
    "\n",
    "https://challengedata.ens.fr/en/challenge/39/prediction_of_transaction_claims_status.html\n",
    "\n",
    "\n",
    "Ici, c'est le notebook dédié au feature enginering - aka: le plus important de tous"
   ]
  },
  {
   "cell_type": "code",
   "execution_count": 1,
   "metadata": {
    "_cell_guid": "ea25cdf7-bdbc-3cf1-0737-bc51675e3374",
    "_uuid": "fed5696c67bf55a553d6d04313a77e8c617cad99"
   },
   "outputs": [
    {
     "name": "stdout",
     "output_type": "stream",
     "text": [
      "Python version: 3.6.3 |Anaconda custom (64-bit)| (default, Oct 15 2017, 03:27:45) [MSC v.1900 64 bit (AMD64)]\n",
      "pandas version: 0.22.0\n",
      "matplotlib version: 2.1.2\n",
      "NumPy version: 1.12.1\n",
      "SciPy version: 1.0.0\n",
      "IPython version: 6.2.1\n",
      "scikit-learn version: 0.19.1\n",
      "seaborn version: 0.8.1\n",
      "-------------------------\n"
     ]
    }
   ],
   "source": [
    "# This Python 3 environment comes with many helpful analytics libraries installed\n",
    "# It is defined by the kaggle/python docker image: https://github.com/kaggle/docker-python\n",
    "\n",
    "#load packages\n",
    "import sys #access to system parameters https://docs.python.org/3/library/sys.html\n",
    "print(\"Python version: {}\". format(sys.version))\n",
    "\n",
    "import pandas as pd #collection of functions for data processing and analysis modeled after R dataframes with SQL like features\n",
    "print(\"pandas version: {}\". format(pd.__version__))\n",
    "\n",
    "import matplotlib #collection of functions for scientific and publication-ready visualization\n",
    "print(\"matplotlib version: {}\". format(matplotlib.__version__))\n",
    "\n",
    "import numpy as np #foundational package for scientific computing\n",
    "print(\"NumPy version: {}\". format(np.__version__))\n",
    "\n",
    "import scipy as sp #collection of functions for scientific computing and advance mathematics\n",
    "print(\"SciPy version: {}\". format(sp.__version__)) \n",
    "\n",
    "import IPython\n",
    "from IPython import display #pretty printing of dataframes in Jupyter notebook\n",
    "print(\"IPython version: {}\". format(IPython.__version__)) \n",
    "\n",
    "import sklearn #collection of machine learning algorithms\n",
    "print(\"scikit-learn version: {}\". format(sklearn.__version__))\n",
    "\n",
    "import seaborn as sns\n",
    "print(\"seaborn version: {}\". format(sns.__version__))\n",
    "\n",
    "#misc libraries\n",
    "import time\n",
    "import random as rnd\n",
    "import os, gc\n",
    "\n",
    "#ignore warnings\n",
    "import warnings\n",
    "warnings.filterwarnings('ignore')\n",
    "print('-'*25)"
   ]
  },
  {
   "cell_type": "markdown",
   "metadata": {},
   "source": [
    "Moi j'ai ça:\n",
    "\n",
    "Python version: 3.6.3 |Anaconda custom (64-bit)| (default, Oct 15 2017, 03:27:45) [MSC v.1900 64 bit (AMD64)]\n",
    "\n",
    "pandas version: 0.22.0\n",
    "\n",
    "matplotlib version: 2.1.2\n",
    "\n",
    "NumPy version: 1.12.1\n",
    "\n",
    "SciPy version: 1.0.0\n",
    "\n",
    "IPython version: 6.2.1\n",
    "\n",
    "scikit-learn version: 0.19.1\n",
    "\n",
    "seaborn version: 0.8.1\n"
   ]
  },
  {
   "cell_type": "code",
   "execution_count": 2,
   "metadata": {},
   "outputs": [
    {
     "data": {
      "text/html": [
       "<div id=\"my_id_menu_nb\">run previous cell, wait for 2 seconds</div>\n",
       "<script>\n",
       "function repeat_indent_string(n){\n",
       "    var a = \"\" ;\n",
       "    for ( ; n > 0 ; --n)\n",
       "        a += \"    \";\n",
       "    return a;\n",
       "}\n",
       "var update_menu_string = function(begin, lfirst, llast, sformat, send, keep_item, begin_format, end_format) {\n",
       "    var anchors = document.getElementsByClassName(\"section\");\n",
       "    if (anchors.length == 0) {\n",
       "        anchors = document.getElementsByClassName(\"text_cell_render rendered_html\");\n",
       "    }\n",
       "    var i,t;\n",
       "    var text_menu = begin;\n",
       "    var text_memo = \"<pre>\\nlength:\" + anchors.length + \"\\n\";\n",
       "    var ind = \"\";\n",
       "    var memo_level = 1;\n",
       "    var href;\n",
       "    var tags = [];\n",
       "    var main_item = 0;\n",
       "    var format_open = 0;\n",
       "    for (i = 0; i <= llast; i++)\n",
       "        tags.push(\"h\" + i);\n",
       "\n",
       "    for (i = 0; i < anchors.length; i++) {\n",
       "        text_memo += \"**\" + anchors[i].id + \"--\\n\";\n",
       "\n",
       "        var child = null;\n",
       "        for(t = 0; t < tags.length; t++) {\n",
       "            var r = anchors[i].getElementsByTagName(tags[t]);\n",
       "            if (r.length > 0) {\n",
       "child = r[0];\n",
       "break;\n",
       "            }\n",
       "        }\n",
       "        if (child == null) {\n",
       "            text_memo += \"null\\n\";\n",
       "            continue;\n",
       "        }\n",
       "        if (anchors[i].hasAttribute(\"id\")) {\n",
       "            // when converted in RST\n",
       "            href = anchors[i].id;\n",
       "            text_memo += \"#1-\" + href;\n",
       "            // passer à child suivant (le chercher)\n",
       "        }\n",
       "        else if (child.hasAttribute(\"id\")) {\n",
       "            // in a notebook\n",
       "            href = child.id;\n",
       "            text_memo += \"#2-\" + href;\n",
       "        }\n",
       "        else {\n",
       "            text_memo += \"#3-\" + \"*\" + \"\\n\";\n",
       "            continue;\n",
       "        }\n",
       "        var title = child.textContent;\n",
       "        var level = parseInt(child.tagName.substring(1,2));\n",
       "\n",
       "        text_memo += \"--\" + level + \"?\" + lfirst + \"--\" + title + \"\\n\";\n",
       "\n",
       "        if ((level < lfirst) || (level > llast)) {\n",
       "            continue ;\n",
       "        }\n",
       "        if (title.endsWith('¶')) {\n",
       "            title = title.substring(0,title.length-1).replace(\"<\", \"&lt;\")\n",
       "         .replace(\">\", \"&gt;\").replace(\"&\", \"&amp;\");\n",
       "        }\n",
       "        if (title.length == 0) {\n",
       "            continue;\n",
       "        }\n",
       "\n",
       "        while (level < memo_level) {\n",
       "            text_menu += end_format + \"</ul>\\n\";\n",
       "            format_open -= 1;\n",
       "            memo_level -= 1;\n",
       "        }\n",
       "        if (level == lfirst) {\n",
       "            main_item += 1;\n",
       "        }\n",
       "        if (keep_item != -1 && main_item != keep_item + 1) {\n",
       "            // alert(main_item + \" - \" + level + \" - \" + keep_item);\n",
       "            continue;\n",
       "        }\n",
       "        while (level > memo_level) {\n",
       "            text_menu += \"<ul>\\n\";\n",
       "            memo_level += 1;\n",
       "        }\n",
       "        text_menu += repeat_indent_string(level-2);\n",
       "        text_menu += begin_format + sformat.replace(\"__HREF__\", href).replace(\"__TITLE__\", title);\n",
       "        format_open += 1;\n",
       "    }\n",
       "    while (1 < memo_level) {\n",
       "        text_menu += end_format + \"</ul>\\n\";\n",
       "        memo_level -= 1;\n",
       "        format_open -= 1;\n",
       "    }\n",
       "    text_menu += send;\n",
       "    //text_menu += \"\\n\" + text_memo;\n",
       "\n",
       "    while (format_open > 0) {\n",
       "        text_menu += end_format;\n",
       "        format_open -= 1;\n",
       "    }\n",
       "    return text_menu;\n",
       "};\n",
       "var update_menu = function() {\n",
       "    var sbegin = \"\";\n",
       "    var sformat = '<a href=\"#__HREF__\">__TITLE__</a>';\n",
       "    var send = \"\";\n",
       "    var begin_format = '<li>';\n",
       "    var end_format = '</li>';\n",
       "    var keep_item = -1;\n",
       "    var text_menu = update_menu_string(sbegin, 2, 4, sformat, send, keep_item,\n",
       "       begin_format, end_format);\n",
       "    var menu = document.getElementById(\"my_id_menu_nb\");\n",
       "    menu.innerHTML=text_menu;\n",
       "};\n",
       "window.setTimeout(update_menu,2000);\n",
       "            </script>"
      ],
      "text/plain": [
       "<IPython.core.display.HTML object>"
      ]
     },
     "execution_count": 2,
     "metadata": {},
     "output_type": "execute_result"
    }
   ],
   "source": [
    "# Run \"! pip install jyquickhelper\" dans une cellule si ca ne marche pas la commande suivante\n",
    "from jyquickhelper import add_notebook_menu\n",
    "add_notebook_menu()"
   ]
  },
  {
   "cell_type": "code",
   "execution_count": 3,
   "metadata": {},
   "outputs": [],
   "source": [
    "# To plot pretty figures\n",
    "%matplotlib inline\n",
    "import matplotlib\n",
    "import matplotlib.pyplot as plt\n",
    "plt.rcParams['axes.labelsize'] = 14\n",
    "plt.rcParams['xtick.labelsize'] = 12\n",
    "plt.rcParams['ytick.labelsize'] = 12"
   ]
  },
  {
   "cell_type": "markdown",
   "metadata": {
    "_cell_guid": "6b5dc743-15b1-aac6-405e-081def6ecca1",
    "_uuid": "2d307b99ee3d19da3c1cddf509ed179c21dec94a"
   },
   "source": [
    "## Chargement des données"
   ]
  },
  {
   "cell_type": "code",
   "execution_count": 4,
   "metadata": {},
   "outputs": [],
   "source": [
    "# Where to save the figures\n",
    "PROJECT_ROOT_DIR = \".\"\n",
    "DATA_PROCESSED = os.path.join(PROJECT_ROOT_DIR, \"data_processed\")\n",
    "\n",
    "def load_data(file,data_path=DATA_PROCESSED, sep=','):\n",
    "    csv_path = os.path.join(data_path, file)\n",
    "    return pd.read_csv(csv_path, sep)\n",
    "\n",
    "train_df = load_data(file = \"train.csv\", sep=';');\n",
    "test_df = load_data(file = \"test.csv\", sep=';');\n"
   ]
  },
  {
   "cell_type": "markdown",
   "metadata": {
    "_cell_guid": "3d6188f3-dc82-8ae6-dabd-83e28fcbf10d",
    "_uuid": "79282222056237a52bbbb1dbd831f057f1c23d69"
   },
   "source": [
    "## Analyse des types de données"
   ]
  },
  {
   "cell_type": "code",
   "execution_count": 5,
   "metadata": {
    "_cell_guid": "ce473d29-8d19-76b8-24a4-48c217286e42",
    "_uuid": "ef106f38a00e162a80c523778af6dcc778ccc1c2"
   },
   "outputs": [
    {
     "name": "stdout",
     "output_type": "stream",
     "text": [
      "<class 'pandas.core.frame.DataFrame'>\n",
      "RangeIndex: 100000 entries, 0 to 99999\n",
      "Data columns (total 22 columns):\n",
      "SHIPPING_MODE           100000 non-null object\n",
      "SHIPPING_PRICE          100000 non-null int64\n",
      "WARRANTIES_FLG          100000 non-null bool\n",
      "WARRANTIES_PRICE        100000 non-null int64\n",
      "CARD_PAYMENT            100000 non-null int64\n",
      "COUPON_PAYMENT          100000 non-null int64\n",
      "RSP_PAYMENT             100000 non-null int64\n",
      "WALLET_PAYMENT          100000 non-null int64\n",
      "PRICECLUB_STATUS        100000 non-null int64\n",
      "REGISTRATION_DATE       100000 non-null int64\n",
      "PURCHASE_COUNT          100000 non-null int64\n",
      "BUYER_BIRTHDAY_DATE     100000 non-null float64\n",
      "BUYER_DEPARTMENT        100000 non-null int64\n",
      "BUYING_DATE             100000 non-null int64\n",
      "SELLER_SCORE_COUNT      100000 non-null int64\n",
      "SELLER_SCORE_AVERAGE    100000 non-null float64\n",
      "SELLER_COUNTRY          100000 non-null object\n",
      "SELLER_DEPARTMENT       100000 non-null int64\n",
      "PRODUCT_TYPE            100000 non-null object\n",
      "PRODUCT_FAMILY          100000 non-null object\n",
      "ITEM_PRICE              100000 non-null int64\n",
      "CLAIM_TYPE              100000 non-null object\n",
      "dtypes: bool(1), float64(2), int64(14), object(5)\n",
      "memory usage: 16.1+ MB\n"
     ]
    }
   ],
   "source": [
    "train_df.info()"
   ]
  },
  {
   "cell_type": "markdown",
   "metadata": {},
   "source": [
    "## Plan d'action:\n",
    "\n",
    "Idées de features engineering:\n",
    "1. Taux de couverture de la garantie -> `WARRANTY_COV_RATE`. Ou faire la perte en cas de claim \n",
    "2. Classer les `SHIPPING_MODE` en fonction de leurs prix et/ou des services proposés\n",
    "3. `SELLER_COUNTRY` en fonction de leurs PIB/habitants -> `SELLER_COUNTRY_PIB`\n",
    "4. La densité de population par departement, pour montrer les grosses villes ou non (densité parce que 2 infos : nombre/superficie) -> `BUYER_DEPARTMENT_DENSITY` & `SELLER_DEPARTMENT_DENSITY`\n",
    "5. Les PIB des départements -> `BUYER_DEPARTMENT_PIB` & `SELLER_DEPARTMENT_PIB`\n",
    "6. Le niveau d'économie générale -> `CAC_POINTS` & `CAC_VAR`\n",
    "7. A au moins une semaine de vacances scolaires dans le mois -> `IS_HOLIDAYS`\n",
    "8. A des soldes dans le mois -> `IS_SALES`\n",
    "9. Le niveau de température par mois -> `TEMPERATURE` (pas encore faite)\n",
    "10. Le taux de chomage par départements -> `UNEMPLOYMENT` (pas urgent, certainement très corrélé avec le PIB)\n",
    "\n",
    "\n",
    "Trouver un moyen de retrouver les clients via les données personelles \n",
    "\n",
    "Je vais utiliser que des `pandas.Series.map(arg, na_action=None)` pour s'assurer de ne pas laisser des trous dans la raquette.\n",
    "\n",
    "A chaque fois j'utilise un `mapper` qui ressemble à `{valeur_à_remplacer_1: nouvelle_valeur_1, valeur_à_remplacer_2: nouvelle_valeur_2, etc...}`.\n",
    "\n",
    "Aussi, je vais remplacer les valeurs manquante des départements par des valeurs extrèmes comme des `-9999` ou `-99` en fonction de l'intervalle de la variable"
   ]
  },
  {
   "cell_type": "code",
   "execution_count": 6,
   "metadata": {
    "_cell_guid": "9b805f69-665a-2b2e-f31d-50d87d52865d",
    "_uuid": "817e1cf0ca1cb96c7a28bb81192d92261a8bf427"
   },
   "outputs": [],
   "source": [
    "#train_df.info()\n",
    "#print('_'*40)\n",
    "#test_df.info()"
   ]
  },
  {
   "cell_type": "markdown",
   "metadata": {},
   "source": [
    "### WARRANTY_COV_RATE"
   ]
  },
  {
   "cell_type": "code",
   "execution_count": 7,
   "metadata": {},
   "outputs": [
    {
     "name": "stdout",
     "output_type": "stream",
     "text": [
      "[0 1 2 3 4 5 6]\n",
      "[0 1 2 3 4 5 6]\n"
     ]
    }
   ],
   "source": [
    "## ITEM_PRICE\n",
    "print(train_df.ITEM_PRICE.sort_values().unique())\n",
    "print(test_df.ITEM_PRICE.sort_values().unique())"
   ]
  },
  {
   "cell_type": "code",
   "execution_count": 8,
   "metadata": {},
   "outputs": [
    {
     "name": "stdout",
     "output_type": "stream",
     "text": [
      "[0 1 2 3 4 5]\n",
      "[0 1 2 3 4 5]\n"
     ]
    }
   ],
   "source": [
    "## WARRANTIES_PRICE\n",
    "print(train_df.WARRANTIES_PRICE.sort_values().unique())\n",
    "print(test_df.WARRANTIES_PRICE.sort_values().unique())"
   ]
  },
  {
   "cell_type": "markdown",
   "metadata": {},
   "source": [
    "Bon, comme il y a des 0 dans les Item Prices, on va devoir faire (WARRANTIES_PRICE)/(ITEM_PRICE+1)"
   ]
  },
  {
   "cell_type": "code",
   "execution_count": 9,
   "metadata": {},
   "outputs": [],
   "source": [
    "train_df['WARRANTY_COV_RATE'] = (train_df.WARRANTIES_PRICE)/(train_df.ITEM_PRICE+1)\n",
    "test_df['WARRANTY_COV_RATE'] = (test_df.WARRANTIES_PRICE)/(test_df.ITEM_PRICE+1)"
   ]
  },
  {
   "cell_type": "code",
   "execution_count": 10,
   "metadata": {
    "scrolled": true
   },
   "outputs": [
    {
     "name": "stdout",
     "output_type": "stream",
     "text": [
      "[ 0.          0.2         0.25        0.33333333  0.4         0.5\n",
      "  0.57142857  0.6         0.66666667  0.71428571  0.75        0.8\n",
      "  0.83333333  1.          2.        ]\n",
      "[ 0.          0.2         0.25        0.33333333  0.4         0.5\n",
      "  0.57142857  0.6         0.66666667  0.71428571  0.75        0.8\n",
      "  0.83333333  1.          2.        ]\n"
     ]
    }
   ],
   "source": [
    "print(train_df.WARRANTY_COV_RATE.sort_values().unique())\n",
    "print(test_df.WARRANTY_COV_RATE.sort_values().unique())"
   ]
  },
  {
   "cell_type": "markdown",
   "metadata": {},
   "source": [
    "### SELLER_COUNTRY_GINI"
   ]
  },
  {
   "cell_type": "code",
   "execution_count": 11,
   "metadata": {},
   "outputs": [],
   "source": [
    "# A faire"
   ]
  },
  {
   "cell_type": "code",
   "execution_count": null,
   "metadata": {},
   "outputs": [],
   "source": []
  },
  {
   "cell_type": "markdown",
   "metadata": {},
   "source": [
    "### SELLER_COUNTRY_PIB"
   ]
  },
  {
   "cell_type": "code",
   "execution_count": 12,
   "metadata": {},
   "outputs": [
    {
     "name": "stdout",
     "output_type": "stream",
     "text": [
      "['ANDORRA' 'AUSTRIA' 'BELGIUM' 'BULGARIA' 'CANADA' 'CHINA' 'CYPRUS'\n",
      " 'ESTONIA' 'FRANCE, METROPOLITAN' 'GERMANY' 'GIBRALTAR' 'GREECE' 'GUYANA'\n",
      " 'HONG KONG' 'IRELAND' 'ISRAEL' 'ITALY' 'JAPAN' 'JERSEY' 'LATVIA'\n",
      " 'LIECHTENSTEIN' 'LITHUANIA' 'LUXEMBOURG' 'MALAYSIA' 'MALTA' 'MARTINIQUE'\n",
      " 'NETHERLANDS' 'POLAND' 'PORTUGAL' 'ROMANIA' 'SINGAPORE'\n",
      " 'SLOVAKIA (Slovak Republic)' 'SLOVENIA' 'SPAIN' 'SWEDEN' 'SWITZERLAND'\n",
      " 'UNITED KINGDOM' 'UNITED STATES' 'VATICAN CITY STATE (HOLY SEE)']\n",
      "['ANDORRA' 'AUSTRIA' 'BELGIUM' 'BULGARIA' 'CANADA' 'CHINA' 'ESTONIA'\n",
      " 'FRANCE, METROPOLITAN' 'GERMANY' 'GIBRALTAR' 'GUYANA' 'HONG KONG'\n",
      " 'IRELAND' 'ISRAEL' 'ITALY' 'JAPAN' 'JERSEY' 'LATVIA' 'LIECHTENSTEIN'\n",
      " 'LUXEMBOURG' 'MALAYSIA' 'MARTINIQUE' 'NETHERLANDS' 'POLAND' 'PORTUGAL'\n",
      " 'ROMANIA' 'SINGAPORE' 'SLOVAKIA (Slovak Republic)' 'SLOVENIA' 'SPAIN'\n",
      " 'SWEDEN' 'SWITZERLAND' 'UNITED KINGDOM' 'UNITED STATES'\n",
      " 'VATICAN CITY STATE (HOLY SEE)']\n"
     ]
    }
   ],
   "source": [
    "print(train_df.SELLER_COUNTRY.sort_values().unique())\n",
    "print(test_df.SELLER_COUNTRY.sort_values().unique())"
   ]
  },
  {
   "cell_type": "code",
   "execution_count": 13,
   "metadata": {},
   "outputs": [],
   "source": [
    "mapper={ 'ANDORRA':40215, 'AUSTRIA':49038, 'BELGIUM':45537, 'BULGARIA':7328, 'CANADA':52037, 'CHINA':6958, 'CYPRUS':24866, 'ESTONIA':18852, 'FRANCE, METROPOLITAN':44098, 'GERMANY':44999, 'GIBRALTAR': 38200, 'GREECE':21857, 'GUYANA':3755, 'HONG KONG':37955, 'IRELAND':48607, 'ISRAEL':36926, 'ITALY':34714, 'JAPAN':38467, 'JERSEY':49500, 'LATVIA':15187, 'LIECHTENSTEIN':179478, 'LUXEMBOURG':112472, 'LITHUANIA':15648, 'MALAYSIA':10456, 'MALTA':22892, 'MARTINIQUE':10700, 'NETHERLANDS':50815, 'POLAND':13435, 'PORTUGAL':20995, 'ROMANIA':8873, 'SINGAPORE':55182, 'SLOVAKIA (Slovak Republic)':16499, 'SLOVENIA':23316, 'SPAIN':29150, 'SWEDEN':58014, 'SWITZERLAND':81276, 'UNITED KINGDOM':39371, 'UNITED STATES':53000, 'VATICAN CITY STATE (HOLY SEE)':21198 }\n",
    "\n",
    "train_df['SELLER_COUNTRY_PIB'] = train_df.SELLER_COUNTRY.map(mapper)\n",
    "test_df['SELLER_COUNTRY_PIB'] = test_df.SELLER_COUNTRY.map(mapper)"
   ]
  },
  {
   "cell_type": "markdown",
   "metadata": {},
   "source": [
    "### SELLER_COUNTRY_DISTANCE"
   ]
  },
  {
   "cell_type": "code",
   "execution_count": 14,
   "metadata": {},
   "outputs": [],
   "source": [
    "mapper={ 'ANDORRA':709, 'AUSTRIA':1037, 'BELGIUM':264, 'BULGARIA':1761, 'CANADA':5665, 'CHINA':8237, 'CYPRUS':2954, 'ESTONIA':1863, 'FRANCE, METROPOLITAN':0, 'GERMANY':878, 'GIBRALTAR': 1546, 'GREECE':2099, 'GUYANA':7074, 'HONG KONG':9645, 'IRELAND':782, 'ISRAEL':3282, 'ITALY':1107, 'JAPAN':9736, 'JERSEY':400, 'LATVIA':1707, 'LIECHTENSTEIN':568, 'LUXEMBOURG':288, 'LITHUANIA':1701, 'MALAYSIA':10429, 'MALTA':1749, 'MARTINIQUE':6860, 'NETHERLANDS':430, 'POLAND':1370, 'PORTUGAL':1453, 'ROMANIA':1875, 'SINGAPORE':10742, 'SLOVAKIA (Slovak Republic)':1092, 'SLOVENIA':967, 'SPAIN':1053, 'SWEDEN':1547, 'SWITZERLAND':81276, 'UNITED KINGDOM':344, 'UNITED STATES':5853, 'VATICAN CITY STATE (HOLY SEE)':1104 }\n",
    "\n",
    "train_df['SELLER_COUNTRY_DISTANCE'] = train_df.SELLER_COUNTRY.map(mapper)\n",
    "test_df['SELLER_COUNTRY_DISTANCE'] = test_df.SELLER_COUNTRY.map(mapper)"
   ]
  },
  {
   "cell_type": "markdown",
   "metadata": {},
   "source": [
    "### BUYER_DEPARTMENT_DENSITY"
   ]
  },
  {
   "cell_type": "code",
   "execution_count": 15,
   "metadata": {},
   "outputs": [],
   "source": [
    "mapper={0:-99,1:106,10:59,11:58,12:32,13:392,14:124,15:26,16:59,17:92,18:43,19:41,20:36,2:73,21:60,22:87,23:21,24:46,25:101,26:75,27:98,28:73,29:134,3:47,30:125,31:206,32:30,33:151,34:179,35:151,36:34,37:97,38:166,39:52,4:23,40:43,41:52,42:158,43:45,44:195,45:98,46:33,47:62,48:14,49:112,5:25,50:84,51:70,52:30,53:51,54:139,55:31,56:108,57:168,58:31,59:452,6:251,60:139,61:48,62:220,63:80,64:86,65:51,66:111,67:233,68:215,69:548,7:58,70:45,71:65,72:91,73:70,74:175,75:21154,76:200,77:231,78:621,79:62,8:54,80:93,81:66,82:66,83:172,84:157,85:97,86:62,87:68,88:64,89:46,9:31,90:235,91:695,92:9062,93:6573,94:5526,95:959,971:248,972:344,973:3,974:334,976:566}\n",
    "\n",
    "train_df['BUYER_DEPARTMENT_DENSITY'] = train_df.BUYER_DEPARTMENT.map(mapper)\n",
    "test_df['BUYER_DEPARTMENT_DENSITY'] = test_df.BUYER_DEPARTMENT.map(mapper)"
   ]
  },
  {
   "cell_type": "markdown",
   "metadata": {},
   "source": [
    "### SELLER_DEPARTMENT_DENSITY"
   ]
  },
  {
   "cell_type": "code",
   "execution_count": 16,
   "metadata": {},
   "outputs": [],
   "source": [
    "train_df['SELLER_DEPARTMENT_DENSITY'] = train_df.SELLER_DEPARTMENT.map(mapper)\n",
    "test_df['SELLER_DEPARTMENT_DENSITY'] = test_df.SELLER_DEPARTMENT.map(mapper)"
   ]
  },
  {
   "cell_type": "markdown",
   "metadata": {},
   "source": [
    "### BUYER_DEPARTMENT_PIB"
   ]
  },
  {
   "cell_type": "code",
   "execution_count": 17,
   "metadata": {},
   "outputs": [],
   "source": [
    "mapper={0:-99999,1:22850,2:19908,3:21489,4:21135,5:25872,6:27723,7:19537,8:20263,9:19782,10:24089,11:20595,12:22191,13:27818,14:23724,15:19652,16:23736,17:20919,18:22272,19:22842,21:28139,22:21179,23:18475,24:18953,25:25700,26:25574,27:20986,28:21769,29:24094,20:23783,30:20589,31:29869,32:19791,33:27452,34:22999,35:27788,36:20667,37:24531,38:26355,39:22515,40:22749,41:22575,42:22160,43:19460,44:27310,45:28681,46:21101,47:20825,48:20889,49:22743,50:21767,51:29369,52:21388,53:23713,54:23540,55:20236,56:22283,57:22643,58:19769,59:23567,60:22656,61:20885,62:18841,63:25921,64:25518,65:22664,66:20393,67:26815,68:23927,69:34257,70:19070,71:22061,72:24283,73:29532,74:26935,75:75439,76:26583,77:23480,78:30507,79:24984,80:22513,81:20081,82:20773,83:22915,84:23280,85:23500,86:23190,87:23619,88:21830,89:22198,90:23982,91:26718,92:73277,93:27420,94:29250,95:25765,971:23000,972:23000,973:23000,974:23000,976:23000}\n",
    "\n",
    "train_df['BUYER_DEPARTMENT_PIB'] = train_df.BUYER_DEPARTMENT.map(mapper)\n",
    "test_df['BUYER_DEPARTMENT_PIB'] = test_df.BUYER_DEPARTMENT.map(mapper)"
   ]
  },
  {
   "cell_type": "markdown",
   "metadata": {},
   "source": [
    "### SELLER_DEPARTMENT_PIB"
   ]
  },
  {
   "cell_type": "code",
   "execution_count": 18,
   "metadata": {},
   "outputs": [],
   "source": [
    "train_df['SELLER_DEPARTMENT_PIB'] = train_df.SELLER_DEPARTMENT.map(mapper)\n",
    "test_df['SELLER_DEPARTMENT_PIB'] = test_df.SELLER_DEPARTMENT.map(mapper)"
   ]
  },
  {
   "cell_type": "markdown",
   "metadata": {},
   "source": [
    "### CAC_POINTS"
   ]
  },
  {
   "cell_type": "code",
   "execution_count": 19,
   "metadata": {},
   "outputs": [],
   "source": [
    "mapper={ 1:4748, 2:4858, 3:5122, 4:5267, 5:5283, 6:5120, 7:5093, 8:5085, 9:5329, 10:5503, 11:5372, 12:5316 }\n",
    "\n",
    "train_df['CAC_POINTS'] = train_df.BUYING_DATE.map(mapper)\n",
    "test_df['CAC_POINTS'] = test_df.BUYING_DATE.map(mapper)"
   ]
  },
  {
   "cell_type": "markdown",
   "metadata": {},
   "source": [
    "### CAC_VAR"
   ]
  },
  {
   "cell_type": "code",
   "execution_count": 20,
   "metadata": {},
   "outputs": [],
   "source": [
    "mapper={1:-2, 2:2, 3:5, 4:3, 5:0, 6:-3, 7:-1, 8:0, 9:5, 10:3, 11:-2, 12:-1}\n",
    "\n",
    "train_df['CAC_VAR'] = train_df.BUYING_DATE.map(mapper)\n",
    "test_df['CAC_VAR'] = test_df.BUYING_DATE.map(mapper)"
   ]
  },
  {
   "cell_type": "markdown",
   "metadata": {},
   "source": [
    "### IS_HOLIDAYS"
   ]
  },
  {
   "cell_type": "code",
   "execution_count": 21,
   "metadata": {},
   "outputs": [],
   "source": [
    "mapper={1:1, 2:1, 3:0, 4:0, 5:0, 6:0, 7:1, 8:1, 9:0, 10:1, 11:0, 12:1}\n",
    "\n",
    "train_df['IS_HOLIDAYS'] = train_df.BUYING_DATE.map(mapper)\n",
    "test_df['IS_HOLIDAYS'] = test_df.BUYING_DATE.map(mapper)"
   ]
  },
  {
   "cell_type": "markdown",
   "metadata": {},
   "source": [
    "### IS_SALES"
   ]
  },
  {
   "cell_type": "code",
   "execution_count": 22,
   "metadata": {},
   "outputs": [],
   "source": [
    "mapper={1:1, 2:1, 3:0, 4:0, 5:0, 6:1, 7:1, 8:1, 9:0, 10:0, 11:0, 12:0}\n",
    "\n",
    "train_df['IS_SALES'] = train_df.BUYING_DATE.map(mapper)\n",
    "test_df['IS_SALES'] = test_df.BUYING_DATE.map(mapper)"
   ]
  },
  {
   "cell_type": "code",
   "execution_count": 23,
   "metadata": {},
   "outputs": [
    {
     "name": "stdout",
     "output_type": "stream",
     "text": [
      "<class 'pandas.core.frame.DataFrame'>\n",
      "RangeIndex: 100000 entries, 0 to 99999\n",
      "Data columns (total 33 columns):\n",
      "SHIPPING_MODE                100000 non-null object\n",
      "SHIPPING_PRICE               100000 non-null int64\n",
      "WARRANTIES_FLG               100000 non-null bool\n",
      "WARRANTIES_PRICE             100000 non-null int64\n",
      "CARD_PAYMENT                 100000 non-null int64\n",
      "COUPON_PAYMENT               100000 non-null int64\n",
      "RSP_PAYMENT                  100000 non-null int64\n",
      "WALLET_PAYMENT               100000 non-null int64\n",
      "PRICECLUB_STATUS             100000 non-null int64\n",
      "REGISTRATION_DATE            100000 non-null int64\n",
      "PURCHASE_COUNT               100000 non-null int64\n",
      "BUYER_BIRTHDAY_DATE          100000 non-null float64\n",
      "BUYER_DEPARTMENT             100000 non-null int64\n",
      "BUYING_DATE                  100000 non-null int64\n",
      "SELLER_SCORE_COUNT           100000 non-null int64\n",
      "SELLER_SCORE_AVERAGE         100000 non-null float64\n",
      "SELLER_COUNTRY               100000 non-null object\n",
      "SELLER_DEPARTMENT            100000 non-null int64\n",
      "PRODUCT_TYPE                 100000 non-null object\n",
      "PRODUCT_FAMILY               100000 non-null object\n",
      "ITEM_PRICE                   100000 non-null int64\n",
      "CLAIM_TYPE                   100000 non-null object\n",
      "WARRANTY_COV_RATE            100000 non-null float64\n",
      "SELLER_COUNTRY_PIB           100000 non-null int64\n",
      "SELLER_COUNTRY_DISTANCE      100000 non-null int64\n",
      "BUYER_DEPARTMENT_DENSITY     100000 non-null int64\n",
      "SELLER_DEPARTMENT_DENSITY    100000 non-null int64\n",
      "BUYER_DEPARTMENT_PIB         100000 non-null int64\n",
      "SELLER_DEPARTMENT_PIB        100000 non-null int64\n",
      "CAC_POINTS                   100000 non-null int64\n",
      "CAC_VAR                      100000 non-null int64\n",
      "IS_HOLIDAYS                  100000 non-null int64\n",
      "IS_SALES                     100000 non-null int64\n",
      "dtypes: bool(1), float64(3), int64(24), object(5)\n",
      "memory usage: 24.5+ MB\n",
      "________________________________________\n",
      "<class 'pandas.core.frame.DataFrame'>\n",
      "RangeIndex: 99995 entries, 0 to 99994\n",
      "Data columns (total 33 columns):\n",
      "ID                           99995 non-null int64\n",
      "SHIPPING_MODE                99995 non-null object\n",
      "SHIPPING_PRICE               99995 non-null int64\n",
      "WARRANTIES_FLG               99995 non-null bool\n",
      "WARRANTIES_PRICE             99995 non-null int64\n",
      "CARD_PAYMENT                 99995 non-null int64\n",
      "COUPON_PAYMENT               99995 non-null int64\n",
      "RSP_PAYMENT                  99995 non-null int64\n",
      "WALLET_PAYMENT               99995 non-null int64\n",
      "PRICECLUB_STATUS             99995 non-null int64\n",
      "REGISTRATION_DATE            99995 non-null int64\n",
      "PURCHASE_COUNT               99995 non-null int64\n",
      "BUYER_BIRTHDAY_DATE          99995 non-null float64\n",
      "BUYER_DEPARTMENT             99995 non-null int64\n",
      "BUYING_DATE                  99995 non-null int64\n",
      "SELLER_SCORE_COUNT           99995 non-null int64\n",
      "SELLER_SCORE_AVERAGE         99995 non-null float64\n",
      "SELLER_COUNTRY               99995 non-null object\n",
      "SELLER_DEPARTMENT            99995 non-null int64\n",
      "PRODUCT_TYPE                 99995 non-null object\n",
      "PRODUCT_FAMILY               99995 non-null object\n",
      "ITEM_PRICE                   99995 non-null int64\n",
      "WARRANTY_COV_RATE            99995 non-null float64\n",
      "SELLER_COUNTRY_PIB           99995 non-null int64\n",
      "SELLER_COUNTRY_DISTANCE      99995 non-null int64\n",
      "BUYER_DEPARTMENT_DENSITY     99995 non-null int64\n",
      "SELLER_DEPARTMENT_DENSITY    99995 non-null int64\n",
      "BUYER_DEPARTMENT_PIB         99995 non-null int64\n",
      "SELLER_DEPARTMENT_PIB        99995 non-null int64\n",
      "CAC_POINTS                   99995 non-null int64\n",
      "CAC_VAR                      99995 non-null int64\n",
      "IS_HOLIDAYS                  99995 non-null int64\n",
      "IS_SALES                     99995 non-null int64\n",
      "dtypes: bool(1), float64(3), int64(25), object(4)\n",
      "memory usage: 24.5+ MB\n"
     ]
    }
   ],
   "source": [
    "train_df.info()\n",
    "print('_'*40)\n",
    "test_df.info()"
   ]
  },
  {
   "cell_type": "markdown",
   "metadata": {},
   "source": [
    "Actuellement, il nous reste encore quatre variables catégorielles:\n",
    "1. `SHIPPING_MODE`\n",
    "2. `SELLER_COUNTRY`\n",
    "3. `PRODUCT_TYPE`\n",
    "4. `PRODUCT_FAMILY`\n",
    "\n",
    "Mais bon, `SELLER_COUNTRY` a maintenant plusieurs représentations numériques, donc en vrai, il n'en reste que 3.\n",
    "\n",
    "On va voir ce qu'on peut faire avec `PRODUCT_TYPE` dans le  `Notebook 3 Stat des Sellers et clients`\n",
    "\n",
    "Mais quel teasing!\n",
    "\n",
    "Et on oublie pas d'écrire les résultats de nos transformations."
   ]
  },
  {
   "cell_type": "code",
   "execution_count": 24,
   "metadata": {},
   "outputs": [],
   "source": [
    "filename_train = DATA_PROCESSED+\"/train.csv\"\n",
    "filename_test = DATA_PROCESSED+\"/test.csv\"\n",
    "\n",
    "try:\n",
    "    os.remove(filename_train)\n",
    "    os.remove(filename_test)\n",
    "except:\n",
    "    pass;\n",
    "\n",
    "train_df.to_csv(filename_train, index=False, sep=\";\")\n",
    "test_df.to_csv(filename_test, index=False, sep=\";\")"
   ]
  }
 ],
 "metadata": {
  "_change_revision": 0,
  "_is_fork": false,
  "kernelspec": {
   "display_name": "Python 3",
   "language": "python",
   "name": "python3"
  },
  "language_info": {
   "codemirror_mode": {
    "name": "ipython",
    "version": 3
   },
   "file_extension": ".py",
   "mimetype": "text/x-python",
   "name": "python",
   "nbconvert_exporter": "python",
   "pygments_lexer": "ipython3",
   "version": "3.6.3"
  }
 },
 "nbformat": 4,
 "nbformat_minor": 1
}
