{
 "cells": [
  {
   "cell_type": "markdown",
   "metadata": {},
   "source": [
    "# Aujourd'hui on se fait rouler par les mecs de l'ENS\n",
    "\n",
    "\n",
    "https://challengedata.ens.fr/en/challenge/39/prediction_of_transaction_claims_status.html\n",
    "\n",
    "\n",
    "Ici, c'est le notebook dédié uniquement à:\n",
    "1. Gestion des données manquantes\n",
    "2. Correction des erreurs"
   ]
  },
  {
   "cell_type": "code",
   "execution_count": 1,
   "metadata": {
    "_cell_guid": "ea25cdf7-bdbc-3cf1-0737-bc51675e3374",
    "_uuid": "fed5696c67bf55a553d6d04313a77e8c617cad99"
   },
   "outputs": [
    {
     "name": "stdout",
     "output_type": "stream",
     "text": [
      "Python version: 3.6.4 |Anaconda custom (64-bit)| (default, Mar 12 2018, 20:20:50) [MSC v.1900 64 bit (AMD64)]\n",
      "pandas version: 0.22.0\n",
      "matplotlib version: 2.2.2\n",
      "NumPy version: 1.12.1\n",
      "SciPy version: 1.0.0\n",
      "IPython version: 6.2.1\n",
      "scikit-learn version: 0.19.1\n",
      "seaborn version: 0.8.1\n",
      "-------------------------\n"
     ]
    }
   ],
   "source": [
    "# This Python 3 environment comes with many helpful analytics libraries installed\n",
    "# It is defined by the kaggle/python docker image: https://github.com/kaggle/docker-python\n",
    "\n",
    "#load packages\n",
    "import sys #access to system parameters https://docs.python.org/3/library/sys.html\n",
    "print(\"Python version: {}\". format(sys.version))\n",
    "\n",
    "import pandas as pd #collection of functions for data processing and analysis modeled after R dataframes with SQL like features\n",
    "print(\"pandas version: {}\". format(pd.__version__))\n",
    "\n",
    "import matplotlib #collection of functions for scientific and publication-ready visualization\n",
    "print(\"matplotlib version: {}\". format(matplotlib.__version__))\n",
    "\n",
    "import numpy as np #foundational package for scientific computing\n",
    "print(\"NumPy version: {}\". format(np.__version__))\n",
    "\n",
    "import scipy as sp #collection of functions for scientific computing and advance mathematics\n",
    "print(\"SciPy version: {}\". format(sp.__version__)) \n",
    "\n",
    "import IPython\n",
    "from IPython import display #pretty printing of dataframes in Jupyter notebook\n",
    "print(\"IPython version: {}\". format(IPython.__version__)) \n",
    "\n",
    "import sklearn #collection of machine learning algorithms\n",
    "print(\"scikit-learn version: {}\". format(sklearn.__version__))\n",
    "\n",
    "import seaborn as sns\n",
    "print(\"seaborn version: {}\". format(sns.__version__))\n",
    "\n",
    "#misc libraries\n",
    "import time\n",
    "import random as rnd\n",
    "import os, gc\n",
    "\n",
    "#ignore warnings\n",
    "import warnings\n",
    "warnings.filterwarnings('ignore')\n",
    "print('-'*25)"
   ]
  },
  {
   "cell_type": "markdown",
   "metadata": {},
   "source": [
    "Moi j'ai ça:\n",
    "\n",
    "Python version: 3.6.3 |Anaconda custom (64-bit)| (default, Oct 15 2017, 03:27:45) [MSC v.1900 64 bit (AMD64)]\n",
    "\n",
    "pandas version: 0.22.0\n",
    "\n",
    "matplotlib version: 2.1.2\n",
    "\n",
    "NumPy version: 1.12.1\n",
    "\n",
    "SciPy version: 1.0.0\n",
    "\n",
    "IPython version: 6.2.1\n",
    "\n",
    "scikit-learn version: 0.19.1\n",
    "\n",
    "seaborn version: 0.8.1\n"
   ]
  },
  {
   "cell_type": "code",
   "execution_count": 2,
   "metadata": {},
   "outputs": [
    {
     "data": {
      "text/html": [
       "<div id=\"my_id_menu_nb\">run previous cell, wait for 2 seconds</div>\n",
       "<script>\n",
       "function repeat_indent_string(n){\n",
       "    var a = \"\" ;\n",
       "    for ( ; n > 0 ; --n)\n",
       "        a += \"    \";\n",
       "    return a;\n",
       "}\n",
       "var update_menu_string = function(begin, lfirst, llast, sformat, send, keep_item, begin_format, end_format) {\n",
       "    var anchors = document.getElementsByClassName(\"section\");\n",
       "    if (anchors.length == 0) {\n",
       "        anchors = document.getElementsByClassName(\"text_cell_render rendered_html\");\n",
       "    }\n",
       "    var i,t;\n",
       "    var text_menu = begin;\n",
       "    var text_memo = \"<pre>\\nlength:\" + anchors.length + \"\\n\";\n",
       "    var ind = \"\";\n",
       "    var memo_level = 1;\n",
       "    var href;\n",
       "    var tags = [];\n",
       "    var main_item = 0;\n",
       "    var format_open = 0;\n",
       "    for (i = 0; i <= llast; i++)\n",
       "        tags.push(\"h\" + i);\n",
       "\n",
       "    for (i = 0; i < anchors.length; i++) {\n",
       "        text_memo += \"**\" + anchors[i].id + \"--\\n\";\n",
       "\n",
       "        var child = null;\n",
       "        for(t = 0; t < tags.length; t++) {\n",
       "            var r = anchors[i].getElementsByTagName(tags[t]);\n",
       "            if (r.length > 0) {\n",
       "child = r[0];\n",
       "break;\n",
       "            }\n",
       "        }\n",
       "        if (child == null) {\n",
       "            text_memo += \"null\\n\";\n",
       "            continue;\n",
       "        }\n",
       "        if (anchors[i].hasAttribute(\"id\")) {\n",
       "            // when converted in RST\n",
       "            href = anchors[i].id;\n",
       "            text_memo += \"#1-\" + href;\n",
       "            // passer à child suivant (le chercher)\n",
       "        }\n",
       "        else if (child.hasAttribute(\"id\")) {\n",
       "            // in a notebook\n",
       "            href = child.id;\n",
       "            text_memo += \"#2-\" + href;\n",
       "        }\n",
       "        else {\n",
       "            text_memo += \"#3-\" + \"*\" + \"\\n\";\n",
       "            continue;\n",
       "        }\n",
       "        var title = child.textContent;\n",
       "        var level = parseInt(child.tagName.substring(1,2));\n",
       "\n",
       "        text_memo += \"--\" + level + \"?\" + lfirst + \"--\" + title + \"\\n\";\n",
       "\n",
       "        if ((level < lfirst) || (level > llast)) {\n",
       "            continue ;\n",
       "        }\n",
       "        if (title.endsWith('¶')) {\n",
       "            title = title.substring(0,title.length-1).replace(\"<\", \"&lt;\")\n",
       "         .replace(\">\", \"&gt;\").replace(\"&\", \"&amp;\");\n",
       "        }\n",
       "        if (title.length == 0) {\n",
       "            continue;\n",
       "        }\n",
       "\n",
       "        while (level < memo_level) {\n",
       "            text_menu += end_format + \"</ul>\\n\";\n",
       "            format_open -= 1;\n",
       "            memo_level -= 1;\n",
       "        }\n",
       "        if (level == lfirst) {\n",
       "            main_item += 1;\n",
       "        }\n",
       "        if (keep_item != -1 && main_item != keep_item + 1) {\n",
       "            // alert(main_item + \" - \" + level + \" - \" + keep_item);\n",
       "            continue;\n",
       "        }\n",
       "        while (level > memo_level) {\n",
       "            text_menu += \"<ul>\\n\";\n",
       "            memo_level += 1;\n",
       "        }\n",
       "        text_menu += repeat_indent_string(level-2);\n",
       "        text_menu += begin_format + sformat.replace(\"__HREF__\", href).replace(\"__TITLE__\", title);\n",
       "        format_open += 1;\n",
       "    }\n",
       "    while (1 < memo_level) {\n",
       "        text_menu += end_format + \"</ul>\\n\";\n",
       "        memo_level -= 1;\n",
       "        format_open -= 1;\n",
       "    }\n",
       "    text_menu += send;\n",
       "    //text_menu += \"\\n\" + text_memo;\n",
       "\n",
       "    while (format_open > 0) {\n",
       "        text_menu += end_format;\n",
       "        format_open -= 1;\n",
       "    }\n",
       "    return text_menu;\n",
       "};\n",
       "var update_menu = function() {\n",
       "    var sbegin = \"\";\n",
       "    var sformat = '<a href=\"#__HREF__\">__TITLE__</a>';\n",
       "    var send = \"\";\n",
       "    var begin_format = '<li>';\n",
       "    var end_format = '</li>';\n",
       "    var keep_item = -1;\n",
       "    var text_menu = update_menu_string(sbegin, 2, 4, sformat, send, keep_item,\n",
       "       begin_format, end_format);\n",
       "    var menu = document.getElementById(\"my_id_menu_nb\");\n",
       "    menu.innerHTML=text_menu;\n",
       "};\n",
       "window.setTimeout(update_menu,2000);\n",
       "            </script>"
      ],
      "text/plain": [
       "<IPython.core.display.HTML object>"
      ]
     },
     "execution_count": 2,
     "metadata": {},
     "output_type": "execute_result"
    }
   ],
   "source": [
    "# Run \"! pip install jyquickhelper\" dans une cellule si ca ne marche pas la commande suivante\n",
    "from jyquickhelper import add_notebook_menu\n",
    "add_notebook_menu()"
   ]
  },
  {
   "cell_type": "code",
   "execution_count": 3,
   "metadata": {},
   "outputs": [],
   "source": [
    "# To plot pretty figures\n",
    "%matplotlib inline\n",
    "import matplotlib\n",
    "import matplotlib.pyplot as plt\n",
    "plt.rcParams['axes.labelsize'] = 14\n",
    "plt.rcParams['xtick.labelsize'] = 12\n",
    "plt.rcParams['ytick.labelsize'] = 12"
   ]
  },
  {
   "cell_type": "markdown",
   "metadata": {},
   "source": [
    "# Définition de la seed pour le random\n",
    "\n",
    "Très important pour qu'on voit les mêmes choses entre nos deux ordis"
   ]
  },
  {
   "cell_type": "code",
   "execution_count": 4,
   "metadata": {},
   "outputs": [],
   "source": [
    "RANDOM_SEED = 42;\n",
    "np.random.seed(RANDOM_SEED)"
   ]
  },
  {
   "cell_type": "markdown",
   "metadata": {
    "_cell_guid": "6b5dc743-15b1-aac6-405e-081def6ecca1",
    "_uuid": "2d307b99ee3d19da3c1cddf509ed179c21dec94a"
   },
   "source": [
    "## Chargement des données"
   ]
  },
  {
   "cell_type": "code",
   "execution_count": 5,
   "metadata": {},
   "outputs": [],
   "source": [
    "# Where to save the figures\n",
    "PROJECT_ROOT_DIR = \".\"\n",
    "DATA_PATH = os.path.join(PROJECT_ROOT_DIR, \"data\")\n",
    "DATA_PROCESSED = os.path.join(PROJECT_ROOT_DIR, \"data_processed\")\n",
    "\n",
    "def load_data(file,data_path=DATA_PATH, sep=','):\n",
    "    csv_path = os.path.join(data_path, file)\n",
    "    return pd.read_csv(csv_path, sep)\n",
    "\n",
    "TX_data = load_data(file = \"input_train.csv\");\n",
    "STA_data = load_data(file = \"challenge_output_data_training_file_prediction_of_transaction_claims_status.csv\", sep=';');\n",
    "TX_data = pd.merge(TX_data, STA_data, left_index=True, right_index=True) # Merge de TX_data et STA_data en utilisant les index comme cléf primaire\n",
    "\n",
    "\n",
    "train_df=TX_data.drop([\"ID_y\",\"ID_x\"],inplace=False,axis=1) # On drop les ID qui sont crée dans le processus\n",
    "\n",
    "test_df = load_data(file = \"input_test.csv\");\n",
    "\n",
    "del STA_data #Je supprime toujours les variables inutiles pour liberer ma RAM (qui est très faible)"
   ]
  },
  {
   "cell_type": "markdown",
   "metadata": {
    "_cell_guid": "3d6188f3-dc82-8ae6-dabd-83e28fcbf10d",
    "_uuid": "79282222056237a52bbbb1dbd831f057f1c23d69"
   },
   "source": [
    "## Analyse des types de données"
   ]
  },
  {
   "cell_type": "code",
   "execution_count": 6,
   "metadata": {
    "_cell_guid": "ce473d29-8d19-76b8-24a4-48c217286e42",
    "_uuid": "ef106f38a00e162a80c523778af6dcc778ccc1c2"
   },
   "outputs": [],
   "source": [
    "#train_df.info()"
   ]
  },
  {
   "cell_type": "markdown",
   "metadata": {
    "_cell_guid": "cd19a6f6-347f-be19-607b-dca950590b37",
    "_uuid": "1d7acf42af29a63bc038f14eded24e8b8146f541"
   },
   "source": [
    "A l'état initial nous avons comme type de variables\n",
    "\n",
    "**Variables Catégorielles**\n",
    "1. `SHIPPING_MODE`\n",
    "2. `SHIPPING_PRICE`\n",
    "3. `WARRANTIES_PRICE`\n",
    "4. `PRICECLUB_STATUS`\n",
    "5. `PURCHASE_COUNT`\n",
    "7. `BUYING_DATE`\n",
    "8. `SELLER_SCORE_COUNT`\n",
    "9. `SELLER_SCORE_AVERAGE`\n",
    "10. `SELLER_COUNTRY`\n",
    "11. `PRODUCT_TYPE`\n",
    "12. `PRODUCT_FAMILY`\n",
    "13. `ITEM_PRICE`\n",
    "14. `CLAIM_TYPE` - La target\n",
    "\n",
    "**Variables Booléennes**\n",
    "1. `WARRANTIES_FLG`\n",
    "2. `CARD_PAYMENT`\n",
    "3. `COUPON_PAYMENT`\n",
    "4. `RSP_PAYMENT`\n",
    "5. `WALLET_PAYMENT`\n",
    "\n",
    "**Variables Numériques Discrètes**\n",
    "1. `REGISTRATION_DATE`\n",
    "2. `BUYER_BIRTHDAY_DATE`\n",
    "3. `BUYER_DEPARTMENT` - Que je propose de passer maitenent en catégorie, puisque les nombres n'ont pas de valeur + ou -\n",
    "4. `SELLER_DEPARTMENT` - Que je propose de passer maitenent en catégorie, puisque les nombres n'ont pas de valeur + ou -\n",
    "\n",
    "**Variables Numériques Continues**\n",
    " - Aucune\n",
    "\n",
    "**Variables Ordinales**\n",
    " - Aucune"
   ]
  },
  {
   "cell_type": "code",
   "execution_count": 7,
   "metadata": {},
   "outputs": [],
   "source": [
    "train_df.BUYER_DEPARTMENT = train_df.BUYER_DEPARTMENT.astype('object')\n",
    "train_df.SELLER_DEPARTMENT = train_df.SELLER_DEPARTMENT.astype('object')\n",
    "\n",
    "test_df.BUYER_DEPARTMENT = test_df.BUYER_DEPARTMENT.astype('object')\n",
    "test_df.SELLER_DEPARTMENT = test_df.SELLER_DEPARTMENT.astype('object')"
   ]
  },
  {
   "cell_type": "code",
   "execution_count": 8,
   "metadata": {},
   "outputs": [
    {
     "data": {
      "text/html": [
       "<div>\n",
       "<style scoped>\n",
       "    .dataframe tbody tr th:only-of-type {\n",
       "        vertical-align: middle;\n",
       "    }\n",
       "\n",
       "    .dataframe tbody tr th {\n",
       "        vertical-align: top;\n",
       "    }\n",
       "\n",
       "    .dataframe thead th {\n",
       "        text-align: right;\n",
       "    }\n",
       "</style>\n",
       "<table border=\"1\" class=\"dataframe\">\n",
       "  <thead>\n",
       "    <tr style=\"text-align: right;\">\n",
       "      <th></th>\n",
       "      <th>SHIPPING_MODE</th>\n",
       "      <th>SHIPPING_PRICE</th>\n",
       "      <th>WARRANTIES_FLG</th>\n",
       "      <th>WARRANTIES_PRICE</th>\n",
       "      <th>CARD_PAYMENT</th>\n",
       "      <th>COUPON_PAYMENT</th>\n",
       "      <th>RSP_PAYMENT</th>\n",
       "      <th>WALLET_PAYMENT</th>\n",
       "      <th>PRICECLUB_STATUS</th>\n",
       "      <th>REGISTRATION_DATE</th>\n",
       "      <th>...</th>\n",
       "      <th>BUYER_DEPARTMENT</th>\n",
       "      <th>BUYING_DATE</th>\n",
       "      <th>SELLER_SCORE_COUNT</th>\n",
       "      <th>SELLER_SCORE_AVERAGE</th>\n",
       "      <th>SELLER_COUNTRY</th>\n",
       "      <th>SELLER_DEPARTMENT</th>\n",
       "      <th>PRODUCT_TYPE</th>\n",
       "      <th>PRODUCT_FAMILY</th>\n",
       "      <th>ITEM_PRICE</th>\n",
       "      <th>CLAIM_TYPE</th>\n",
       "    </tr>\n",
       "  </thead>\n",
       "  <tbody>\n",
       "    <tr>\n",
       "      <th>0</th>\n",
       "      <td>NORMAL</td>\n",
       "      <td>NaN</td>\n",
       "      <td>False</td>\n",
       "      <td>NaN</td>\n",
       "      <td>1</td>\n",
       "      <td>0</td>\n",
       "      <td>1</td>\n",
       "      <td>0</td>\n",
       "      <td>UNSUBSCRIBED</td>\n",
       "      <td>2015</td>\n",
       "      <td>...</td>\n",
       "      <td>34</td>\n",
       "      <td>3/2017</td>\n",
       "      <td>10000&lt;100000</td>\n",
       "      <td>46.0</td>\n",
       "      <td>FRANCE, METROPOLITAN</td>\n",
       "      <td>61</td>\n",
       "      <td>CELLPHONE_ACCESSORY</td>\n",
       "      <td>ELECTRONICS</td>\n",
       "      <td>&lt;10</td>\n",
       "      <td>DAMAGED</td>\n",
       "    </tr>\n",
       "    <tr>\n",
       "      <th>1</th>\n",
       "      <td>NORMAL</td>\n",
       "      <td>NaN</td>\n",
       "      <td>False</td>\n",
       "      <td>NaN</td>\n",
       "      <td>1</td>\n",
       "      <td>0</td>\n",
       "      <td>0</td>\n",
       "      <td>0</td>\n",
       "      <td>UNSUBSCRIBED</td>\n",
       "      <td>2013</td>\n",
       "      <td>...</td>\n",
       "      <td>77</td>\n",
       "      <td>8/2017</td>\n",
       "      <td>10000&lt;100000</td>\n",
       "      <td>45.0</td>\n",
       "      <td>FRANCE, METROPOLITAN</td>\n",
       "      <td>30</td>\n",
       "      <td>CELLPHONE_ACCESSORY</td>\n",
       "      <td>ELECTRONICS</td>\n",
       "      <td>&lt;10</td>\n",
       "      <td>-</td>\n",
       "    </tr>\n",
       "    <tr>\n",
       "      <th>2</th>\n",
       "      <td>NORMAL</td>\n",
       "      <td>NaN</td>\n",
       "      <td>False</td>\n",
       "      <td>NaN</td>\n",
       "      <td>0</td>\n",
       "      <td>0</td>\n",
       "      <td>0</td>\n",
       "      <td>1</td>\n",
       "      <td>PLATINUM</td>\n",
       "      <td>2013</td>\n",
       "      <td>...</td>\n",
       "      <td>58</td>\n",
       "      <td>5/2017</td>\n",
       "      <td>10000&lt;100000</td>\n",
       "      <td>43.0</td>\n",
       "      <td>CHINA</td>\n",
       "      <td>-1</td>\n",
       "      <td>TOYS</td>\n",
       "      <td>BABY</td>\n",
       "      <td>&lt;10</td>\n",
       "      <td>NOT_RECEIVED</td>\n",
       "    </tr>\n",
       "    <tr>\n",
       "      <th>3</th>\n",
       "      <td>RECOMMANDE</td>\n",
       "      <td>NaN</td>\n",
       "      <td>True</td>\n",
       "      <td>5&lt;20</td>\n",
       "      <td>1</td>\n",
       "      <td>0</td>\n",
       "      <td>0</td>\n",
       "      <td>0</td>\n",
       "      <td>UNSUBSCRIBED</td>\n",
       "      <td>2007</td>\n",
       "      <td>...</td>\n",
       "      <td>31</td>\n",
       "      <td>5/2017</td>\n",
       "      <td>10000&lt;100000</td>\n",
       "      <td>44.0</td>\n",
       "      <td>FRANCE, METROPOLITAN</td>\n",
       "      <td>2</td>\n",
       "      <td>GARDEN_TOOLS</td>\n",
       "      <td>WHITE</td>\n",
       "      <td>50&lt;100</td>\n",
       "      <td>-</td>\n",
       "    </tr>\n",
       "    <tr>\n",
       "      <th>4</th>\n",
       "      <td>RECOMMANDE</td>\n",
       "      <td>NaN</td>\n",
       "      <td>False</td>\n",
       "      <td>NaN</td>\n",
       "      <td>1</td>\n",
       "      <td>0</td>\n",
       "      <td>1</td>\n",
       "      <td>0</td>\n",
       "      <td>PLATINUM</td>\n",
       "      <td>2010</td>\n",
       "      <td>...</td>\n",
       "      <td>93</td>\n",
       "      <td>9/2017</td>\n",
       "      <td>1000&lt;10000</td>\n",
       "      <td>44.0</td>\n",
       "      <td>CHINA</td>\n",
       "      <td>-1</td>\n",
       "      <td>MODEL</td>\n",
       "      <td>BABY</td>\n",
       "      <td>1000&lt;5000</td>\n",
       "      <td>WITHDRAWAL</td>\n",
       "    </tr>\n",
       "  </tbody>\n",
       "</table>\n",
       "<p>5 rows × 22 columns</p>\n",
       "</div>"
      ],
      "text/plain": [
       "  SHIPPING_MODE SHIPPING_PRICE  WARRANTIES_FLG WARRANTIES_PRICE  CARD_PAYMENT  \\\n",
       "0        NORMAL            NaN           False              NaN             1   \n",
       "1        NORMAL            NaN           False              NaN             1   \n",
       "2        NORMAL            NaN           False              NaN             0   \n",
       "3    RECOMMANDE            NaN            True             5<20             1   \n",
       "4    RECOMMANDE            NaN           False              NaN             1   \n",
       "\n",
       "   COUPON_PAYMENT  RSP_PAYMENT  WALLET_PAYMENT PRICECLUB_STATUS  \\\n",
       "0               0            1               0     UNSUBSCRIBED   \n",
       "1               0            0               0     UNSUBSCRIBED   \n",
       "2               0            0               1         PLATINUM   \n",
       "3               0            0               0     UNSUBSCRIBED   \n",
       "4               0            1               0         PLATINUM   \n",
       "\n",
       "   REGISTRATION_DATE      ...      BUYER_DEPARTMENT  BUYING_DATE  \\\n",
       "0               2015      ...                    34       3/2017   \n",
       "1               2013      ...                    77       8/2017   \n",
       "2               2013      ...                    58       5/2017   \n",
       "3               2007      ...                    31       5/2017   \n",
       "4               2010      ...                    93       9/2017   \n",
       "\n",
       "  SELLER_SCORE_COUNT SELLER_SCORE_AVERAGE        SELLER_COUNTRY  \\\n",
       "0       10000<100000                 46.0  FRANCE, METROPOLITAN   \n",
       "1       10000<100000                 45.0  FRANCE, METROPOLITAN   \n",
       "2       10000<100000                 43.0                 CHINA   \n",
       "3       10000<100000                 44.0  FRANCE, METROPOLITAN   \n",
       "4         1000<10000                 44.0                 CHINA   \n",
       "\n",
       "   SELLER_DEPARTMENT         PRODUCT_TYPE PRODUCT_FAMILY ITEM_PRICE  \\\n",
       "0                 61  CELLPHONE_ACCESSORY    ELECTRONICS        <10   \n",
       "1                 30  CELLPHONE_ACCESSORY    ELECTRONICS        <10   \n",
       "2                 -1                 TOYS           BABY        <10   \n",
       "3                  2         GARDEN_TOOLS          WHITE     50<100   \n",
       "4                 -1                MODEL           BABY  1000<5000   \n",
       "\n",
       "     CLAIM_TYPE  \n",
       "0       DAMAGED  \n",
       "1             -  \n",
       "2  NOT_RECEIVED  \n",
       "3             -  \n",
       "4    WITHDRAWAL  \n",
       "\n",
       "[5 rows x 22 columns]"
      ]
     },
     "execution_count": 8,
     "metadata": {},
     "output_type": "execute_result"
    }
   ],
   "source": [
    "train_df.head()"
   ]
  },
  {
   "cell_type": "markdown",
   "metadata": {
    "_cell_guid": "97f4e6f8-2fea-46c4-e4e8-b69062ee3d46",
    "_uuid": "c34fa51a38336d97d5f6a184908cca37daebd584"
   },
   "source": [
    "**Variables Mixtes**\n",
    "\n",
    "C'est à dire qu'elles contiennes en fait de l'alphanumérique, et des structures à l'interieur\n",
    "\n",
    "1. `SHIPPING_PRICE`         - Format Nombre </> Nombre\n",
    "2. `WARRANTIES_PRICE`         - Format Nombre </> Nombre\n",
    "3. `PURCHASE_COUNT`         - Format Nombre </> Nombre\n",
    "4. `BUYING_DATE`         - Format Nombre/2017\n",
    "5. `SELLER_SCORE_COUNT`         - Format Nombre </> Nombre\n",
    "6. `ITEM_PRICE`         - Format Nombre </> Nombre"
   ]
  },
  {
   "cell_type": "markdown",
   "metadata": {},
   "source": [
    "**Données Manquantes**\n",
    "\n",
    "1. `SHIPPING_MODE`           : 315\n",
    "2. `SHIPPING_PRICE`          : 67610\n",
    "3. `WARRANTIES_PRICE`        : 96603\n",
    "4. `PRICECLUB_STATUS`        : 57\n",
    "5. `BUYER_BIRTHDAY_DATE`     : 5836\n",
    "6. `SELLER_SCORE_COUNT`      : 6\n",
    "7. `SELLER_SCORE_AVERAGE`    : 6\n"
   ]
  },
  {
   "cell_type": "markdown",
   "metadata": {},
   "source": [
    "**Données Avec Erreurs**\n",
    "\n",
    "1. `BUYER_BIRTHDAY_DATE` - Des gens centenaires\n",
    "2. `BUYER_DEPARTMENT` - Départements -1, 0, 97, et 98 \n",
    "3. `SELLER_DEPARTMENT` - Départements avec -1\n",
    "4. `PRODUCT_FAMILY` - des \"White\" qui ne veulent rien dire\n"
   ]
  },
  {
   "cell_type": "markdown",
   "metadata": {
    "_cell_guid": "8bfe9610-689a-29b2-26ee-f67cd4719079",
    "_uuid": "699c52b7a8d076ccd5ea5bc5d606313c558a6e8e"
   },
   "source": [
    "**Dans l'ensemble**\n",
    "\n",
    "- 16 variables catégorielles dont 6 mixtes\n",
    "- 5 variables booléennes\n",
    "- 2 numériques\n",
    "\n",
    "- 8 ont des valeurs manquantes\n",
    "- 4 ont des erreurs"
   ]
  },
  {
   "cell_type": "code",
   "execution_count": 9,
   "metadata": {
    "_cell_guid": "9b805f69-665a-2b2e-f31d-50d87d52865d",
    "_uuid": "817e1cf0ca1cb96c7a28bb81192d92261a8bf427"
   },
   "outputs": [
    {
     "name": "stdout",
     "output_type": "stream",
     "text": [
      "<class 'pandas.core.frame.DataFrame'>\n",
      "RangeIndex: 100000 entries, 0 to 99999\n",
      "Data columns (total 22 columns):\n",
      "SHIPPING_MODE           99685 non-null object\n",
      "SHIPPING_PRICE          32390 non-null object\n",
      "WARRANTIES_FLG          100000 non-null bool\n",
      "WARRANTIES_PRICE        3397 non-null object\n",
      "CARD_PAYMENT            100000 non-null int64\n",
      "COUPON_PAYMENT          100000 non-null int64\n",
      "RSP_PAYMENT             100000 non-null int64\n",
      "WALLET_PAYMENT          100000 non-null int64\n",
      "PRICECLUB_STATUS        99943 non-null object\n",
      "REGISTRATION_DATE       100000 non-null int64\n",
      "PURCHASE_COUNT          100000 non-null object\n",
      "BUYER_BIRTHDAY_DATE     94164 non-null float64\n",
      "BUYER_DEPARTMENT        100000 non-null object\n",
      "BUYING_DATE             100000 non-null object\n",
      "SELLER_SCORE_COUNT      99994 non-null object\n",
      "SELLER_SCORE_AVERAGE    99994 non-null float64\n",
      "SELLER_COUNTRY          100000 non-null object\n",
      "SELLER_DEPARTMENT       100000 non-null object\n",
      "PRODUCT_TYPE            100000 non-null object\n",
      "PRODUCT_FAMILY          100000 non-null object\n",
      "ITEM_PRICE              100000 non-null object\n",
      "CLAIM_TYPE              100000 non-null object\n",
      "dtypes: bool(1), float64(2), int64(5), object(14)\n",
      "memory usage: 16.1+ MB\n",
      "________________________________________\n",
      "<class 'pandas.core.frame.DataFrame'>\n",
      "RangeIndex: 99995 entries, 0 to 99994\n",
      "Data columns (total 22 columns):\n",
      "ID                      99995 non-null int64\n",
      "SHIPPING_MODE           99638 non-null object\n",
      "SHIPPING_PRICE          32565 non-null object\n",
      "WARRANTIES_FLG          99995 non-null bool\n",
      "WARRANTIES_PRICE        3307 non-null object\n",
      "CARD_PAYMENT            99995 non-null int64\n",
      "COUPON_PAYMENT          99995 non-null int64\n",
      "RSP_PAYMENT             99995 non-null int64\n",
      "WALLET_PAYMENT          99995 non-null int64\n",
      "PRICECLUB_STATUS        99922 non-null object\n",
      "REGISTRATION_DATE       99995 non-null int64\n",
      "PURCHASE_COUNT          99995 non-null object\n",
      "BUYER_BIRTHDAY_DATE     94210 non-null float64\n",
      "BUYER_DEPARTMENT        99995 non-null object\n",
      "BUYING_DATE             99995 non-null object\n",
      "SELLER_SCORE_COUNT      99982 non-null object\n",
      "SELLER_SCORE_AVERAGE    99982 non-null float64\n",
      "SELLER_COUNTRY          99995 non-null object\n",
      "SELLER_DEPARTMENT       99995 non-null object\n",
      "PRODUCT_TYPE            99995 non-null object\n",
      "PRODUCT_FAMILY          99995 non-null object\n",
      "ITEM_PRICE              99995 non-null object\n",
      "dtypes: bool(1), float64(2), int64(6), object(13)\n",
      "memory usage: 16.1+ MB\n"
     ]
    }
   ],
   "source": [
    "train_df.info()\n",
    "print('_'*40)\n",
    "test_df.info()"
   ]
  },
  {
   "cell_type": "markdown",
   "metadata": {},
   "source": [
    "## Traiter les données manquantes\n",
    "\n",
    "Valeurs à remplir :\n",
    "1. `SHIPPING_MODE`  \n",
    "2. `SHIPPING_PRICE` \n",
    "3. `WARRANTIES_PRICE` \n",
    "4. `PRICECLUB_STATUS`\n",
    "5. `BUYER_BIRTHDAY_DATE` - Possède des erreurs, on va la traiter après\n",
    "6. `SELLER_SCORE_COUNT`\n",
    "7. `SELLER_SCORE_AVERAGE`"
   ]
  },
  {
   "cell_type": "markdown",
   "metadata": {},
   "source": [
    "### SHIPPING_MODE"
   ]
  },
  {
   "cell_type": "code",
   "execution_count": 10,
   "metadata": {},
   "outputs": [
    {
     "data": {
      "text/plain": [
       "array(['CHRONOPOST', 'EXPRESS_DELIVERY', 'Kiala', 'MONDIAL_RELAY',\n",
       "       'MONDIAL_RELAY_PREPAYE', 'NORMAL', 'PICKUP', 'RECOMMANDE',\n",
       "       'SO_POINT_RELAIS', 'SO_RECOMMANDE', 'SUIVI', nan], dtype=object)"
      ]
     },
     "execution_count": 10,
     "metadata": {},
     "output_type": "execute_result"
    }
   ],
   "source": [
    "train_df.SHIPPING_MODE.sort_values().unique()"
   ]
  },
  {
   "cell_type": "code",
   "execution_count": 11,
   "metadata": {},
   "outputs": [],
   "source": [
    "## SHIPPING_MODE\n",
    "'''\n",
    "Propose de remplacer les valeurs manquantes par \"ABSENT\". Je souhaite faire comprendre à l'algorithme qu'il n'y a pas l'info\n",
    "\n",
    "Sinon, on peut remplacer par \"NORMAL\"\n",
    "'''\n",
    "\n",
    "train_df.SHIPPING_MODE.fillna(value=\"ABSENT\", inplace=True)\n",
    "test_df.SHIPPING_MODE.fillna(value=\"ABSENT\", inplace=True)"
   ]
  },
  {
   "cell_type": "markdown",
   "metadata": {},
   "source": [
    "### SHIPPING_PRICE"
   ]
  },
  {
   "cell_type": "code",
   "execution_count": 12,
   "metadata": {},
   "outputs": [
    {
     "data": {
      "text/plain": [
       "array(['10<20', '1<5', '5<10', '<1', '>20', nan], dtype=object)"
      ]
     },
     "execution_count": 12,
     "metadata": {},
     "output_type": "execute_result"
    }
   ],
   "source": [
    "train_df.SHIPPING_PRICE.sort_values().unique()"
   ]
  },
  {
   "cell_type": "code",
   "execution_count": 13,
   "metadata": {},
   "outputs": [],
   "source": [
    "## SHIPPING_PRICE\n",
    "'''\n",
    "Propose de remplacer les valeurs manquantes par \"0\". Puisque c'était gratuit\n",
    "\n",
    "Sinon, on peut remplacer par \"<1\"\n",
    "'''\n",
    "\n",
    "train_df.SHIPPING_PRICE.fillna(value=\"0\", inplace=True)\n",
    "test_df.SHIPPING_PRICE.fillna(value=\"0\", inplace=True)"
   ]
  },
  {
   "cell_type": "markdown",
   "metadata": {},
   "source": [
    "### WARRANTIES_PRICE"
   ]
  },
  {
   "cell_type": "code",
   "execution_count": 14,
   "metadata": {},
   "outputs": [
    {
     "data": {
      "text/plain": [
       "array(['100<500', '20<50', '50<100', '5<20', '<5', nan], dtype=object)"
      ]
     },
     "execution_count": 14,
     "metadata": {},
     "output_type": "execute_result"
    }
   ],
   "source": [
    "train_df.WARRANTIES_PRICE.sort_values().unique()"
   ]
  },
  {
   "cell_type": "code",
   "execution_count": 15,
   "metadata": {},
   "outputs": [],
   "source": [
    "## WARRANTIES_PRICE \n",
    "'''\n",
    "Propose de remplacer les valeurs manquantes par \"0\". Puisque c'était gratuit\n",
    "\n",
    "Sinon, on peut remplacer par \"<1\"\n",
    "'''\n",
    "\n",
    "train_df.WARRANTIES_PRICE.fillna(value=\"0\", inplace=True)\n",
    "test_df.WARRANTIES_PRICE.fillna(value=\"0\", inplace=True)"
   ]
  },
  {
   "cell_type": "markdown",
   "metadata": {},
   "source": [
    "### PRICECLUB_STATUS"
   ]
  },
  {
   "cell_type": "code",
   "execution_count": 16,
   "metadata": {},
   "outputs": [
    {
     "name": "stdout",
     "output_type": "stream",
     "text": [
      "['GOLD' 'PLATINUM' 'REGULAR' 'SILVER' 'UNSUBSCRIBED' nan]\n"
     ]
    }
   ],
   "source": [
    "print(train_df.PRICECLUB_STATUS.sort_values().unique())"
   ]
  },
  {
   "cell_type": "code",
   "execution_count": 17,
   "metadata": {},
   "outputs": [],
   "source": [
    "## PRICECLUB_STATUS \n",
    "'''\n",
    "Propose de remplacer les valeurs manquantes par \"UNSUBSCRIBED\". Puisque c'est par défaut\n",
    "\n",
    "Sinon, on peut remplacer par \"NONE\" pour montrer qu'il manque l'info\n",
    "'''\n",
    "\n",
    "train_df.PRICECLUB_STATUS.fillna(value=\"UNSUBSCRIBED\", inplace=True)\n",
    "test_df.PRICECLUB_STATUS.fillna(value=\"UNSUBSCRIBED\", inplace=True)"
   ]
  },
  {
   "cell_type": "markdown",
   "metadata": {},
   "source": [
    "### SELLER_SCORE_COUNT"
   ]
  },
  {
   "cell_type": "code",
   "execution_count": 18,
   "metadata": {},
   "outputs": [
    {
     "data": {
      "text/plain": [
       "array(['100000<1000000', '10000<100000', '1000<10000', '100<1000', '<100',\n",
       "       nan], dtype=object)"
      ]
     },
     "execution_count": 18,
     "metadata": {},
     "output_type": "execute_result"
    }
   ],
   "source": [
    "train_df.SELLER_SCORE_COUNT.sort_values().unique()"
   ]
  },
  {
   "cell_type": "code",
   "execution_count": 19,
   "metadata": {},
   "outputs": [],
   "source": [
    "## SELLER_SCORE_COUNT \n",
    "'''\n",
    "Propose de remplacer les valeurs manquantes par le mode de la série ('10000<100000').\n",
    "\n",
    "Sinon, on peut remplacer par \"-1\" pour montrer qu'il manque l'info\n",
    "'''\n",
    "\n",
    "mode_train= train_df.SELLER_SCORE_COUNT.mode()[0]\n",
    "\n",
    "\n",
    "train_df.SELLER_SCORE_COUNT.fillna(value=mode_train, inplace=True)\n",
    "test_df.SELLER_SCORE_COUNT.fillna(value=mode_train, inplace=True)"
   ]
  },
  {
   "cell_type": "markdown",
   "metadata": {},
   "source": [
    "### SELLER_SCORE_AVERAGE"
   ]
  },
  {
   "cell_type": "code",
   "execution_count": 20,
   "metadata": {
    "scrolled": true
   },
   "outputs": [
    {
     "data": {
      "text/plain": [
       "array([ 10.,  12.,  13.,  15.,  20.,  23.,  24.,  25.,  27.,  28.,  30.,\n",
       "        31.,  32.,  33.,  34.,  35.,  36.,  37.,  38.,  39.,  40.,  41.,\n",
       "        42.,  43.,  44.,  45.,  46.,  47.,  48.,  49.,  50.,  nan])"
      ]
     },
     "execution_count": 20,
     "metadata": {},
     "output_type": "execute_result"
    }
   ],
   "source": [
    "train_df.SELLER_SCORE_AVERAGE.sort_values().unique()"
   ]
  },
  {
   "cell_type": "code",
   "execution_count": 21,
   "metadata": {},
   "outputs": [],
   "source": [
    "## SELLER_SCORE_AVERAGE \n",
    "'''\n",
    "Propose de remplacer les valeurs manquantes par la médiane de la série (46).\n",
    "\n",
    "Sinon, on peut remplacer par \"-1\" pour montrer qu'il manque l'info\n",
    "'''\n",
    "\n",
    "mode_train= train_df.SELLER_SCORE_AVERAGE.median()\n",
    "\n",
    "\n",
    "train_df.SELLER_SCORE_AVERAGE.fillna(value=mode_train, inplace=True)\n",
    "test_df.SELLER_SCORE_AVERAGE.fillna(value=mode_train, inplace=True)"
   ]
  },
  {
   "cell_type": "markdown",
   "metadata": {},
   "source": [
    "## Traiter les erreurs\n",
    "\n",
    "Valeurs à corriger :\n",
    "\n",
    "1. `BUYER_BIRTHDAY_DATE` - Des gens centenaires\n",
    "2. `BUYER_DEPARTMENT` - Départements avec -1 et 0\n",
    "3. `SELLER_DEPARTMENT` - Départements avec -1\n",
    "4. `PRODUCT_FAMILY` - des \"White\" qui ne veulent rien dire"
   ]
  },
  {
   "cell_type": "markdown",
   "metadata": {},
   "source": [
    "### BUYER_BIRTHDAY_DATE"
   ]
  },
  {
   "cell_type": "code",
   "execution_count": 22,
   "metadata": {
    "scrolled": true
   },
   "outputs": [
    {
     "data": {
      "image/png": "[encoded data removed]",
      "text/plain": [
       "<Figure size 432x288 with 1 Axes>"
      ]
     },
     "metadata": {},
     "output_type": "display_data"
    }
   ],
   "source": [
    "# Avant\n",
    "sns.distplot(train_df.BUYER_BIRTHDAY_DATE.dropna(inplace=False));"
   ]
  },
  {
   "cell_type": "code",
   "execution_count": 23,
   "metadata": {},
   "outputs": [
    {
     "name": "stdout",
     "output_type": "stream",
     "text": [
      "Mu = 1976.1299116435155 et sigma = 14.127001280909942\n"
     ]
    }
   ],
   "source": [
    "mu, sigma = train_df.BUYER_BIRTHDAY_DATE.mean(), train_df.BUYER_BIRTHDAY_DATE.std() # mean et standard deviation\n",
    "print(\"Mu = {} et sigma = {}\".format(mu, sigma))"
   ]
  },
  {
   "cell_type": "code",
   "execution_count": 24,
   "metadata": {},
   "outputs": [],
   "source": [
    "def normal_filler(value, mu, sigma, threshold):\n",
    "    if np.isnan(value) or value<threshold:\n",
    "        return np.random.normal(mu, sigma, 1)[0]\n",
    "    else:\n",
    "        return value;"
   ]
  },
  {
   "cell_type": "code",
   "execution_count": 25,
   "metadata": {},
   "outputs": [],
   "source": [
    "train_df.BUYER_BIRTHDAY_DATE = train_df.BUYER_BIRTHDAY_DATE.apply(normal_filler, args=(mu,sigma,1930))\n",
    "test_df.BUYER_BIRTHDAY_DATE = test_df.BUYER_BIRTHDAY_DATE.apply(normal_filler, args=(mu,sigma,1930))"
   ]
  },
  {
   "cell_type": "code",
   "execution_count": 26,
   "metadata": {
    "scrolled": false
   },
   "outputs": [
    {
     "data": {
      "image/png": "[encoded data removed]",
      "text/plain": [
       "<Figure size 432x288 with 1 Axes>"
      ]
     },
     "metadata": {},
     "output_type": "display_data"
    }
   ],
   "source": [
    "# Après\n",
    "sns.distplot(train_df.BUYER_BIRTHDAY_DATE);"
   ]
  },
  {
   "cell_type": "markdown",
   "metadata": {},
   "source": [
    "### BUYER_DEPARTMENT"
   ]
  },
  {
   "cell_type": "markdown",
   "metadata": {},
   "source": [
    "On doit remplacer les valeurs:\n",
    "    -1, 0, 96, 97, 98 qui n'existent pas"
   ]
  },
  {
   "cell_type": "code",
   "execution_count": 27,
   "metadata": {},
   "outputs": [
    {
     "name": "stdout",
     "output_type": "stream",
     "text": [
      "On a:\n",
      "231 valeurs à -1\n",
      "24 valeurs à 0\n",
      "454 valeurs à 96\n",
      "1230 valeurs à 97\n",
      "51 valeurs à 98\n",
      " \n"
     ]
    }
   ],
   "source": [
    "print(\"On a:\\n{} valeurs à -1\\n{} valeurs à 0\\n{} valeurs à 96\\n{} valeurs à 97\\n{} valeurs à 98\\n \".format(\n",
    "train_df[train_df.BUYER_DEPARTMENT == -1].shape[0],\n",
    "train_df[train_df.BUYER_DEPARTMENT == 0].shape[0],\n",
    "train_df[train_df.BUYER_DEPARTMENT == 96].shape[0],\n",
    "train_df[train_df.BUYER_DEPARTMENT == 97].shape[0],\n",
    "train_df[train_df.BUYER_DEPARTMENT == 98].shape[0]))"
   ]
  },
  {
   "cell_type": "code",
   "execution_count": 28,
   "metadata": {},
   "outputs": [],
   "source": [
    "'''\n",
    "Comme ca n'a pas de sens de remplir avec une loi normale\n",
    "je propose de corriger tout ça en mettant tout à \"0\" pour montrer à l'algorithme le problème\n",
    "''' \n",
    "\n",
    "def departement_filler(value):\n",
    "    if value not in range(-1,96):\n",
    "        return 0;\n",
    "    else:\n",
    "        return value;\n",
    "\n",
    "train_df.BUYER_DEPARTMENT = train_df.BUYER_DEPARTMENT.apply(departement_filler)\n",
    "test_df.BUYER_DEPARTMENT = test_df.BUYER_DEPARTMENT.apply(departement_filler)"
   ]
  },
  {
   "cell_type": "markdown",
   "metadata": {},
   "source": [
    "### SELLER_DEPARTMENT"
   ]
  },
  {
   "cell_type": "code",
   "execution_count": 29,
   "metadata": {},
   "outputs": [
    {
     "name": "stdout",
     "output_type": "stream",
     "text": [
      "On a:\n",
      "42318 valeurs à -1\n",
      "0 valeurs à 0\n",
      "188 valeurs à 96\n",
      "0 valeurs à 97\n",
      "3 valeurs à 98\n",
      " \n"
     ]
    }
   ],
   "source": [
    "print(\"On a:\\n{} valeurs à -1\\n{} valeurs à 0\\n{} valeurs à 96\\n{} valeurs à 97\\n{} valeurs à 98\\n \".format(\n",
    "            train_df[train_df.SELLER_DEPARTMENT == -1].shape[0],\n",
    "            train_df[train_df.SELLER_DEPARTMENT == 0].shape[0],\n",
    "            train_df[train_df.SELLER_DEPARTMENT == 96].shape[0],\n",
    "            train_df[train_df.SELLER_DEPARTMENT == 97].shape[0],\n",
    "            train_df[train_df.SELLER_DEPARTMENT == 98].shape[0]\n",
    "        )\n",
    "     )"
   ]
  },
  {
   "cell_type": "code",
   "execution_count": 30,
   "metadata": {},
   "outputs": [],
   "source": [
    "'''\n",
    "42 318 valeurs à -1 parce qu'a l'étranger, ça me semble impossible à gérer de façon smart\n",
    "\n",
    "On remplace tout les autres à zéro? Oui? Très bien\n",
    "''' \n",
    "\n",
    "train_df.SELLER_DEPARTMENT = train_df.SELLER_DEPARTMENT.apply(departement_filler)\n",
    "test_df.SELLER_DEPARTMENT = test_df.SELLER_DEPARTMENT.apply(departement_filler)"
   ]
  },
  {
   "cell_type": "markdown",
   "metadata": {},
   "source": [
    "### PRODUCT_FAMILY"
   ]
  },
  {
   "cell_type": "code",
   "execution_count": 31,
   "metadata": {},
   "outputs": [
    {
     "name": "stdout",
     "output_type": "stream",
     "text": [
      "On a 8907 valeurs à WHITE\n"
     ]
    }
   ],
   "source": [
    "print(\"On a {} valeurs à WHITE\".format(train_df[train_df.PRODUCT_FAMILY == 'WHITE'].shape[0]))"
   ]
  },
  {
   "cell_type": "markdown",
   "metadata": {},
   "source": [
    "Un peu complexe là, on sait que WHITE contient une majorité de `PRODUCT_TYPE` \"BRICOLAGE\", donc bon, faudrait refaire un mapping dans la classe, mais j'ai la flemme"
   ]
  },
  {
   "cell_type": "markdown",
   "metadata": {},
   "source": [
    "### Bilan des corrections d'erreurs et de données manquantes"
   ]
  },
  {
   "cell_type": "markdown",
   "metadata": {},
   "source": [
    "Ben on est bien là! On a corrigé nos trucs, et tout le monde est content"
   ]
  },
  {
   "cell_type": "code",
   "execution_count": 32,
   "metadata": {},
   "outputs": [
    {
     "name": "stdout",
     "output_type": "stream",
     "text": [
      "<class 'pandas.core.frame.DataFrame'>\n",
      "RangeIndex: 100000 entries, 0 to 99999\n",
      "Data columns (total 22 columns):\n",
      "SHIPPING_MODE           100000 non-null object\n",
      "SHIPPING_PRICE          100000 non-null object\n",
      "WARRANTIES_FLG          100000 non-null bool\n",
      "WARRANTIES_PRICE        100000 non-null object\n",
      "CARD_PAYMENT            100000 non-null int64\n",
      "COUPON_PAYMENT          100000 non-null int64\n",
      "RSP_PAYMENT             100000 non-null int64\n",
      "WALLET_PAYMENT          100000 non-null int64\n",
      "PRICECLUB_STATUS        100000 non-null object\n",
      "REGISTRATION_DATE       100000 non-null int64\n",
      "PURCHASE_COUNT          100000 non-null object\n",
      "BUYER_BIRTHDAY_DATE     100000 non-null float64\n",
      "BUYER_DEPARTMENT        100000 non-null int64\n",
      "BUYING_DATE             100000 non-null object\n",
      "SELLER_SCORE_COUNT      100000 non-null object\n",
      "SELLER_SCORE_AVERAGE    100000 non-null float64\n",
      "SELLER_COUNTRY          100000 non-null object\n",
      "SELLER_DEPARTMENT       100000 non-null int64\n",
      "PRODUCT_TYPE            100000 non-null object\n",
      "PRODUCT_FAMILY          100000 non-null object\n",
      "ITEM_PRICE              100000 non-null object\n",
      "CLAIM_TYPE              100000 non-null object\n",
      "dtypes: bool(1), float64(2), int64(7), object(12)\n",
      "memory usage: 16.1+ MB\n",
      "________________________________________\n",
      "<class 'pandas.core.frame.DataFrame'>\n",
      "RangeIndex: 99995 entries, 0 to 99994\n",
      "Data columns (total 22 columns):\n",
      "ID                      99995 non-null int64\n",
      "SHIPPING_MODE           99995 non-null object\n",
      "SHIPPING_PRICE          99995 non-null object\n",
      "WARRANTIES_FLG          99995 non-null bool\n",
      "WARRANTIES_PRICE        99995 non-null object\n",
      "CARD_PAYMENT            99995 non-null int64\n",
      "COUPON_PAYMENT          99995 non-null int64\n",
      "RSP_PAYMENT             99995 non-null int64\n",
      "WALLET_PAYMENT          99995 non-null int64\n",
      "PRICECLUB_STATUS        99995 non-null object\n",
      "REGISTRATION_DATE       99995 non-null int64\n",
      "PURCHASE_COUNT          99995 non-null object\n",
      "BUYER_BIRTHDAY_DATE     99995 non-null float64\n",
      "BUYER_DEPARTMENT        99995 non-null int64\n",
      "BUYING_DATE             99995 non-null object\n",
      "SELLER_SCORE_COUNT      99995 non-null object\n",
      "SELLER_SCORE_AVERAGE    99995 non-null float64\n",
      "SELLER_COUNTRY          99995 non-null object\n",
      "SELLER_DEPARTMENT       99995 non-null int64\n",
      "PRODUCT_TYPE            99995 non-null object\n",
      "PRODUCT_FAMILY          99995 non-null object\n",
      "ITEM_PRICE              99995 non-null object\n",
      "dtypes: bool(1), float64(2), int64(8), object(11)\n",
      "memory usage: 16.1+ MB\n"
     ]
    }
   ],
   "source": [
    "train_df.info()\n",
    "print('_'*40)\n",
    "test_df.info()"
   ]
  },
  {
   "cell_type": "markdown",
   "metadata": {},
   "source": [
    "## Traitement des variables"
   ]
  },
  {
   "cell_type": "markdown",
   "metadata": {},
   "source": [
    "**Variables Mixtes**\n",
    "\n",
    "C'est à dire qu'elles contiennes en fait de l'alphanumérique, et des structures à l'interieur\n",
    "\n",
    "1. `SHIPPING_PRICE`         - Format Nombre </> Nombre\n",
    "2. `WARRANTIES_PRICE`         - Format Nombre </> Nombre\n",
    "3. `PURCHASE_COUNT`         - Format Nombre </> Nombre\n",
    "4. `BUYING_DATE`         - Format Nombre/2017\n",
    "5. `SELLER_SCORE_COUNT`         - Format Nombre </> Nombre\n",
    "6. `ITEM_PRICE`         - Format Nombre </> Nombre"
   ]
  },
  {
   "cell_type": "markdown",
   "metadata": {},
   "source": [
    "Bon, en y regardant de plus près:\n",
    "\n",
    "On ne peut pas tirer de ces variables catégorielles des variables continues.\n",
    "\n",
    "La seule information que nous avons c'est l'ordre de grandeur. Alors transformons les en variables __ordinales__"
   ]
  },
  {
   "cell_type": "markdown",
   "metadata": {},
   "source": [
    "### SHIPPING_PRICE"
   ]
  },
  {
   "cell_type": "code",
   "execution_count": 33,
   "metadata": {},
   "outputs": [
    {
     "name": "stdout",
     "output_type": "stream",
     "text": [
      "['0' '10<20' '1<5' '5<10' '<1' '>20']\n",
      "['0' '10<20' '1<5' '5<10' '<1' '>20']\n"
     ]
    }
   ],
   "source": [
    "# Exemple avant\n",
    "print(train_df.SHIPPING_PRICE.sort_values().unique())\n",
    "print(test_df.SHIPPING_PRICE.sort_values().unique())"
   ]
  },
  {
   "cell_type": "code",
   "execution_count": 34,
   "metadata": {},
   "outputs": [],
   "source": [
    "mapper= {'0':0, '<1':1, '1<5':2, '5<10':3, '10<20':4, '>20':5}\n",
    "\n",
    "train_df.SHIPPING_PRICE = train_df.SHIPPING_PRICE.map(mapper)\n",
    "test_df.SHIPPING_PRICE = test_df.SHIPPING_PRICE.map(mapper)"
   ]
  },
  {
   "cell_type": "code",
   "execution_count": 35,
   "metadata": {},
   "outputs": [
    {
     "name": "stdout",
     "output_type": "stream",
     "text": [
      "[0 1 2 3 4 5]\n",
      "[0 1 2 3 4 5]\n"
     ]
    }
   ],
   "source": [
    "# Et maintenant après transformation\n",
    "print(train_df.SHIPPING_PRICE.sort_values().unique())\n",
    "print(test_df.SHIPPING_PRICE.sort_values().unique())"
   ]
  },
  {
   "cell_type": "markdown",
   "metadata": {},
   "source": [
    "### WARRANTIES_PRICE"
   ]
  },
  {
   "cell_type": "code",
   "execution_count": 36,
   "metadata": {},
   "outputs": [
    {
     "name": "stdout",
     "output_type": "stream",
     "text": [
      "['0' '100<500' '20<50' '50<100' '5<20' '<5']\n",
      "['0' '100<500' '20<50' '50<100' '5<20' '<5']\n"
     ]
    }
   ],
   "source": [
    "print(train_df.WARRANTIES_PRICE.sort_values().unique())\n",
    "print(test_df.WARRANTIES_PRICE.sort_values().unique())"
   ]
  },
  {
   "cell_type": "code",
   "execution_count": 37,
   "metadata": {},
   "outputs": [],
   "source": [
    "mapper={'0':0, '<5':1, '5<20':2, '20<50':3, '50<100':4,  '100<500':5}\n",
    "\n",
    "train_df.WARRANTIES_PRICE = train_df.WARRANTIES_PRICE.map(mapper)\n",
    "test_df.WARRANTIES_PRICE = test_df.WARRANTIES_PRICE.map(mapper)"
   ]
  },
  {
   "cell_type": "markdown",
   "metadata": {},
   "source": [
    "### PURCHASE_COUNT"
   ]
  },
  {
   "cell_type": "code",
   "execution_count": 38,
   "metadata": {},
   "outputs": [
    {
     "name": "stdout",
     "output_type": "stream",
     "text": [
      "['100<500' '20<50' '50<100' '5<20' '<5' '>500']\n",
      "['100<500' '20<50' '50<100' '5<20' '<5' '>500']\n"
     ]
    }
   ],
   "source": [
    "print(train_df.PURCHASE_COUNT.sort_values().unique())\n",
    "print(test_df.PURCHASE_COUNT.sort_values().unique())"
   ]
  },
  {
   "cell_type": "code",
   "execution_count": 39,
   "metadata": {},
   "outputs": [],
   "source": [
    "mapper={'<5':0, '5<20':1, '20<50':2, '50<100':3, '100<500':4,  '>500':5}\n",
    "\n",
    "train_df.PURCHASE_COUNT = train_df.PURCHASE_COUNT.map(mapper)\n",
    "test_df.PURCHASE_COUNT = test_df.PURCHASE_COUNT.map(mapper)"
   ]
  },
  {
   "cell_type": "markdown",
   "metadata": {},
   "source": [
    "### BUYING_DATE"
   ]
  },
  {
   "cell_type": "code",
   "execution_count": 40,
   "metadata": {},
   "outputs": [
    {
     "name": "stdout",
     "output_type": "stream",
     "text": [
      "['1/2017' '10/2017' '2/2017' '3/2017' '4/2017' '5/2017' '6/2017' '7/2017'\n",
      " '8/2017' '9/2017']\n",
      "['1/2017' '10/2017' '2/2017' '3/2017' '4/2017' '5/2017' '6/2017' '7/2017'\n",
      " '8/2017' '9/2017']\n"
     ]
    }
   ],
   "source": [
    "print(train_df.BUYING_DATE.sort_values().unique())\n",
    "print(test_df.BUYING_DATE.sort_values().unique())"
   ]
  },
  {
   "cell_type": "code",
   "execution_count": 41,
   "metadata": {},
   "outputs": [],
   "source": [
    "toto= train_df.BUYING_DATE.str.split('/', 1, expand=True)\n",
    "train_df.BUYING_DATE = toto[0]\n",
    "train_df.BUYING_DATE = train_df.BUYING_DATE.apply(pd.to_numeric, errors='ignore')\n",
    "\n",
    "toto= test_df.BUYING_DATE.str.split('/', 1, expand=True)\n",
    "test_df.BUYING_DATE = toto[0]\n",
    "test_df.BUYING_DATE = test_df.BUYING_DATE.apply(pd.to_numeric, errors='ignore')\n",
    "\n",
    "del toto"
   ]
  },
  {
   "cell_type": "markdown",
   "metadata": {},
   "source": [
    "### SELLER_SCORE_COUNT"
   ]
  },
  {
   "cell_type": "code",
   "execution_count": 42,
   "metadata": {},
   "outputs": [
    {
     "name": "stdout",
     "output_type": "stream",
     "text": [
      "['100000<1000000' '10000<100000' '1000<10000' '100<1000' '<100']\n",
      "['100000<1000000' '10000<100000' '1000<10000' '100<1000' '<100']\n"
     ]
    }
   ],
   "source": [
    "print(train_df.SELLER_SCORE_COUNT.sort_values().unique())\n",
    "print(test_df.SELLER_SCORE_COUNT.sort_values().unique())"
   ]
  },
  {
   "cell_type": "code",
   "execution_count": 43,
   "metadata": {},
   "outputs": [],
   "source": [
    "mapper={'<100':0, '100<1000':1, '1000<10000':2, '10000<100000':3, '100000<1000000':4}\n",
    "\n",
    "train_df.SELLER_SCORE_COUNT = train_df.SELLER_SCORE_COUNT.map(mapper)\n",
    "test_df.SELLER_SCORE_COUNT = test_df.SELLER_SCORE_COUNT.map(mapper)"
   ]
  },
  {
   "cell_type": "markdown",
   "metadata": {},
   "source": [
    "### ITEM_PRICE"
   ]
  },
  {
   "cell_type": "code",
   "execution_count": 44,
   "metadata": {},
   "outputs": [
    {
     "name": "stdout",
     "output_type": "stream",
     "text": [
      "['1000<5000' '100<500' '10<20' '20<50' '500<1000' '50<100' '<10' '>5000']\n",
      "['1000<5000' '100<500' '10<20' '20<50' '500<1000' '50<100' '<10']\n"
     ]
    }
   ],
   "source": [
    "print(train_df.ITEM_PRICE.sort_values().unique())\n",
    "print(test_df.ITEM_PRICE.sort_values().unique())"
   ]
  },
  {
   "cell_type": "code",
   "execution_count": 45,
   "metadata": {},
   "outputs": [],
   "source": [
    "mapper={'<10':0, '10<20':1, '20<50':2, '50<100':3, '100<500':4,  '500<1000':5, '1000<5000':6, '>5000':6} #Il existe qu'un >5000, et il n'existe pas dans le jeu de test\n",
    "\n",
    "train_df.ITEM_PRICE = train_df.ITEM_PRICE.map(mapper)\n",
    "test_df.ITEM_PRICE = test_df.ITEM_PRICE.map(mapper)"
   ]
  },
  {
   "cell_type": "code",
   "execution_count": 46,
   "metadata": {},
   "outputs": [],
   "source": [
    "del mapper"
   ]
  },
  {
   "cell_type": "markdown",
   "metadata": {},
   "source": [
    "### PRICECLUB_STATUS"
   ]
  },
  {
   "cell_type": "code",
   "execution_count": 47,
   "metadata": {},
   "outputs": [
    {
     "name": "stdout",
     "output_type": "stream",
     "text": [
      "['GOLD' 'PLATINUM' 'REGULAR' 'SILVER' 'UNSUBSCRIBED']\n",
      "['GOLD' 'PLATINUM' 'REGULAR' 'SILVER' 'UNSUBSCRIBED']\n"
     ]
    }
   ],
   "source": [
    "print(train_df.PRICECLUB_STATUS.sort_values().unique())\n",
    "print(test_df.PRICECLUB_STATUS.sort_values().unique())"
   ]
  },
  {
   "cell_type": "markdown",
   "metadata": {},
   "source": [
    "Le classement des types de comptes est inscrit ici : https://www.priceminister.com/evt/rakuten-superpoints\n",
    "\n",
    "En faisant ça, je veux garder l'information \"classement\""
   ]
  },
  {
   "cell_type": "code",
   "execution_count": 48,
   "metadata": {},
   "outputs": [],
   "source": [
    "mapper={'UNSUBSCRIBED':0, 'REGULAR':1, 'SILVER':2, 'GOLD':3, 'PLATINUM':4}\n",
    "\n",
    "train_df.PRICECLUB_STATUS = train_df.PRICECLUB_STATUS.map(mapper)\n",
    "test_df.PRICECLUB_STATUS = test_df.PRICECLUB_STATUS.map(mapper)"
   ]
  },
  {
   "cell_type": "markdown",
   "metadata": {},
   "source": [
    "## Drop Duplicates\n",
    "\n",
    "\n",
    "Finding duplicates in your data is important because you end up:\n",
    "\n",
    "1. Spending more computational time to process duplicates, which slows your algorithms down.\n",
    "\n",
    "2. Obtaining false results because duplicates implicitly overweight the results. \n",
    "\n",
    "Because some entries appear more than once, the algorithm considers these entries more important.\n",
    "\n",
    "Ok, mais ici, on a aucun duplicate dans la classe majoritaire, donc je préfère ne rien droper finalement"
   ]
  },
  {
   "cell_type": "code",
   "execution_count": 49,
   "metadata": {},
   "outputs": [
    {
     "data": {
      "text/plain": [
       "(100000, 22)"
      ]
     },
     "execution_count": 49,
     "metadata": {},
     "output_type": "execute_result"
    }
   ],
   "source": [
    "train_df.shape"
   ]
  },
  {
   "cell_type": "code",
   "execution_count": 50,
   "metadata": {},
   "outputs": [
    {
     "data": {
      "text/plain": [
       "(96851, 22)"
      ]
     },
     "execution_count": 50,
     "metadata": {},
     "output_type": "execute_result"
    }
   ],
   "source": [
    "train_df.drop_duplicates(inplace=False).shape"
   ]
  },
  {
   "cell_type": "markdown",
   "metadata": {},
   "source": [
    "Mais si on enlève les duplicates on perd 3149 lignes... Donc c'est mort de mon point de vue"
   ]
  },
  {
   "cell_type": "markdown",
   "metadata": {},
   "source": [
    "### Bilan"
   ]
  },
  {
   "cell_type": "markdown",
   "metadata": {},
   "source": [
    "Ben on est bien là! On a transformé tout ça en variables __ordinales__, et tout le monde est content"
   ]
  },
  {
   "cell_type": "code",
   "execution_count": 51,
   "metadata": {},
   "outputs": [
    {
     "name": "stdout",
     "output_type": "stream",
     "text": [
      "<class 'pandas.core.frame.DataFrame'>\n",
      "RangeIndex: 100000 entries, 0 to 99999\n",
      "Data columns (total 22 columns):\n",
      "SHIPPING_MODE           100000 non-null object\n",
      "SHIPPING_PRICE          100000 non-null int64\n",
      "WARRANTIES_FLG          100000 non-null bool\n",
      "WARRANTIES_PRICE        100000 non-null int64\n",
      "CARD_PAYMENT            100000 non-null int64\n",
      "COUPON_PAYMENT          100000 non-null int64\n",
      "RSP_PAYMENT             100000 non-null int64\n",
      "WALLET_PAYMENT          100000 non-null int64\n",
      "PRICECLUB_STATUS        100000 non-null int64\n",
      "REGISTRATION_DATE       100000 non-null int64\n",
      "PURCHASE_COUNT          100000 non-null int64\n",
      "BUYER_BIRTHDAY_DATE     100000 non-null float64\n",
      "BUYER_DEPARTMENT        100000 non-null int64\n",
      "BUYING_DATE             100000 non-null int64\n",
      "SELLER_SCORE_COUNT      100000 non-null int64\n",
      "SELLER_SCORE_AVERAGE    100000 non-null float64\n",
      "SELLER_COUNTRY          100000 non-null object\n",
      "SELLER_DEPARTMENT       100000 non-null int64\n",
      "PRODUCT_TYPE            100000 non-null object\n",
      "PRODUCT_FAMILY          100000 non-null object\n",
      "ITEM_PRICE              100000 non-null int64\n",
      "CLAIM_TYPE              100000 non-null object\n",
      "dtypes: bool(1), float64(2), int64(14), object(5)\n",
      "memory usage: 16.1+ MB\n",
      "________________________________________\n",
      "<class 'pandas.core.frame.DataFrame'>\n",
      "RangeIndex: 99995 entries, 0 to 99994\n",
      "Data columns (total 22 columns):\n",
      "ID                      99995 non-null int64\n",
      "SHIPPING_MODE           99995 non-null object\n",
      "SHIPPING_PRICE          99995 non-null int64\n",
      "WARRANTIES_FLG          99995 non-null bool\n",
      "WARRANTIES_PRICE        99995 non-null int64\n",
      "CARD_PAYMENT            99995 non-null int64\n",
      "COUPON_PAYMENT          99995 non-null int64\n",
      "RSP_PAYMENT             99995 non-null int64\n",
      "WALLET_PAYMENT          99995 non-null int64\n",
      "PRICECLUB_STATUS        99995 non-null int64\n",
      "REGISTRATION_DATE       99995 non-null int64\n",
      "PURCHASE_COUNT          99995 non-null int64\n",
      "BUYER_BIRTHDAY_DATE     99995 non-null float64\n",
      "BUYER_DEPARTMENT        99995 non-null int64\n",
      "BUYING_DATE             99995 non-null int64\n",
      "SELLER_SCORE_COUNT      99995 non-null int64\n",
      "SELLER_SCORE_AVERAGE    99995 non-null float64\n",
      "SELLER_COUNTRY          99995 non-null object\n",
      "SELLER_DEPARTMENT       99995 non-null int64\n",
      "PRODUCT_TYPE            99995 non-null object\n",
      "PRODUCT_FAMILY          99995 non-null object\n",
      "ITEM_PRICE              99995 non-null int64\n",
      "dtypes: bool(1), float64(2), int64(15), object(4)\n",
      "memory usage: 16.1+ MB\n"
     ]
    }
   ],
   "source": [
    "train_df.info()\n",
    "print('_'*40)\n",
    "test_df.info()"
   ]
  },
  {
   "cell_type": "markdown",
   "metadata": {},
   "source": [
    "Actuellement, il nous reste quatre variables catégorielles:\n",
    "1. `SHIPPING_MODE`\n",
    "2. `SELLER_COUNTRY`\n",
    "3. `PRODUCT_TYPE`\n",
    "4. `PRODUCT_FAMILY`\n",
    "\n",
    "Il n'y a pas de classement à faire entre ces catégories, on verra ça dans le Notebook 2 Feature Engineering.\n",
    "\n",
    "Mais quel teasing!\n",
    "\n",
    "Et on oublie pas d'écrire les résultats de nos transformations."
   ]
  },
  {
   "cell_type": "code",
   "execution_count": 52,
   "metadata": {},
   "outputs": [],
   "source": [
    "filename_train = DATA_PROCESSED+\"/train_notebook_1.csv\"\n",
    "filename_test = DATA_PROCESSED+\"/test_notebook_1.csv\"\n",
    "\n",
    "try:\n",
    "    os.remove(filename_train)\n",
    "    os.remove(filename_test)\n",
    "except:\n",
    "    pass;\n",
    "    \n",
    "train_df.to_csv(filename_train, index=False, sep=\";\")\n",
    "test_df.to_csv(filename_test, index=False, sep=\";\")"
   ]
  }
 ],
 "metadata": {
  "_change_revision": 0,
  "_is_fork": false,
  "kernelspec": {
   "display_name": "Python 3",
   "language": "python",
   "name": "python3"
  },
  "language_info": {
   "codemirror_mode": {
    "name": "ipython",
    "version": 3
   },
   "file_extension": ".py",
   "mimetype": "text/x-python",
   "name": "python",
   "nbconvert_exporter": "python",
   "pygments_lexer": "ipython3",
   "version": "3.6.4"
  }
 },
 "nbformat": 4,
 "nbformat_minor": 1
}
