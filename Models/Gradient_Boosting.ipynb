{
 "cells": [
  {
   "cell_type": "markdown",
   "metadata": {},
   "source": [
    "# Aujourd'hui on roule sur les mecs de l'ENS\n",
    "\n",
    "\n",
    "https://challengedata.ens.fr/en/challenge/39/prediction_of_transaction_claims_status.html"
   ]
  },
  {
   "cell_type": "markdown",
   "metadata": {},
   "source": [
    "# Imports des librairies de bases\n",
    "\n",
    "On ajoutera celles qui manquent au fur et à mesure de nos besoins"
   ]
  },
  {
   "cell_type": "code",
   "execution_count": 26,
   "metadata": {},
   "outputs": [],
   "source": [
    "# To support both python 2 and python 3\n",
    "from __future__ import division, print_function, unicode_literals\n",
    "\n",
    "# Common imports\n",
    "import numpy as np\n",
    "import pandas as pd\n",
    "import os, gc"
   ]
  },
  {
   "cell_type": "markdown",
   "metadata": {},
   "source": [
    "# Définition de la seed pour le random\n",
    "\n",
    "Très important pour qu'on voit les mêmes choses entre nos deux ordis"
   ]
  },
  {
   "cell_type": "code",
   "execution_count": 27,
   "metadata": {},
   "outputs": [],
   "source": [
    "RANDOM_SEED = 42;\n",
    "np.random.seed(RANDOM_SEED)"
   ]
  },
  {
   "cell_type": "markdown",
   "metadata": {},
   "source": [
    "# Définition des paramètres pour Matplot\n",
    "\n",
    "Rien de bien intéréssant"
   ]
  },
  {
   "cell_type": "code",
   "execution_count": 28,
   "metadata": {},
   "outputs": [],
   "source": [
    "# To plot pretty figures\n",
    "%matplotlib inline\n",
    "import matplotlib\n",
    "import matplotlib.pyplot as plt\n",
    "plt.rcParams['axes.labelsize'] = 14\n",
    "plt.rcParams['xtick.labelsize'] = 12\n",
    "plt.rcParams['ytick.labelsize'] = 12"
   ]
  },
  {
   "cell_type": "markdown",
   "metadata": {},
   "source": [
    "# Set des variables globales\n",
    "\n",
    "Attention, je n'utilise les variables globales pour la gestion des fichiers. Sinon, c'est mort"
   ]
  },
  {
   "cell_type": "code",
   "execution_count": 29,
   "metadata": {},
   "outputs": [],
   "source": [
    "# Where to save the figures\n",
    "PROJECT_ROOT_DIR = \"..\"\n",
    "DATA_PROCESSED = os.path.join(PROJECT_ROOT_DIR, \"data_processed\")"
   ]
  },
  {
   "cell_type": "markdown",
   "metadata": {},
   "source": [
    "# Fonction pour load les libraires\n",
    "\n",
    "En vrai, on a juste besoin de pd.read_csv, mais c'était pour faire joli"
   ]
  },
  {
   "cell_type": "code",
   "execution_count": 30,
   "metadata": {},
   "outputs": [],
   "source": [
    "def load_data(file,data_path=DATA_PROCESSED, sep=';'):\n",
    "    csv_path = os.path.join(data_path, file)\n",
    "    return pd.read_csv(csv_path, sep=';')"
   ]
  },
  {
   "cell_type": "markdown",
   "metadata": {},
   "source": [
    "# On load les jeux de données"
   ]
  },
  {
   "cell_type": "code",
   "execution_count": 31,
   "metadata": {},
   "outputs": [],
   "source": [
    "TX_data = load_data(file = \"train.csv\");"
   ]
  },
  {
   "cell_type": "code",
   "execution_count": 32,
   "metadata": {},
   "outputs": [
    {
     "data": {
      "text/html": [
       "<div>\n",
       "<style scoped>\n",
       "    .dataframe tbody tr th:only-of-type {\n",
       "        vertical-align: middle;\n",
       "    }\n",
       "\n",
       "    .dataframe tbody tr th {\n",
       "        vertical-align: top;\n",
       "    }\n",
       "\n",
       "    .dataframe thead th {\n",
       "        text-align: right;\n",
       "    }\n",
       "</style>\n",
       "<table border=\"1\" class=\"dataframe\">\n",
       "  <thead>\n",
       "    <tr style=\"text-align: right;\">\n",
       "      <th></th>\n",
       "      <th>SHIPPING_MODE</th>\n",
       "      <th>SHIPPING_PRICE</th>\n",
       "      <th>CARD_PAYMENT</th>\n",
       "      <th>COUPON_PAYMENT</th>\n",
       "      <th>RSP_PAYMENT</th>\n",
       "      <th>WALLET_PAYMENT</th>\n",
       "      <th>PRICECLUB_STATUS</th>\n",
       "      <th>REGISTRATION_DATE</th>\n",
       "      <th>PURCHASE_COUNT</th>\n",
       "      <th>BUYER_BIRTHDAY_DATE</th>\n",
       "      <th>...</th>\n",
       "      <th>SELLER_DEPARTMENT_PIB</th>\n",
       "      <th>CAC_POINTS</th>\n",
       "      <th>CAC_VAR</th>\n",
       "      <th>IS_HOLIDAYS</th>\n",
       "      <th>IS_SALES</th>\n",
       "      <th>Mean_Claims_Sells_ID</th>\n",
       "      <th>STD_Claims_Sells_ID</th>\n",
       "      <th>Count_PRODUCT_TYPE</th>\n",
       "      <th>Mean_Claims_PRODUCT_TYPE</th>\n",
       "      <th>STD_Claims_PRODUCT_TYPE</th>\n",
       "    </tr>\n",
       "  </thead>\n",
       "  <tbody>\n",
       "    <tr>\n",
       "      <th>0</th>\n",
       "      <td>NORMAL</td>\n",
       "      <td>0</td>\n",
       "      <td>1</td>\n",
       "      <td>0</td>\n",
       "      <td>1</td>\n",
       "      <td>0</td>\n",
       "      <td>0</td>\n",
       "      <td>2015</td>\n",
       "      <td>0</td>\n",
       "      <td>1992.0</td>\n",
       "      <td>...</td>\n",
       "      <td>20885</td>\n",
       "      <td>5122</td>\n",
       "      <td>5</td>\n",
       "      <td>0</td>\n",
       "      <td>0</td>\n",
       "      <td>0.571429</td>\n",
       "      <td>0.507093</td>\n",
       "      <td>19285.0</td>\n",
       "      <td>0.505522</td>\n",
       "      <td>0.499982</td>\n",
       "    </tr>\n",
       "    <tr>\n",
       "      <th>1</th>\n",
       "      <td>NORMAL</td>\n",
       "      <td>0</td>\n",
       "      <td>1</td>\n",
       "      <td>0</td>\n",
       "      <td>0</td>\n",
       "      <td>0</td>\n",
       "      <td>0</td>\n",
       "      <td>2013</td>\n",
       "      <td>0</td>\n",
       "      <td>1952.0</td>\n",
       "      <td>...</td>\n",
       "      <td>20589</td>\n",
       "      <td>5085</td>\n",
       "      <td>0</td>\n",
       "      <td>1</td>\n",
       "      <td>1</td>\n",
       "      <td>0.333333</td>\n",
       "      <td>0.472657</td>\n",
       "      <td>19285.0</td>\n",
       "      <td>0.505522</td>\n",
       "      <td>0.499982</td>\n",
       "    </tr>\n",
       "    <tr>\n",
       "      <th>2</th>\n",
       "      <td>NORMAL</td>\n",
       "      <td>0</td>\n",
       "      <td>0</td>\n",
       "      <td>0</td>\n",
       "      <td>0</td>\n",
       "      <td>1</td>\n",
       "      <td>4</td>\n",
       "      <td>2013</td>\n",
       "      <td>3</td>\n",
       "      <td>1991.0</td>\n",
       "      <td>...</td>\n",
       "      <td>-99999</td>\n",
       "      <td>5283</td>\n",
       "      <td>0</td>\n",
       "      <td>0</td>\n",
       "      <td>0</td>\n",
       "      <td>0.607143</td>\n",
       "      <td>0.488575</td>\n",
       "      <td>2583.0</td>\n",
       "      <td>0.573364</td>\n",
       "      <td>0.494684</td>\n",
       "    </tr>\n",
       "    <tr>\n",
       "      <th>3</th>\n",
       "      <td>RECOMMANDE</td>\n",
       "      <td>0</td>\n",
       "      <td>1</td>\n",
       "      <td>0</td>\n",
       "      <td>0</td>\n",
       "      <td>0</td>\n",
       "      <td>0</td>\n",
       "      <td>2007</td>\n",
       "      <td>5</td>\n",
       "      <td>1955.0</td>\n",
       "      <td>...</td>\n",
       "      <td>19908</td>\n",
       "      <td>5283</td>\n",
       "      <td>0</td>\n",
       "      <td>0</td>\n",
       "      <td>0</td>\n",
       "      <td>0.707113</td>\n",
       "      <td>0.456042</td>\n",
       "      <td>362.0</td>\n",
       "      <td>0.533149</td>\n",
       "      <td>0.499590</td>\n",
       "    </tr>\n",
       "    <tr>\n",
       "      <th>4</th>\n",
       "      <td>RECOMMANDE</td>\n",
       "      <td>0</td>\n",
       "      <td>1</td>\n",
       "      <td>0</td>\n",
       "      <td>1</td>\n",
       "      <td>0</td>\n",
       "      <td>4</td>\n",
       "      <td>2010</td>\n",
       "      <td>1</td>\n",
       "      <td>1984.0</td>\n",
       "      <td>...</td>\n",
       "      <td>-99999</td>\n",
       "      <td>5329</td>\n",
       "      <td>5</td>\n",
       "      <td>0</td>\n",
       "      <td>0</td>\n",
       "      <td>0.628676</td>\n",
       "      <td>0.483239</td>\n",
       "      <td>222.0</td>\n",
       "      <td>0.653153</td>\n",
       "      <td>0.477042</td>\n",
       "    </tr>\n",
       "  </tbody>\n",
       "</table>\n",
       "<p>5 rows × 34 columns</p>\n",
       "</div>"
      ],
      "text/plain": [
       "  SHIPPING_MODE  SHIPPING_PRICE  CARD_PAYMENT  COUPON_PAYMENT  RSP_PAYMENT  \\\n",
       "0        NORMAL               0             1               0            1   \n",
       "1        NORMAL               0             1               0            0   \n",
       "2        NORMAL               0             0               0            0   \n",
       "3    RECOMMANDE               0             1               0            0   \n",
       "4    RECOMMANDE               0             1               0            1   \n",
       "\n",
       "   WALLET_PAYMENT  PRICECLUB_STATUS  REGISTRATION_DATE  PURCHASE_COUNT  \\\n",
       "0               0                 0               2015               0   \n",
       "1               0                 0               2013               0   \n",
       "2               1                 4               2013               3   \n",
       "3               0                 0               2007               5   \n",
       "4               0                 4               2010               1   \n",
       "\n",
       "   BUYER_BIRTHDAY_DATE           ...             SELLER_DEPARTMENT_PIB  \\\n",
       "0               1992.0           ...                             20885   \n",
       "1               1952.0           ...                             20589   \n",
       "2               1991.0           ...                            -99999   \n",
       "3               1955.0           ...                             19908   \n",
       "4               1984.0           ...                            -99999   \n",
       "\n",
       "   CAC_POINTS  CAC_VAR IS_HOLIDAYS IS_SALES Mean_Claims_Sells_ID  \\\n",
       "0        5122        5           0        0             0.571429   \n",
       "1        5085        0           1        1             0.333333   \n",
       "2        5283        0           0        0             0.607143   \n",
       "3        5283        0           0        0             0.707113   \n",
       "4        5329        5           0        0             0.628676   \n",
       "\n",
       "   STD_Claims_Sells_ID Count_PRODUCT_TYPE  Mean_Claims_PRODUCT_TYPE  \\\n",
       "0             0.507093            19285.0                  0.505522   \n",
       "1             0.472657            19285.0                  0.505522   \n",
       "2             0.488575             2583.0                  0.573364   \n",
       "3             0.456042              362.0                  0.533149   \n",
       "4             0.483239              222.0                  0.653153   \n",
       "\n",
       "   STD_Claims_PRODUCT_TYPE  \n",
       "0                 0.499982  \n",
       "1                 0.499982  \n",
       "2                 0.494684  \n",
       "3                 0.499590  \n",
       "4                 0.477042  \n",
       "\n",
       "[5 rows x 34 columns]"
      ]
     },
     "execution_count": 32,
     "metadata": {},
     "output_type": "execute_result"
    }
   ],
   "source": [
    "TX_data.head()"
   ]
  },
  {
   "cell_type": "code",
   "execution_count": 33,
   "metadata": {},
   "outputs": [],
   "source": [
    "TX_data.drop(['CARD_PAYMENT','COUPON_PAYMENT','RSP_PAYMENT','WALLET_PAYMENT'], axis = 1, inplace = True)"
   ]
  },
  {
   "cell_type": "code",
   "execution_count": 34,
   "metadata": {},
   "outputs": [
    {
     "name": "stdout",
     "output_type": "stream",
     "text": [
      "<class 'pandas.core.frame.DataFrame'>\n",
      "RangeIndex: 100000 entries, 0 to 99999\n",
      "Data columns (total 30 columns):\n",
      "SHIPPING_MODE                100000 non-null object\n",
      "SHIPPING_PRICE               100000 non-null int64\n",
      "PRICECLUB_STATUS             100000 non-null int64\n",
      "REGISTRATION_DATE            100000 non-null int64\n",
      "PURCHASE_COUNT               100000 non-null int64\n",
      "BUYER_BIRTHDAY_DATE          100000 non-null float64\n",
      "BUYING_DATE                  100000 non-null int64\n",
      "SELLER_SCORE_COUNT           100000 non-null int64\n",
      "SELLER_SCORE_AVERAGE         100000 non-null float64\n",
      "SELLER_COUNTRY               100000 non-null object\n",
      "PRODUCT_TYPE                 100000 non-null object\n",
      "PRODUCT_FAMILY               100000 non-null object\n",
      "ITEM_PRICE                   100000 non-null int64\n",
      "CLAIM_TYPE                   100000 non-null object\n",
      "WARRANTY_COV_RATE            100000 non-null float64\n",
      "SELLER_COUNTRY_PIB           100000 non-null int64\n",
      "SELLER_COUNTRY_DISTANCE      100000 non-null int64\n",
      "BUYER_DEPARTMENT_DENSITY     100000 non-null int64\n",
      "SELLER_DEPARTMENT_DENSITY    100000 non-null int64\n",
      "BUYER_DEPARTMENT_PIB         100000 non-null int64\n",
      "SELLER_DEPARTMENT_PIB        100000 non-null int64\n",
      "CAC_POINTS                   100000 non-null int64\n",
      "CAC_VAR                      100000 non-null int64\n",
      "IS_HOLIDAYS                  100000 non-null int64\n",
      "IS_SALES                     100000 non-null int64\n",
      "Mean_Claims_Sells_ID         100000 non-null float64\n",
      "STD_Claims_Sells_ID          100000 non-null float64\n",
      "Count_PRODUCT_TYPE           100000 non-null float64\n",
      "Mean_Claims_PRODUCT_TYPE     100000 non-null float64\n",
      "STD_Claims_PRODUCT_TYPE      100000 non-null float64\n",
      "dtypes: float64(8), int64(17), object(5)\n",
      "memory usage: 22.9+ MB\n"
     ]
    }
   ],
   "source": [
    "TX_data.info()"
   ]
  },
  {
   "cell_type": "code",
   "execution_count": 35,
   "metadata": {},
   "outputs": [],
   "source": [
    "from sklearn.model_selection import train_test_split\n",
    "train_set, test_set = train_test_split(TX_data, \n",
    "                                       test_size=0.3, \n",
    "                                       random_state=RANDOM_SEED, \n",
    "                                       stratify=TX_data[\"CLAIM_TYPE\"]\n",
    "                                      )\n",
    "del TX_data;"
   ]
  },
  {
   "cell_type": "markdown",
   "metadata": {},
   "source": [
    "# Jointure entre les X et Y"
   ]
  },
  {
   "cell_type": "code",
   "execution_count": 36,
   "metadata": {},
   "outputs": [],
   "source": [
    "def datapreprocess(data):\n",
    "    data=data.apply(pd.to_numeric, errors='ignore')\n",
    "    \n",
    "    # Y and X\n",
    "    try :\n",
    "        Y=data[\"CLAIM_TYPE\"]\n",
    "        X=data.drop(\"CLAIM_TYPE\", axis=1,inplace=False)\n",
    "    except:\n",
    "        Y=0\n",
    "        X=data\n",
    "    # Exclude Objets\n",
    "    X=X.select_dtypes(exclude=['object'])\n",
    "    \n",
    "    # Work on fare\n",
    "    from sklearn.preprocessing import Imputer\n",
    "    imp = Imputer(missing_values='NaN',strategy='median', axis=1)\n",
    "    X=pd.DataFrame(imp.fit_transform(X),columns=X.columns.values)\n",
    " \n",
    "    return X, Y"
   ]
  },
  {
   "cell_type": "code",
   "execution_count": 37,
   "metadata": {},
   "outputs": [
    {
     "data": {
      "text/plain": [
       "4820"
      ]
     },
     "execution_count": 37,
     "metadata": {},
     "output_type": "execute_result"
    }
   ],
   "source": [
    "X_train, Y_train = datapreprocess(train_set)\n",
    "X_test, Y_test = datapreprocess(test_set)\n",
    "\n",
    "#del TX_data;\n",
    "gc.collect()"
   ]
  },
  {
   "cell_type": "code",
   "execution_count": 38,
   "metadata": {},
   "outputs": [],
   "source": [
    "def multiclass_roc_auc_score(truth, pred):\n",
    "    from sklearn.metrics import roc_auc_score\n",
    "    from sklearn.preprocessing import LabelBinarizer\n",
    "    lb = LabelBinarizer()\n",
    "    lb.fit(truth)\n",
    "    return roc_auc_score(lb.transform(truth), lb.transform(pred), average=\"weighted\")"
   ]
  },
  {
   "cell_type": "code",
   "execution_count": 39,
   "metadata": {},
   "outputs": [],
   "source": [
    "from sklearn.metrics import confusion_matrix\n",
    "def plot_confusion_matrix(matrix):\n",
    "    \"\"\"If you prefer color and a colorbar\"\"\"\n",
    "    fig = plt.figure(figsize=(8,8))\n",
    "    ax = fig.add_subplot(111)\n",
    "    cax = ax.matshow(matrix)\n",
    "    fig.colorbar(cax)"
   ]
  },
  {
   "cell_type": "markdown",
   "metadata": {},
   "source": [
    "# MODEL!"
   ]
  },
  {
   "cell_type": "code",
   "execution_count": 40,
   "metadata": {},
   "outputs": [],
   "source": [
    "from sklearn.model_selection import GridSearchCV"
   ]
  },
  {
   "cell_type": "markdown",
   "metadata": {},
   "source": [
    "## Gradient Boosting"
   ]
  },
  {
   "cell_type": "markdown",
   "metadata": {},
   "source": [
    "https://www.analyticsvidhya.com/blog/2016/02/complete-guide-parameter-tuning-gradient-boosting-gbm-python/"
   ]
  },
  {
   "cell_type": "code",
   "execution_count": 41,
   "metadata": {},
   "outputs": [],
   "source": [
    "from sklearn.ensemble import GradientBoostingClassifier"
   ]
  },
  {
   "cell_type": "code",
   "execution_count": 42,
   "metadata": {},
   "outputs": [],
   "source": [
    "from sklearn.utils.class_weight import compute_sample_weight"
   ]
  },
  {
   "cell_type": "code",
   "execution_count": 43,
   "metadata": {},
   "outputs": [],
   "source": [
    "sample_weight_arr = compute_sample_weight(class_weight='balanced', y=Y_train)\n",
    "sample_weight_dict = {'sample_weight':compute_sample_weight(class_weight='balanced', y=Y_train)}"
   ]
  },
  {
   "cell_type": "markdown",
   "metadata": {},
   "source": [
    "### Gradient Boosting solo"
   ]
  },
  {
   "cell_type": "code",
   "execution_count": 53,
   "metadata": {},
   "outputs": [],
   "source": [
    "params_GB={\n",
    "            'criterion':'friedman_mse',\n",
    "            'init':None,\n",
    "            'learning_rate':0.25,\n",
    "            'loss':'deviance',\n",
    "            'max_depth':3,\n",
    "            'max_features':'auto',\n",
    "            'max_leaf_nodes':4,\n",
    "            'min_impurity_decrease':0.0,\n",
    "            'min_impurity_split':None,\n",
    "            'min_samples_leaf':2,\n",
    "            'min_samples_split':3,\n",
    "            'min_weight_fraction_leaf':0.0,\n",
    "            'n_estimators':750,\n",
    "            'presort':'auto',\n",
    "            'random_state':RANDOM_SEED,\n",
    "            'subsample':0.8,\n",
    "            'verbose':0,\n",
    "            'warm_start':False\n",
    "}"
   ]
  },
  {
   "cell_type": "code",
   "execution_count": 54,
   "metadata": {},
   "outputs": [],
   "source": [
    "gb_clf=GradientBoostingClassifier(**params_GB)"
   ]
  },
  {
   "cell_type": "code",
   "execution_count": 55,
   "metadata": {
    "scrolled": true
   },
   "outputs": [
    {
     "data": {
      "text/plain": [
       "GradientBoostingClassifier(criterion='friedman_mse', init=None,\n",
       "              learning_rate=0.25, loss='deviance', max_depth=3,\n",
       "              max_features='auto', max_leaf_nodes=4,\n",
       "              min_impurity_decrease=0.0, min_impurity_split=None,\n",
       "              min_samples_leaf=2, min_samples_split=3,\n",
       "              min_weight_fraction_leaf=0.0, n_estimators=750,\n",
       "              presort='auto', random_state=42, subsample=0.8, verbose=0,\n",
       "              warm_start=False)"
      ]
     },
     "execution_count": 55,
     "metadata": {},
     "output_type": "execute_result"
    }
   ],
   "source": [
    "gb_clf.fit(\n",
    "            X=X_train, \n",
    "            y=Y_train, \n",
    "            sample_weight=sample_weight_arr\n",
    "          )"
   ]
  },
  {
   "cell_type": "code",
   "execution_count": 56,
   "metadata": {},
   "outputs": [],
   "source": [
    "y_pred_gb_train = gb_clf.predict(X_train)\n",
    "y_pred_gb = gb_clf.predict(X_test)"
   ]
  },
  {
   "cell_type": "code",
   "execution_count": 57,
   "metadata": {},
   "outputs": [],
   "source": [
    "train_mAUC = multiclass_roc_auc_score(Y_train, y_pred_gb_train)\n",
    "test_mAUC = multiclass_roc_auc_score(Y_test, y_pred_gb)"
   ]
  },
  {
   "cell_type": "code",
   "execution_count": 58,
   "metadata": {},
   "outputs": [
    {
     "name": "stdout",
     "output_type": "stream",
     "text": [
      "Performance sur le train : 0.6729532058304196\n",
      "Performance sur le test : 0.6137334782063697\n"
     ]
    }
   ],
   "source": [
    "print(\"Performance sur le train : {}\".format(train_mAUC))\n",
    "print(\"Performance sur le test : {}\".format(test_mAUC))"
   ]
  },
  {
   "cell_type": "markdown",
   "metadata": {},
   "source": [
    "Score actuel:\n",
    "\n",
    "Performance sur le train : 0.6963147173736327\n",
    "\n",
    "Performance sur le test : 0.6102894297640208\n",
    "\n",
    "Ratio entre les deux : 0.8764563128378458"
   ]
  },
  {
   "cell_type": "code",
   "execution_count": 59,
   "metadata": {},
   "outputs": [
    {
     "data": {
      "image/png": "[encoded data removed]",
      "text/plain": [
       "<matplotlib.figure.Figure at 0x279e1259a58>"
      ]
     },
     "metadata": {},
     "output_type": "display_data"
    }
   ],
   "source": [
    "conf_mx = confusion_matrix(Y_test, y_pred_gb)\n",
    "row_sums = conf_mx.sum(axis=1, keepdims=True)\n",
    "norm_conf_mx = conf_mx / row_sums\n",
    "plot_confusion_matrix(norm_conf_mx)"
   ]
  },
  {
   "cell_type": "markdown",
   "metadata": {},
   "source": [
    "### Gradient Boosting Grid Search"
   ]
  },
  {
   "cell_type": "code",
   "execution_count": null,
   "metadata": {},
   "outputs": [],
   "source": [
    "params_GB_CV={\n",
    "            # Tree-Specific Parameters\n",
    "            'min_samples_split':list(range(2, 10)),\n",
    "            'min_samples_leaf':list(range(1,4)),\n",
    "            'max_depth':list(range(2, 15)),\n",
    "            \n",
    "            # Boosting Parameters\n",
    "            'learning_rate':[0.5, 0.4, 0.3, 0.2, 0.1]\n",
    "}\n",
    "\n",
    "\n",
    "params_GB = {\n",
    "            # Tree-Specific Parameters\n",
    "    \n",
    "            #'min_weight_fraction_leaf':0.0,\n",
    "            #'max_leaf_nodes':None,\n",
    "            #'min_impurity_decrease':0.0,\n",
    "            #'min_impurity_split':None,\n",
    "            'n_estimators':500,\n",
    "            'max_features':'auto',\n",
    "    \n",
    "            # Boosting Parameters\n",
    "            'subsample':0.8,\n",
    "\n",
    "            # Miscellaneous Parameters\n",
    "            'loss':'deviance',\n",
    "            'init':None,\n",
    "            'random_state':RANDOM_SEED,\n",
    "            'criterion':'friedman_mse',\n",
    "            'verbose':0,\n",
    "            'warm_start':False,\n",
    "            'presort':'auto'\n",
    "}\n"
   ]
  },
  {
   "cell_type": "code",
   "execution_count": null,
   "metadata": {},
   "outputs": [],
   "source": [
    "gb_gs_cv = GridSearchCV(GradientBoostingClassifier(**params_GB), \n",
    "                              params_GB_CV,\n",
    "                                scoring='f1_weighted',\n",
    "                              n_jobs=-1,\n",
    "                              verbose=1)"
   ]
  },
  {
   "cell_type": "code",
   "execution_count": null,
   "metadata": {},
   "outputs": [],
   "source": [
    "gb_gs_cv.fit(X_train, Y_train,groups=None,**sample_weight_dict)"
   ]
  },
  {
   "cell_type": "code",
   "execution_count": null,
   "metadata": {
    "scrolled": true
   },
   "outputs": [],
   "source": [
    "gb_gs_cv.best_estimator_"
   ]
  },
  {
   "cell_type": "code",
   "execution_count": null,
   "metadata": {},
   "outputs": [],
   "source": [
    "y_pred_cv_gb_train = gb_gs_cv.best_estimator_.predict(X_train)\n",
    "y_pred_cv_gb = gb_gs_cv.best_estimator_.predict(X_test)"
   ]
  },
  {
   "cell_type": "code",
   "execution_count": null,
   "metadata": {},
   "outputs": [],
   "source": [
    "train_mAUC = multiclass_roc_auc_score(Y_train, y_pred_cv_gb_train)\n",
    "test_mAUC = multiclass_roc_auc_score(Y_test, y_pred_cv_gb)"
   ]
  },
  {
   "cell_type": "code",
   "execution_count": null,
   "metadata": {
    "scrolled": true
   },
   "outputs": [],
   "source": [
    "print(\"Performance sur le train : {}\".format(train_mAUC))\n",
    "print(\"Performance sur le test : {}\".format(test_mAUC))\n",
    "print(\"Ratio entre les deux : {} \".format(test_mAUC/train_mAUC))"
   ]
  },
  {
   "cell_type": "code",
   "execution_count": null,
   "metadata": {},
   "outputs": [],
   "source": [
    "conf_mx = confusion_matrix(Y_test, y_pred_cv_gb)\n",
    "row_sums = conf_mx.sum(axis=1, keepdims=True)\n",
    "norm_conf_mx = conf_mx / row_sums\n",
    "plot_confusion_matrix(norm_conf_mx)"
   ]
  },
  {
   "cell_type": "code",
   "execution_count": null,
   "metadata": {},
   "outputs": [],
   "source": [
    "#RESULTS[\"CLAIM_TYPE\"] = pd.DataFrame(clf.predict(TEST_DATA), columns=[\"Result\"])"
   ]
  },
  {
   "cell_type": "code",
   "execution_count": null,
   "metadata": {},
   "outputs": [],
   "source": [
    "#filename = DATA_PROCESSED+\"/submission_2.csv\"\n",
    "\n",
    "#RESULTS.to_csv(filename, index=False, sep=\";\")"
   ]
  }
 ],
 "metadata": {
  "kernelspec": {
   "display_name": "Python 3",
   "language": "python",
   "name": "python3"
  },
  "language_info": {
   "codemirror_mode": {
    "name": "ipython",
    "version": 3
   },
   "file_extension": ".py",
   "mimetype": "text/x-python",
   "name": "python",
   "nbconvert_exporter": "python",
   "pygments_lexer": "ipython3",
   "version": "3.6.3"
  }
 },
 "nbformat": 4,
 "nbformat_minor": 2
}
