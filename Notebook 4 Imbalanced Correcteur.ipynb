{
 "cells": [
  {
   "cell_type": "markdown",
   "metadata": {},
   "source": [
    "# Aujourd'hui on se fait rouler par les mecs de l'ENS\n",
    "\n",
    "\n",
    "https://challengedata.ens.fr/en/challenge/39/prediction_of_transaction_claims_status.html\n",
    "\n",
    "\n",
    "Ici, c'est le notebook dédié à la gestion de l'imbalanced des classes. On ne touche pas au `test set`."
   ]
  },
  {
   "cell_type": "code",
   "execution_count": 1,
   "metadata": {
    "_cell_guid": "ea25cdf7-bdbc-3cf1-0737-bc51675e3374",
    "_uuid": "fed5696c67bf55a553d6d04313a77e8c617cad99"
   },
   "outputs": [
    {
     "name": "stdout",
     "output_type": "stream",
     "text": [
      "Python version: 3.6.3 |Anaconda custom (64-bit)| (default, Oct 15 2017, 03:27:45) [MSC v.1900 64 bit (AMD64)]\n",
      "pandas version: 0.22.0\n",
      "matplotlib version: 2.1.2\n",
      "NumPy version: 1.12.1\n",
      "SciPy version: 1.0.0\n",
      "IPython version: 6.2.1\n",
      "scikit-learn version: 0.19.1\n",
      "seaborn version: 0.8.1\n",
      "-------------------------\n"
     ]
    }
   ],
   "source": [
    "# This Python 3 environment comes with many helpful analytics libraries installed\n",
    "# It is defined by the kaggle/python docker image: https://github.com/kaggle/docker-python\n",
    "\n",
    "#load packages\n",
    "import sys #access to system parameters https://docs.python.org/3/library/sys.html\n",
    "print(\"Python version: {}\". format(sys.version))\n",
    "\n",
    "import pandas as pd #collection of functions for data processing and analysis modeled after R dataframes with SQL like features\n",
    "print(\"pandas version: {}\". format(pd.__version__))\n",
    "\n",
    "import matplotlib #collection of functions for scientific and publication-ready visualization\n",
    "print(\"matplotlib version: {}\". format(matplotlib.__version__))\n",
    "\n",
    "import numpy as np #foundational package for scientific computing\n",
    "print(\"NumPy version: {}\". format(np.__version__))\n",
    "\n",
    "import scipy as sp #collection of functions for scientific computing and advance mathematics\n",
    "print(\"SciPy version: {}\". format(sp.__version__)) \n",
    "\n",
    "import IPython\n",
    "from IPython import display #pretty printing of dataframes in Jupyter notebook\n",
    "print(\"IPython version: {}\". format(IPython.__version__)) \n",
    "\n",
    "import sklearn #collection of machine learning algorithms\n",
    "print(\"scikit-learn version: {}\". format(sklearn.__version__))\n",
    "\n",
    "import seaborn as sns\n",
    "print(\"seaborn version: {}\". format(sns.__version__))\n",
    "\n",
    "#misc libraries\n",
    "import time\n",
    "import random as rnd\n",
    "import os, gc\n",
    "\n",
    "#ignore warnings\n",
    "import warnings\n",
    "warnings.filterwarnings('ignore')\n",
    "print('-'*25)"
   ]
  },
  {
   "cell_type": "markdown",
   "metadata": {},
   "source": [
    "Moi j'ai ça:\n",
    "\n",
    "Python version: 3.6.3 |Anaconda custom (64-bit)| (default, Oct 15 2017, 03:27:45) [MSC v.1900 64 bit (AMD64)]\n",
    "\n",
    "pandas version: 0.22.0\n",
    "\n",
    "matplotlib version: 2.1.2\n",
    "\n",
    "NumPy version: 1.12.1\n",
    "\n",
    "SciPy version: 1.0.0\n",
    "\n",
    "IPython version: 6.2.1\n",
    "\n",
    "scikit-learn version: 0.19.1\n",
    "\n",
    "seaborn version: 0.8.1\n"
   ]
  },
  {
   "cell_type": "code",
   "execution_count": 2,
   "metadata": {},
   "outputs": [
    {
     "data": {
      "text/html": [
       "<div id=\"my_id_menu_nb\">run previous cell, wait for 2 seconds</div>\n",
       "<script>\n",
       "function repeat_indent_string(n){\n",
       "    var a = \"\" ;\n",
       "    for ( ; n > 0 ; --n)\n",
       "        a += \"    \";\n",
       "    return a;\n",
       "}\n",
       "var update_menu_string = function(begin, lfirst, llast, sformat, send, keep_item, begin_format, end_format) {\n",
       "    var anchors = document.getElementsByClassName(\"section\");\n",
       "    if (anchors.length == 0) {\n",
       "        anchors = document.getElementsByClassName(\"text_cell_render rendered_html\");\n",
       "    }\n",
       "    var i,t;\n",
       "    var text_menu = begin;\n",
       "    var text_memo = \"<pre>\\nlength:\" + anchors.length + \"\\n\";\n",
       "    var ind = \"\";\n",
       "    var memo_level = 1;\n",
       "    var href;\n",
       "    var tags = [];\n",
       "    var main_item = 0;\n",
       "    var format_open = 0;\n",
       "    for (i = 0; i <= llast; i++)\n",
       "        tags.push(\"h\" + i);\n",
       "\n",
       "    for (i = 0; i < anchors.length; i++) {\n",
       "        text_memo += \"**\" + anchors[i].id + \"--\\n\";\n",
       "\n",
       "        var child = null;\n",
       "        for(t = 0; t < tags.length; t++) {\n",
       "            var r = anchors[i].getElementsByTagName(tags[t]);\n",
       "            if (r.length > 0) {\n",
       "child = r[0];\n",
       "break;\n",
       "            }\n",
       "        }\n",
       "        if (child == null) {\n",
       "            text_memo += \"null\\n\";\n",
       "            continue;\n",
       "        }\n",
       "        if (anchors[i].hasAttribute(\"id\")) {\n",
       "            // when converted in RST\n",
       "            href = anchors[i].id;\n",
       "            text_memo += \"#1-\" + href;\n",
       "            // passer à child suivant (le chercher)\n",
       "        }\n",
       "        else if (child.hasAttribute(\"id\")) {\n",
       "            // in a notebook\n",
       "            href = child.id;\n",
       "            text_memo += \"#2-\" + href;\n",
       "        }\n",
       "        else {\n",
       "            text_memo += \"#3-\" + \"*\" + \"\\n\";\n",
       "            continue;\n",
       "        }\n",
       "        var title = child.textContent;\n",
       "        var level = parseInt(child.tagName.substring(1,2));\n",
       "\n",
       "        text_memo += \"--\" + level + \"?\" + lfirst + \"--\" + title + \"\\n\";\n",
       "\n",
       "        if ((level < lfirst) || (level > llast)) {\n",
       "            continue ;\n",
       "        }\n",
       "        if (title.endsWith('¶')) {\n",
       "            title = title.substring(0,title.length-1).replace(\"<\", \"&lt;\")\n",
       "         .replace(\">\", \"&gt;\").replace(\"&\", \"&amp;\");\n",
       "        }\n",
       "        if (title.length == 0) {\n",
       "            continue;\n",
       "        }\n",
       "\n",
       "        while (level < memo_level) {\n",
       "            text_menu += end_format + \"</ul>\\n\";\n",
       "            format_open -= 1;\n",
       "            memo_level -= 1;\n",
       "        }\n",
       "        if (level == lfirst) {\n",
       "            main_item += 1;\n",
       "        }\n",
       "        if (keep_item != -1 && main_item != keep_item + 1) {\n",
       "            // alert(main_item + \" - \" + level + \" - \" + keep_item);\n",
       "            continue;\n",
       "        }\n",
       "        while (level > memo_level) {\n",
       "            text_menu += \"<ul>\\n\";\n",
       "            memo_level += 1;\n",
       "        }\n",
       "        text_menu += repeat_indent_string(level-2);\n",
       "        text_menu += begin_format + sformat.replace(\"__HREF__\", href).replace(\"__TITLE__\", title);\n",
       "        format_open += 1;\n",
       "    }\n",
       "    while (1 < memo_level) {\n",
       "        text_menu += end_format + \"</ul>\\n\";\n",
       "        memo_level -= 1;\n",
       "        format_open -= 1;\n",
       "    }\n",
       "    text_menu += send;\n",
       "    //text_menu += \"\\n\" + text_memo;\n",
       "\n",
       "    while (format_open > 0) {\n",
       "        text_menu += end_format;\n",
       "        format_open -= 1;\n",
       "    }\n",
       "    return text_menu;\n",
       "};\n",
       "var update_menu = function() {\n",
       "    var sbegin = \"\";\n",
       "    var sformat = '<a href=\"#__HREF__\">__TITLE__</a>';\n",
       "    var send = \"\";\n",
       "    var begin_format = '<li>';\n",
       "    var end_format = '</li>';\n",
       "    var keep_item = -1;\n",
       "    var text_menu = update_menu_string(sbegin, 2, 4, sformat, send, keep_item,\n",
       "       begin_format, end_format);\n",
       "    var menu = document.getElementById(\"my_id_menu_nb\");\n",
       "    menu.innerHTML=text_menu;\n",
       "};\n",
       "window.setTimeout(update_menu,2000);\n",
       "            </script>"
      ],
      "text/plain": [
       "<IPython.core.display.HTML object>"
      ]
     },
     "execution_count": 2,
     "metadata": {},
     "output_type": "execute_result"
    }
   ],
   "source": [
    "# Run \"! pip install jyquickhelper\" dans une cellule si ca ne marche pas la commande suivante\n",
    "from jyquickhelper import add_notebook_menu\n",
    "add_notebook_menu()"
   ]
  },
  {
   "cell_type": "code",
   "execution_count": 3,
   "metadata": {},
   "outputs": [],
   "source": [
    "# To plot pretty figures\n",
    "%matplotlib inline\n",
    "import matplotlib\n",
    "import matplotlib.pyplot as plt\n",
    "plt.rcParams['axes.labelsize'] = 14\n",
    "plt.rcParams['xtick.labelsize'] = 12\n",
    "plt.rcParams['ytick.labelsize'] = 12"
   ]
  },
  {
   "cell_type": "markdown",
   "metadata": {
    "_cell_guid": "6b5dc743-15b1-aac6-405e-081def6ecca1",
    "_uuid": "2d307b99ee3d19da3c1cddf509ed179c21dec94a"
   },
   "source": [
    "## Chargement des données"
   ]
  },
  {
   "cell_type": "code",
   "execution_count": 4,
   "metadata": {},
   "outputs": [],
   "source": [
    "# Where to save the figures\n",
    "PROJECT_ROOT_DIR = \".\"\n",
    "DATA_PROCESSED = os.path.join(PROJECT_ROOT_DIR, \"data_processed\")\n",
    "\n",
    "def load_data(file,data_path=DATA_PROCESSED, sep=','):\n",
    "    csv_path = os.path.join(data_path, file)\n",
    "    return pd.read_csv(csv_path, sep)\n",
    "\n",
    "train_df = load_data(file = \"train_notebook_3.csv\", sep=';');\n",
    "test_df = load_data(file = \"test_notebook_3.csv\", sep=';');\n"
   ]
  },
  {
   "cell_type": "markdown",
   "metadata": {
    "_cell_guid": "3d6188f3-dc82-8ae6-dabd-83e28fcbf10d",
    "_uuid": "79282222056237a52bbbb1dbd831f057f1c23d69"
   },
   "source": [
    "## Analyse des types de données"
   ]
  },
  {
   "cell_type": "code",
   "execution_count": 5,
   "metadata": {
    "_cell_guid": "ce473d29-8d19-76b8-24a4-48c217286e42",
    "_uuid": "ef106f38a00e162a80c523778af6dcc778ccc1c2",
    "scrolled": false
   },
   "outputs": [
    {
     "name": "stdout",
     "output_type": "stream",
     "text": [
      "<class 'pandas.core.frame.DataFrame'>\n",
      "RangeIndex: 100000 entries, 0 to 99999\n",
      "Data columns (total 46 columns):\n",
      "SHIPPING_MODE                 100000 non-null object\n",
      "SHIPPING_PRICE                100000 non-null int64\n",
      "CARD_PAYMENT                  100000 non-null int64\n",
      "COUPON_PAYMENT                100000 non-null int64\n",
      "RSP_PAYMENT                   100000 non-null int64\n",
      "WALLET_PAYMENT                100000 non-null int64\n",
      "PRICECLUB_STATUS              100000 non-null int64\n",
      "REGISTRATION_DATE             100000 non-null int64\n",
      "PURCHASE_COUNT                100000 non-null int64\n",
      "BUYER_BIRTHDAY_DATE           100000 non-null float64\n",
      "BUYING_DATE                   100000 non-null int64\n",
      "SELLER_SCORE_COUNT            100000 non-null int64\n",
      "SELLER_SCORE_AVERAGE          100000 non-null float64\n",
      "SELLER_COUNTRY                100000 non-null object\n",
      "PRODUCT_TYPE                  100000 non-null object\n",
      "PRODUCT_FAMILY                100000 non-null object\n",
      "ITEM_PRICE                    100000 non-null int64\n",
      "CLAIM_TYPE                    100000 non-null object\n",
      "WARRANTY_COV_RATE             100000 non-null float64\n",
      "SELLER_COUNTRY_GINI           100000 non-null int64\n",
      "SELLER_COUNTRY_PIB            100000 non-null int64\n",
      "SELLER_COUNTRY_DISTANCE       100000 non-null int64\n",
      "BUYER_DEPARTMENT_DENSITY      100000 non-null int64\n",
      "SELLER_DEPARTMENT_DENSITY     100000 non-null int64\n",
      "BUYER_DEPARTMENT_PIB          100000 non-null int64\n",
      "SELLER_DEPARTMENT_PIB         100000 non-null int64\n",
      "BUYER_DEPARTMENT_Life_Lvl     100000 non-null int64\n",
      "SELLER_DEPARTMENT_Life_Lvl    100000 non-null int64\n",
      "BUYER_DEPARTMENT_interD       100000 non-null float64\n",
      "SELLER_DEPARTMENT_interD      100000 non-null float64\n",
      "BUYER_DEPARTMENT_Pov          100000 non-null float64\n",
      "SELLER_DEPARTMENT_Pov         100000 non-null float64\n",
      "BUYER_DEPARTMENT_min_soc      100000 non-null float64\n",
      "SELLER_DEPARTMENT_min_soc     100000 non-null float64\n",
      "BUYER_DEPARTMENT_atk          100000 non-null float64\n",
      "SELLER_DEPARTMENT_atk         100000 non-null float64\n",
      "BUYER_DEPARTMENT_cmb          100000 non-null float64\n",
      "SELLER_DEPARTMENT_cmb         100000 non-null float64\n",
      "CAC_POINTS                    100000 non-null int64\n",
      "CAC_VAR                       100000 non-null int64\n",
      "IS_HOLIDAYS                   100000 non-null int64\n",
      "Mean_Claims_Sells_ID          100000 non-null float64\n",
      "STD_Claims_Sells_ID           100000 non-null float64\n",
      "Count_PRODUCT_TYPE            100000 non-null float64\n",
      "Mean_Claims_PRODUCT_TYPE      100000 non-null float64\n",
      "STD_Claims_PRODUCT_TYPE       100000 non-null float64\n",
      "dtypes: float64(18), int64(23), object(5)\n",
      "memory usage: 35.1+ MB\n"
     ]
    }
   ],
   "source": [
    "train_df.info()"
   ]
  },
  {
   "cell_type": "markdown",
   "metadata": {},
   "source": [
    "## Plan d'action\n",
    "\n",
    "Comme je suis newbie dans l'imbalanced, on va procéder par étape:\n",
    "\n",
    "1. Test de l'oversampling avec SMOTE puis ADASYN\n",
    "\n",
    "2. Combinaison de l'over et under sampling\n",
    "\n",
    "3. Ensemble of samplers"
   ]
  },
  {
   "cell_type": "markdown",
   "metadata": {},
   "source": [
    "### Test de l'oversampling avec SMOTE puis ADASYN"
   ]
  },
  {
   "cell_type": "markdown",
   "metadata": {},
   "source": [
    "While the `RandomOverSampler` is over-sampling by duplicating some of the original samples of the minority class, `SMOTE` and `ADASYN` generate new samples in by interpolation. \n",
    "\n",
    "However, the samples used to interpolate/generate new synthetic samples differ. In fact, `ADASYN` focuses on generating samples next to the original samples which are wrongly classified using a `k-Nearest Neighbors` classifier while the basic implementation of `SMOTE` will not make any distinction between easy and hard samples to be classified using the nearest neighbors rule. \n",
    "\n",
    "Therefore, the decision function found during training will be different among the algorithms."
   ]
  },
  {
   "cell_type": "code",
   "execution_count": 6,
   "metadata": {},
   "outputs": [],
   "source": [
    "from imblearn.over_sampling import SMOTE, ADASYN"
   ]
  },
  {
   "cell_type": "code",
   "execution_count": 7,
   "metadata": {},
   "outputs": [],
   "source": [
    "from sklearn.preprocessing import LabelEncoder"
   ]
  },
  {
   "cell_type": "code",
   "execution_count": 8,
   "metadata": {},
   "outputs": [],
   "source": [
    "y=train_df[\"CLAIM_TYPE\"]\n",
    "\n",
    "X=train_df.drop(\"CLAIM_TYPE\", axis=1, inplace=False)"
   ]
  },
  {
   "cell_type": "code",
   "execution_count": 9,
   "metadata": {},
   "outputs": [],
   "source": [
    "le_SHIPPING_MODE = LabelEncoder()\n",
    "X.SHIPPING_MODE=le_SHIPPING_MODE.fit_transform(X.SHIPPING_MODE)\n",
    "\n",
    "le_SELLER_COUNTRY = LabelEncoder()\n",
    "X.SELLER_COUNTRY=le_SELLER_COUNTRY.fit_transform(X.SELLER_COUNTRY)\n",
    "\n",
    "le_PRODUCT_TYPE = LabelEncoder()\n",
    "X.PRODUCT_TYPE=le_PRODUCT_TYPE.fit_transform(X.PRODUCT_TYPE)\n",
    "\n",
    "le_PRODUCT_FAMILY = LabelEncoder()\n",
    "X.PRODUCT_FAMILY=le_PRODUCT_FAMILY.fit_transform(X.PRODUCT_FAMILY)"
   ]
  },
  {
   "cell_type": "code",
   "execution_count": 10,
   "metadata": {},
   "outputs": [
    {
     "data": {
      "text/plain": [
       "(100000, 45)"
      ]
     },
     "execution_count": 10,
     "metadata": {},
     "output_type": "execute_result"
    }
   ],
   "source": [
    "X.shape"
   ]
  },
  {
   "cell_type": "code",
   "execution_count": 11,
   "metadata": {},
   "outputs": [
    {
     "data": {
      "text/plain": [
       "-                           49977\n",
       "NOT_RECEIVED                14808\n",
       "SELLER_CANCEL_POSTERIORI    13782\n",
       "WITHDRAWAL                   7001\n",
       "DAMAGED                      5922\n",
       "DIFFERENT                    4279\n",
       "UNDEFINED                    4066\n",
       "FAKE                          165\n",
       "Name: CLAIM_TYPE, dtype: int64"
      ]
     },
     "execution_count": 11,
     "metadata": {},
     "output_type": "execute_result"
    }
   ],
   "source": [
    "y.value_counts()"
   ]
  },
  {
   "cell_type": "code",
   "execution_count": 12,
   "metadata": {},
   "outputs": [],
   "source": [
    "X_resampled, y_resampled = SMOTE().fit_sample(X, y)"
   ]
  },
  {
   "cell_type": "code",
   "execution_count": 13,
   "metadata": {},
   "outputs": [],
   "source": [
    "X_resampled = pd.DataFrame(X_resampled, columns=X.columns)\n",
    "y_resampled = pd.Series(y_resampled, name=\"CLAIM_TYPE\")"
   ]
  },
  {
   "cell_type": "code",
   "execution_count": 14,
   "metadata": {},
   "outputs": [
    {
     "data": {
      "text/plain": [
       "(399816, 45)"
      ]
     },
     "execution_count": 14,
     "metadata": {},
     "output_type": "execute_result"
    }
   ],
   "source": [
    "X_resampled.shape"
   ]
  },
  {
   "cell_type": "code",
   "execution_count": 15,
   "metadata": {},
   "outputs": [
    {
     "data": {
      "text/plain": [
       "SELLER_CANCEL_POSTERIORI    49977\n",
       "WITHDRAWAL                  49977\n",
       "DIFFERENT                   49977\n",
       "UNDEFINED                   49977\n",
       "-                           49977\n",
       "NOT_RECEIVED                49977\n",
       "DAMAGED                     49977\n",
       "FAKE                        49977\n",
       "Name: CLAIM_TYPE, dtype: int64"
      ]
     },
     "execution_count": 15,
     "metadata": {},
     "output_type": "execute_result"
    }
   ],
   "source": [
    "y_resampled.value_counts()"
   ]
  },
  {
   "cell_type": "code",
   "execution_count": 16,
   "metadata": {},
   "outputs": [
    {
     "name": "stdout",
     "output_type": "stream",
     "text": [
      "<class 'pandas.core.frame.DataFrame'>\n",
      "RangeIndex: 399816 entries, 0 to 399815\n",
      "Data columns (total 45 columns):\n",
      "SHIPPING_MODE                 399816 non-null float64\n",
      "SHIPPING_PRICE                399816 non-null float64\n",
      "CARD_PAYMENT                  399816 non-null float64\n",
      "COUPON_PAYMENT                399816 non-null float64\n",
      "RSP_PAYMENT                   399816 non-null float64\n",
      "WALLET_PAYMENT                399816 non-null float64\n",
      "PRICECLUB_STATUS              399816 non-null float64\n",
      "REGISTRATION_DATE             399816 non-null float64\n",
      "PURCHASE_COUNT                399816 non-null float64\n",
      "BUYER_BIRTHDAY_DATE           399816 non-null float64\n",
      "BUYING_DATE                   399816 non-null float64\n",
      "SELLER_SCORE_COUNT            399816 non-null float64\n",
      "SELLER_SCORE_AVERAGE          399816 non-null float64\n",
      "SELLER_COUNTRY                399816 non-null float64\n",
      "PRODUCT_TYPE                  399816 non-null float64\n",
      "PRODUCT_FAMILY                399816 non-null float64\n",
      "ITEM_PRICE                    399816 non-null float64\n",
      "WARRANTY_COV_RATE             399816 non-null float64\n",
      "SELLER_COUNTRY_GINI           399816 non-null float64\n",
      "SELLER_COUNTRY_PIB            399816 non-null float64\n",
      "SELLER_COUNTRY_DISTANCE       399816 non-null float64\n",
      "BUYER_DEPARTMENT_DENSITY      399816 non-null float64\n",
      "SELLER_DEPARTMENT_DENSITY     399816 non-null float64\n",
      "BUYER_DEPARTMENT_PIB          399816 non-null float64\n",
      "SELLER_DEPARTMENT_PIB         399816 non-null float64\n",
      "BUYER_DEPARTMENT_Life_Lvl     399816 non-null float64\n",
      "SELLER_DEPARTMENT_Life_Lvl    399816 non-null float64\n",
      "BUYER_DEPARTMENT_interD       399816 non-null float64\n",
      "SELLER_DEPARTMENT_interD      399816 non-null float64\n",
      "BUYER_DEPARTMENT_Pov          399816 non-null float64\n",
      "SELLER_DEPARTMENT_Pov         399816 non-null float64\n",
      "BUYER_DEPARTMENT_min_soc      399816 non-null float64\n",
      "SELLER_DEPARTMENT_min_soc     399816 non-null float64\n",
      "BUYER_DEPARTMENT_atk          399816 non-null float64\n",
      "SELLER_DEPARTMENT_atk         399816 non-null float64\n",
      "BUYER_DEPARTMENT_cmb          399816 non-null float64\n",
      "SELLER_DEPARTMENT_cmb         399816 non-null float64\n",
      "CAC_POINTS                    399816 non-null float64\n",
      "CAC_VAR                       399816 non-null float64\n",
      "IS_HOLIDAYS                   399816 non-null float64\n",
      "Mean_Claims_Sells_ID          399816 non-null float64\n",
      "STD_Claims_Sells_ID           399816 non-null float64\n",
      "Count_PRODUCT_TYPE            399816 non-null float64\n",
      "Mean_Claims_PRODUCT_TYPE      399816 non-null float64\n",
      "STD_Claims_PRODUCT_TYPE       399816 non-null float64\n",
      "dtypes: float64(45)\n",
      "memory usage: 137.3 MB\n"
     ]
    }
   ],
   "source": [
    "X_resampled.info()"
   ]
  },
  {
   "cell_type": "markdown",
   "metadata": {},
   "source": [
    "Magnifique, on a des classes biens equilibrées, mais je n'ai aucune idée si c'est un bon sampling ou pas.\n",
    "\n",
    "On a qu'a dire que oui, de toute façon, ça fait la baseline de l'oversampling. Maintenant on remet les classes comme il faut."
   ]
  },
  {
   "cell_type": "code",
   "execution_count": 17,
   "metadata": {},
   "outputs": [],
   "source": [
    "X_resampled['SHIPPING_MODE']=le_SHIPPING_MODE.inverse_transform(X_resampled['SHIPPING_MODE'].round().astype(int))\n",
    "\n",
    "\n",
    "X_resampled['SELLER_COUNTRY']=le_SELLER_COUNTRY.inverse_transform(X_resampled.SELLER_COUNTRY.round().astype(int))\n",
    "\n",
    "\n",
    "X_resampled['PRODUCT_TYPE']=le_PRODUCT_TYPE.inverse_transform(X_resampled.PRODUCT_TYPE.round().astype(int))\n",
    "\n",
    "\n",
    "X_resampled['PRODUCT_FAMILY']=le_PRODUCT_FAMILY.inverse_transform(X_resampled.PRODUCT_FAMILY.round().astype(int))"
   ]
  },
  {
   "cell_type": "code",
   "execution_count": 18,
   "metadata": {},
   "outputs": [],
   "source": [
    "X_resampled[\"CLAIM_TYPE\"]=y_resampled"
   ]
  },
  {
   "cell_type": "code",
   "execution_count": 19,
   "metadata": {},
   "outputs": [
    {
     "name": "stdout",
     "output_type": "stream",
     "text": [
      "<class 'pandas.core.frame.DataFrame'>\n",
      "RangeIndex: 399816 entries, 0 to 399815\n",
      "Data columns (total 46 columns):\n",
      "SHIPPING_MODE                 399816 non-null object\n",
      "SHIPPING_PRICE                399816 non-null float64\n",
      "CARD_PAYMENT                  399816 non-null float64\n",
      "COUPON_PAYMENT                399816 non-null float64\n",
      "RSP_PAYMENT                   399816 non-null float64\n",
      "WALLET_PAYMENT                399816 non-null float64\n",
      "PRICECLUB_STATUS              399816 non-null float64\n",
      "REGISTRATION_DATE             399816 non-null float64\n",
      "PURCHASE_COUNT                399816 non-null float64\n",
      "BUYER_BIRTHDAY_DATE           399816 non-null float64\n",
      "BUYING_DATE                   399816 non-null float64\n",
      "SELLER_SCORE_COUNT            399816 non-null float64\n",
      "SELLER_SCORE_AVERAGE          399816 non-null float64\n",
      "SELLER_COUNTRY                399816 non-null object\n",
      "PRODUCT_TYPE                  399816 non-null object\n",
      "PRODUCT_FAMILY                399816 non-null object\n",
      "ITEM_PRICE                    399816 non-null float64\n",
      "WARRANTY_COV_RATE             399816 non-null float64\n",
      "SELLER_COUNTRY_GINI           399816 non-null float64\n",
      "SELLER_COUNTRY_PIB            399816 non-null float64\n",
      "SELLER_COUNTRY_DISTANCE       399816 non-null float64\n",
      "BUYER_DEPARTMENT_DENSITY      399816 non-null float64\n",
      "SELLER_DEPARTMENT_DENSITY     399816 non-null float64\n",
      "BUYER_DEPARTMENT_PIB          399816 non-null float64\n",
      "SELLER_DEPARTMENT_PIB         399816 non-null float64\n",
      "BUYER_DEPARTMENT_Life_Lvl     399816 non-null float64\n",
      "SELLER_DEPARTMENT_Life_Lvl    399816 non-null float64\n",
      "BUYER_DEPARTMENT_interD       399816 non-null float64\n",
      "SELLER_DEPARTMENT_interD      399816 non-null float64\n",
      "BUYER_DEPARTMENT_Pov          399816 non-null float64\n",
      "SELLER_DEPARTMENT_Pov         399816 non-null float64\n",
      "BUYER_DEPARTMENT_min_soc      399816 non-null float64\n",
      "SELLER_DEPARTMENT_min_soc     399816 non-null float64\n",
      "BUYER_DEPARTMENT_atk          399816 non-null float64\n",
      "SELLER_DEPARTMENT_atk         399816 non-null float64\n",
      "BUYER_DEPARTMENT_cmb          399816 non-null float64\n",
      "SELLER_DEPARTMENT_cmb         399816 non-null float64\n",
      "CAC_POINTS                    399816 non-null float64\n",
      "CAC_VAR                       399816 non-null float64\n",
      "IS_HOLIDAYS                   399816 non-null float64\n",
      "Mean_Claims_Sells_ID          399816 non-null float64\n",
      "STD_Claims_Sells_ID           399816 non-null float64\n",
      "Count_PRODUCT_TYPE            399816 non-null float64\n",
      "Mean_Claims_PRODUCT_TYPE      399816 non-null float64\n",
      "STD_Claims_PRODUCT_TYPE       399816 non-null float64\n",
      "CLAIM_TYPE                    399816 non-null object\n",
      "dtypes: float64(41), object(5)\n",
      "memory usage: 140.3+ MB\n"
     ]
    }
   ],
   "source": [
    "X_resampled.info()"
   ]
  },
  {
   "cell_type": "markdown",
   "metadata": {},
   "source": [
    "On inscrit nos résultats"
   ]
  },
  {
   "cell_type": "code",
   "execution_count": 20,
   "metadata": {},
   "outputs": [],
   "source": [
    "filename_train_balanced = DATA_PROCESSED+\"/train_balanced.csv\"\n",
    "filename_train = DATA_PROCESSED+\"/train.csv\"\n",
    "filename_test = DATA_PROCESSED+\"/test.csv\"\n",
    "\n",
    "try:\n",
    "    os.remove(filename_train)\n",
    "    os.remove(filename_test)\n",
    "    os.remove(filename_train_balanced)\n",
    "except:\n",
    "    pass;\n",
    "\n",
    "X_resampled.to_csv(filename_train_balanced, index=False, sep=\";\")\n",
    "train_df.to_csv(filename_train, index=False, sep=\";\")\n",
    "test_df.to_csv(filename_test, index=False, sep=\";\")"
   ]
  }
 ],
 "metadata": {
  "_change_revision": 0,
  "_is_fork": false,
  "kernelspec": {
   "display_name": "Python 3",
   "language": "python",
   "name": "python3"
  },
  "language_info": {
   "codemirror_mode": {
    "name": "ipython",
    "version": 3
   },
   "file_extension": ".py",
   "mimetype": "text/x-python",
   "name": "python",
   "nbconvert_exporter": "python",
   "pygments_lexer": "ipython3",
   "version": "3.6.3"
  }
 },
 "nbformat": 4,
 "nbformat_minor": 1
}
